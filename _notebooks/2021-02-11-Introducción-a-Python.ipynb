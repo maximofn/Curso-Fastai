{
  "nbformat": 4,
  "nbformat_minor": 0,
  "metadata": {
    "colab": {
      "name": "2021-02-11-Introducción-a-Python.ipynb",
      "provenance": [],
      "collapsed_sections": [],
      "toc_visible": true,
      "authorship_tag": "ABX9TyMKnDGb2Ikwm1E2he28ykr+"
    },
    "kernelspec": {
      "name": "python3",
      "display_name": "Python 3"
    }
  },
  "cells": [
    {
      "cell_type": "markdown",
      "metadata": {
        "id": "dsaKCKL0IxZl"
      },
      "source": [
        "# Introducción a Python\n",
        "> Una breve introducción al lenguaje de programación Python\n",
        "\n",
        "- toc: true \n",
        "- badges: true\n",
        "- comments: true\n",
        "- categories: [deepmaxfn, python]\n",
        "- image: images/icon-python.png"
      ]
    },
    {
      "cell_type": "markdown",
      "metadata": {
        "id": "Ho_8zgIiI0We"
      },
      "source": [
        "## 1. Resumen"
      ]
    },
    {
      "cell_type": "markdown",
      "metadata": {
        "id": "tT4POPIFNU9M"
      },
      "source": [
        "Vamos a hacer una breve introducción a Python, explicando los tipos de datos que tenemos, los operadores, el uso de funciones y de clases. Además veremos cómo usar los objetos iterables, cómo usar módulos, etc.\n",
        "\n",
        "![python](https://openwhisk.apache.org/images/runtimes/icon-python-text-color-horz.png)"
      ]
    },
    {
      "cell_type": "markdown",
      "metadata": {
        "id": "bVHYziwKQRnG"
      },
      "source": [
        "## 2. Tipos de datos de Python"
      ]
    },
    {
      "cell_type": "markdown",
      "metadata": {
        "id": "y-u-BTORQUwq"
      },
      "source": [
        "Existen 7 tipos de datos en Python\n",
        "\n",
        "\n",
        "\n",
        "1. De tipo texto:`str`\n",
        "2. Numéricos:`int`, `float`, `complex`\n",
        "3. Secuencias: `list`, `tuple`, `range`\n",
        "4. Mapping: `dict`\n",
        "5. Sets: `set`, `frozenset`\n",
        "6. Booleanos: `bool`\n",
        "7. Binarios: `bytes`, `bytearray`, `memoryview`\n",
        "\n"
      ]
    },
    {
      "cell_type": "markdown",
      "metadata": {
        "id": "f4uMzcu5a5qJ"
      },
      "source": [
        "Podemos obtener el tipo de dato mediante la función `type()`"
      ]
    },
    {
      "cell_type": "code",
      "metadata": {
        "colab": {
          "base_uri": "https://localhost:8080/"
        },
        "id": "Py_OA6f6a-vg",
        "outputId": "055be1f0-47a4-416b-d6f3-edc1ca386ffe"
      },
      "source": [
        "type(5.)"
      ],
      "execution_count": null,
      "outputs": [
        {
          "output_type": "execute_result",
          "data": {
            "text/plain": [
              "float"
            ]
          },
          "metadata": {
            "tags": []
          },
          "execution_count": 1
        }
      ]
    },
    {
      "cell_type": "markdown",
      "metadata": {
        "id": "oLmx_2SObIka"
      },
      "source": [
        "Python es un lenguaje de tipado dinámico, es decir puedes tener una variable de un tipo y luego asignarle otro tipo"
      ]
    },
    {
      "cell_type": "code",
      "metadata": {
        "colab": {
          "base_uri": "https://localhost:8080/"
        },
        "id": "jTV1z1JGbQGA",
        "outputId": "97556282-a52a-4693-a951-2d8ee360fe9c"
      },
      "source": [
        "a = 5\n",
        "type(a)"
      ],
      "execution_count": null,
      "outputs": [
        {
          "output_type": "execute_result",
          "data": {
            "text/plain": [
              "int"
            ]
          },
          "metadata": {
            "tags": []
          },
          "execution_count": 2
        }
      ]
    },
    {
      "cell_type": "code",
      "metadata": {
        "colab": {
          "base_uri": "https://localhost:8080/"
        },
        "id": "7S5eSnqBbTEC",
        "outputId": "b4b400e3-f3fb-4984-bf6e-66019f91a926"
      },
      "source": [
        "a = 'DeepMaxFn'\n",
        "type(a)"
      ],
      "execution_count": null,
      "outputs": [
        {
          "output_type": "execute_result",
          "data": {
            "text/plain": [
              "str"
            ]
          },
          "metadata": {
            "tags": []
          },
          "execution_count": 3
        }
      ]
    },
    {
      "cell_type": "markdown",
      "metadata": {
        "id": "TQx6S0jwbYiz"
      },
      "source": [
        "Python tipa las variables por ti, pero si las quieres tipar tu se puede hacer"
      ]
    },
    {
      "cell_type": "code",
      "metadata": {
        "colab": {
          "base_uri": "https://localhost:8080/"
        },
        "id": "TwGUvyslbdZG",
        "outputId": "dff3a646-e9be-4978-9927-2b4efd139f82"
      },
      "source": [
        "b = int(5.1)\n",
        "type(b), b"
      ],
      "execution_count": null,
      "outputs": [
        {
          "output_type": "execute_result",
          "data": {
            "text/plain": [
              "(int, 5)"
            ]
          },
          "metadata": {
            "tags": []
          },
          "execution_count": 4
        }
      ]
    },
    {
      "cell_type": "markdown",
      "metadata": {
        "id": "66LM7aCxbmrv"
      },
      "source": [
        "Aunque `b` se ha inicializado como `5.1`, es decir, debería ser de tipo `float`, al tiparlo nosotros a tipo `int`, vemos que es de tipo `int` y además su valor es `5`"
      ]
    },
    {
      "cell_type": "markdown",
      "metadata": {
        "id": "Hjo7Gcv9ST6X"
      },
      "source": [
        "### 2.1. Strings"
      ]
    },
    {
      "cell_type": "markdown",
      "metadata": {
        "id": "D0u3XwpxS4g4"
      },
      "source": [
        "Los `strings` son cadenas de caracteres, estos se pueden definir con doble comilla `\"` o comilla simple `'`"
      ]
    },
    {
      "cell_type": "code",
      "metadata": {
        "colab": {
          "base_uri": "https://localhost:8080/",
          "height": 35
        },
        "id": "LxTlUwWdSmQW",
        "outputId": "7176dfb7-4547-4bc8-c3be-781c85dacd63"
      },
      "source": [
        "string = \"DeepMaxFn\"\n",
        "string"
      ],
      "execution_count": null,
      "outputs": [
        {
          "output_type": "execute_result",
          "data": {
            "application/vnd.google.colaboratory.intrinsic+json": {
              "type": "string"
            },
            "text/plain": [
              "'DeepMaxFn'"
            ]
          },
          "metadata": {
            "tags": []
          },
          "execution_count": 5
        }
      ]
    },
    {
      "cell_type": "code",
      "metadata": {
        "colab": {
          "base_uri": "https://localhost:8080/",
          "height": 35
        },
        "id": "JUGeuIjLTLTt",
        "outputId": "4ab21a3e-ce0c-4d29-fd39-f977fe37ebb5"
      },
      "source": [
        "string = 'DeepMaxFn'\n",
        "string"
      ],
      "execution_count": null,
      "outputs": [
        {
          "output_type": "execute_result",
          "data": {
            "application/vnd.google.colaboratory.intrinsic+json": {
              "type": "string"
            },
            "text/plain": [
              "'DeepMaxFn'"
            ]
          },
          "metadata": {
            "tags": []
          },
          "execution_count": 6
        }
      ]
    },
    {
      "cell_type": "markdown",
      "metadata": {
        "id": "Ksz8_W3mThHM"
      },
      "source": [
        "Para escribir un `string` muy largo y no tener una fila que ocupe mucho espacio se puede introducir en varias lineas"
      ]
    },
    {
      "cell_type": "code",
      "metadata": {
        "colab": {
          "base_uri": "https://localhost:8080/",
          "height": 35
        },
        "id": "AxZS5ie5TOOa",
        "outputId": "593f737e-fb0e-4f36-b524-c6cf6d4a8eea"
      },
      "source": [
        "string = \"\"\"Este es un ejemplo de\n",
        "como estoy introduciendo un string\n",
        "en varias lineas\"\"\"\n",
        "string"
      ],
      "execution_count": null,
      "outputs": [
        {
          "output_type": "execute_result",
          "data": {
            "application/vnd.google.colaboratory.intrinsic+json": {
              "type": "string"
            },
            "text/plain": [
              "'Este es un ejemplo de\\ncomo estoy introduciendo un string\\nen varias lineas'"
            ]
          },
          "metadata": {
            "tags": []
          },
          "execution_count": 7
        }
      ]
    },
    {
      "cell_type": "code",
      "metadata": {
        "colab": {
          "base_uri": "https://localhost:8080/",
          "height": 35
        },
        "id": "6gpYdZBxTxuZ",
        "outputId": "5f755c2d-e535-4b66-cd3f-8a6a09eca980"
      },
      "source": [
        "string = '''Este es un ejemplo de\n",
        "como estoy introduciendo un string\n",
        "en varias lineas'''\n",
        "string"
      ],
      "execution_count": null,
      "outputs": [
        {
          "output_type": "execute_result",
          "data": {
            "application/vnd.google.colaboratory.intrinsic+json": {
              "type": "string"
            },
            "text/plain": [
              "'Este es un ejemplo de\\ncomo estoy introduciendo un string\\nen varias lineas'"
            ]
          },
          "metadata": {
            "tags": []
          },
          "execution_count": 8
        }
      ]
    },
    {
      "cell_type": "markdown",
      "metadata": {
        "id": "ZKUxEuzeUDeu"
      },
      "source": [
        "Sin embargo vemos que en medio ha metido el caracter `\\n`, este caracter indica el salto de linea. Si usamos la función `print()` veremos como ya no aparece"
      ]
    },
    {
      "cell_type": "code",
      "metadata": {
        "colab": {
          "base_uri": "https://localhost:8080/"
        },
        "id": "pNJmfstQT4sp",
        "outputId": "b8c662e4-7ef3-4faa-d98c-89c073fef077"
      },
      "source": [
        "print(string)"
      ],
      "execution_count": null,
      "outputs": [
        {
          "output_type": "stream",
          "text": [
            "Este es un ejemplo de\n",
            "como estoy introduciendo un string\n",
            "en varias lineas\n"
          ],
          "name": "stdout"
        }
      ]
    },
    {
      "cell_type": "markdown",
      "metadata": {
        "id": "IyX_CpSCUZhD"
      },
      "source": [
        "Como hemos dicho los strings son cadenas de caracteres, por lo que podemos navegar e iterar a traves de ellos"
      ]
    },
    {
      "cell_type": "code",
      "metadata": {
        "colab": {
          "base_uri": "https://localhost:8080/"
        },
        "id": "fePQ_RHVUQVk",
        "outputId": "08df41ca-1ef2-46ce-bfe9-db5ca559c4ab"
      },
      "source": [
        "for i in range(10):\n",
        "  # Se indica a la función print que cuando imprima no termine con un salto de \n",
        "  # linea para escribir todo en la misma linea\n",
        "  print(string[i], end='')"
      ],
      "execution_count": null,
      "outputs": [
        {
          "output_type": "stream",
          "text": [
            "Este es un"
          ],
          "name": "stdout"
        }
      ]
    },
    {
      "cell_type": "markdown",
      "metadata": {
        "id": "L2f5ZHA0Vaas"
      },
      "source": [
        "Podemos obtener la longitud de nuestro string mediante la función `len()`"
      ]
    },
    {
      "cell_type": "code",
      "metadata": {
        "colab": {
          "base_uri": "https://localhost:8080/"
        },
        "id": "F4_iYrxNUiQD",
        "outputId": "c883cc64-feaf-4700-ed76-a1e7bb9e4729"
      },
      "source": [
        "len(string)"
      ],
      "execution_count": null,
      "outputs": [
        {
          "output_type": "execute_result",
          "data": {
            "text/plain": [
              "73"
            ]
          },
          "metadata": {
            "tags": []
          },
          "execution_count": 12
        }
      ]
    },
    {
      "cell_type": "markdown",
      "metadata": {
        "id": "sTD9lUv0Vm9C"
      },
      "source": [
        "Checkear si hay ulgun string determinado dentro del nuestro"
      ]
    },
    {
      "cell_type": "code",
      "metadata": {
        "colab": {
          "base_uri": "https://localhost:8080/"
        },
        "id": "OTDxGBOQVhU2",
        "outputId": "de56c1c9-acc6-45aa-e5a2-90668e4f82b9"
      },
      "source": [
        "'ejemplo' in string"
      ],
      "execution_count": null,
      "outputs": [
        {
          "output_type": "execute_result",
          "data": {
            "text/plain": [
              "True"
            ]
          },
          "metadata": {
            "tags": []
          },
          "execution_count": 13
        }
      ]
    },
    {
      "cell_type": "markdown",
      "metadata": {
        "id": "VTgQl9DVnSxo"
      },
      "source": [
        "Los strings tienen ciertos atributos útiles, como poner todo en mayusculas"
      ]
    },
    {
      "cell_type": "code",
      "metadata": {
        "colab": {
          "base_uri": "https://localhost:8080/"
        },
        "id": "FId4-4wIV0xt",
        "outputId": "71724ec6-2d3f-49e1-951b-e9cc18a83d51"
      },
      "source": [
        "print(string.upper())"
      ],
      "execution_count": null,
      "outputs": [
        {
          "output_type": "stream",
          "text": [
            "ESTE ES UN EJEMPLO DE\n",
            "COMO ESTOY INTRODUCIENDO UN STRING\n",
            "EN VARIAS LINEAS\n"
          ],
          "name": "stdout"
        }
      ]
    },
    {
      "cell_type": "markdown",
      "metadata": {
        "id": "8xx2cw5enese"
      },
      "source": [
        "Todo en minúsculas"
      ]
    },
    {
      "cell_type": "code",
      "metadata": {
        "colab": {
          "base_uri": "https://localhost:8080/"
        },
        "id": "w8K3wcOpnbfU",
        "outputId": "8e5c4f61-b358-4b60-9b8f-903348926dd7"
      },
      "source": [
        "print(string.lower())"
      ],
      "execution_count": null,
      "outputs": [
        {
          "output_type": "stream",
          "text": [
            "este es un ejemplo de\n",
            "como estoy introduciendo un string\n",
            "en varias lineas\n"
          ],
          "name": "stdout"
        }
      ]
    },
    {
      "cell_type": "markdown",
      "metadata": {
        "id": "DLky-hJCnm0c"
      },
      "source": [
        "Reemplazar caracteres"
      ]
    },
    {
      "cell_type": "code",
      "metadata": {
        "colab": {
          "base_uri": "https://localhost:8080/"
        },
        "id": "xqZ0Tyqenpf5",
        "outputId": "eb3c8a82-d93a-467c-b2ee-01e2cab7c43f"
      },
      "source": [
        "print(string.replace('o', '@'))"
      ],
      "execution_count": null,
      "outputs": [
        {
          "output_type": "stream",
          "text": [
            "Este es un ejempl@ de\n",
            "c@m@ est@y intr@duciend@ un string\n",
            "en varias lineas\n"
          ],
          "name": "stdout"
        }
      ]
    },
    {
      "cell_type": "markdown",
      "metadata": {
        "id": "MxsEu_qOoDw0"
      },
      "source": [
        "Obtener todas las palabras"
      ]
    },
    {
      "cell_type": "code",
      "metadata": {
        "colab": {
          "base_uri": "https://localhost:8080/"
        },
        "id": "-Bho5czxniB7",
        "outputId": "32e41a34-27d2-4a04-9030-3310973bd655"
      },
      "source": [
        "print(string.split())"
      ],
      "execution_count": null,
      "outputs": [
        {
          "output_type": "stream",
          "text": [
            "['Este', 'es', 'un', 'ejemplo', 'de', 'como', 'estoy', 'introduciendo', 'un', 'string', 'en', 'varias', 'lineas']\n"
          ],
          "name": "stdout"
        }
      ]
    },
    {
      "cell_type": "markdown",
      "metadata": {
        "id": "-c1WeEBnoV44"
      },
      "source": [
        "Puedes ver todos los métodos de los strings en este [enlace](https://www.w3schools.com/python/python_strings_methods.asp)"
      ]
    },
    {
      "cell_type": "markdown",
      "metadata": {
        "id": "1_Ght-7AojrB"
      },
      "source": [
        "Otra cosa util que se puede hacer con los strings es concatenarlos"
      ]
    },
    {
      "cell_type": "code",
      "metadata": {
        "colab": {
          "base_uri": "https://localhost:8080/",
          "height": 35
        },
        "id": "g3UsRCQSoHzJ",
        "outputId": "596fc814-d4e4-408e-d6df-fc20809050f7"
      },
      "source": [
        "string1 = 'DeepMax'\n",
        "string2 = 'Fn'\n",
        "string1 + string2"
      ],
      "execution_count": null,
      "outputs": [
        {
          "output_type": "execute_result",
          "data": {
            "application/vnd.google.colaboratory.intrinsic+json": {
              "type": "string"
            },
            "text/plain": [
              "'DeepMaxFn'"
            ]
          },
          "metadata": {
            "tags": []
          },
          "execution_count": 18
        }
      ]
    },
    {
      "cell_type": "markdown",
      "metadata": {
        "id": "TsPQMJTto29V"
      },
      "source": [
        "Antes explicamos que el caracter `\\n` correspondía a una salto de linea, este caracter especial corresponde a una serie de caracteres especiales llamados `Escape Characters`. Veamos otros"
      ]
    },
    {
      "cell_type": "markdown",
      "metadata": {
        "id": "CZivRY1GpNuS"
      },
      "source": [
        "Si declaramos un string con doble comilla y queremos añadir una doble comilla dentro del string usamos el escape character `\\\"`"
      ]
    },
    {
      "cell_type": "code",
      "metadata": {
        "colab": {
          "base_uri": "https://localhost:8080/"
        },
        "id": "WZhVLbR9ot5v",
        "outputId": "15761a29-700e-4aa7-a51e-ff25ff9af6d9"
      },
      "source": [
        "print(\"Este es el blog de \\\"DeepMaxFn\\\"\")"
      ],
      "execution_count": null,
      "outputs": [
        {
          "output_type": "stream",
          "text": [
            "Este es el blog de \"DeepMaxFn\"\n"
          ],
          "name": "stdout"
        }
      ]
    },
    {
      "cell_type": "markdown",
      "metadata": {
        "id": "KqyQciE5qAf3"
      },
      "source": [
        "Lo mismo con la comilla simple, añadimos `\\'`"
      ]
    },
    {
      "cell_type": "code",
      "metadata": {
        "colab": {
          "base_uri": "https://localhost:8080/"
        },
        "id": "tlv4MFgCqD8a",
        "outputId": "2fb4d4a3-17a1-4322-ecef-f44779c99540"
      },
      "source": [
        "print('Este es el blog de \\'DeepMaxFn\\'')"
      ],
      "execution_count": null,
      "outputs": [
        {
          "output_type": "stream",
          "text": [
            "Este es el blog de 'DeepMaxFn'\n"
          ],
          "name": "stdout"
        }
      ]
    },
    {
      "cell_type": "markdown",
      "metadata": {
        "id": "195gTIStpjFn"
      },
      "source": [
        "Ahora tenemos el problema de si queremos añadir el caracter `\\` ya que como hemos visto es un `escape character`, así que lo solucionamos poniendo doble barra (backslash) `\\\\`"
      ]
    },
    {
      "cell_type": "code",
      "metadata": {
        "colab": {
          "base_uri": "https://localhost:8080/"
        },
        "id": "IBSW6Hh8peYu",
        "outputId": "2c651aa8-6721-4b3f-c083-ee333261a976"
      },
      "source": [
        "print('Este es el blog de \\\\DeepMaxFn\\\\')"
      ],
      "execution_count": null,
      "outputs": [
        {
          "output_type": "stream",
          "text": [
            "Este es el blog de \\DeepMaxFn\\\n"
          ],
          "name": "stdout"
        }
      ]
    },
    {
      "cell_type": "markdown",
      "metadata": {
        "id": "rI2qaqCeqTS1"
      },
      "source": [
        "Ya vimos antes el `escape character` de nueva linea `\\n`"
      ]
    },
    {
      "cell_type": "code",
      "metadata": {
        "colab": {
          "base_uri": "https://localhost:8080/"
        },
        "id": "5t_0-Jk6qOW1",
        "outputId": "b447acfc-3bb6-467b-ca21-a2d926d635f2"
      },
      "source": [
        "print('Este es el blog de \\nDeepMaxFn')"
      ],
      "execution_count": null,
      "outputs": [
        {
          "output_type": "stream",
          "text": [
            "Este es el blog de \n",
            "DeepMaxFn\n"
          ],
          "name": "stdout"
        }
      ]
    },
    {
      "cell_type": "markdown",
      "metadata": {
        "id": "sIYpuXo9qoFU"
      },
      "source": [
        "Si queremos escribir desde el inicio de linea añadimos `\\r`"
      ]
    },
    {
      "cell_type": "code",
      "metadata": {
        "colab": {
          "base_uri": "https://localhost:8080/"
        },
        "id": "0Q7uZCrrqbgP",
        "outputId": "1ebc4b4b-3f5b-4c98-e8cd-58027093f912"
      },
      "source": [
        "print('Esto no se imprimirá \\rEste es el blog de DeepMaxFn')"
      ],
      "execution_count": null,
      "outputs": [
        {
          "output_type": "stream",
          "text": [
            "Esto no se imprimirá \rEste es el blog de DeepMaxFn\n"
          ],
          "name": "stdout"
        }
      ]
    },
    {
      "cell_type": "markdown",
      "metadata": {
        "id": "Zqh2fs9RVzTz"
      },
      "source": [
        "Si queremos añadir añadir un espacio grande (sangría) usamos `\\t`"
      ]
    },
    {
      "cell_type": "code",
      "metadata": {
        "colab": {
          "base_uri": "https://localhost:8080/"
        },
        "id": "7BMPg97vqiCt",
        "outputId": "dac54d13-7de1-45b5-e407-2500b012173a"
      },
      "source": [
        "print('Este es el blog de \\tDeepMaxFn')"
      ],
      "execution_count": null,
      "outputs": [
        {
          "output_type": "stream",
          "text": [
            "Este es el blog de \tDeepMaxFn\n"
          ],
          "name": "stdout"
        }
      ]
    },
    {
      "cell_type": "markdown",
      "metadata": {
        "id": "IbZHgwNwWRt_"
      },
      "source": [
        "Podemos borrar un caracter con `\\b`"
      ]
    },
    {
      "cell_type": "code",
      "metadata": {
        "colab": {
          "base_uri": "https://localhost:8080/"
        },
        "id": "xwUirtNBV_qf",
        "outputId": "2c910cc8-e9e8-4d89-8fa1-d6a63e6238a1"
      },
      "source": [
        "print('Este es el blog de \\bDeepMaxFn')"
      ],
      "execution_count": null,
      "outputs": [
        {
          "output_type": "stream",
          "text": [
            "Este es el blog de \bDeepMaxFn\n"
          ],
          "name": "stdout"
        }
      ]
    },
    {
      "cell_type": "markdown",
      "metadata": {
        "id": "U1FILwMxWVWG"
      },
      "source": [
        "Podemos añadir el codigo [ASCII](http://www.asciitable.com/) en octal mediante `\\ooo`"
      ]
    },
    {
      "cell_type": "code",
      "metadata": {
        "colab": {
          "base_uri": "https://localhost:8080/"
        },
        "id": "lUmzlDJRWGhZ",
        "outputId": "2bf3b480-c747-4fdf-f5bc-c38b4292bce5"
      },
      "source": [
        "print('\\104\\145\\145\\160\\115\\141\\170\\106\\156')"
      ],
      "execution_count": null,
      "outputs": [
        {
          "output_type": "stream",
          "text": [
            "DeepMaxFn\n"
          ],
          "name": "stdout"
        }
      ]
    },
    {
      "cell_type": "markdown",
      "metadata": {
        "id": "L5wFBHq8YOVx"
      },
      "source": [
        "O añadir el codigo [ASCII](http://www.asciitable.com/) en hexadecimal mediante `\\xhh`"
      ]
    },
    {
      "cell_type": "code",
      "metadata": {
        "colab": {
          "base_uri": "https://localhost:8080/"
        },
        "id": "nrzXdTUNWKiy",
        "outputId": "3f1878fb-743f-4484-b6a8-7226932d0964"
      },
      "source": [
        "print('\\x44\\x65\\x65\\x70\\x4d\\x61\\x78\\x46\\x6e')"
      ],
      "execution_count": null,
      "outputs": [
        {
          "output_type": "stream",
          "text": [
            "DeepMaxFn\n"
          ],
          "name": "stdout"
        }
      ]
    },
    {
      "cell_type": "markdown",
      "metadata": {
        "id": "6HoijZk6bRcA"
      },
      "source": [
        "Por último, podemos convertir otro tipo de dato a string"
      ]
    },
    {
      "cell_type": "code",
      "metadata": {
        "colab": {
          "base_uri": "https://localhost:8080/"
        },
        "id": "5OgnubMJbWKQ",
        "outputId": "730f32be-a94f-427d-fee8-d0fad719302c"
      },
      "source": [
        "n = 5\n",
        "print(type (n))\n",
        "string = str(n)\n",
        "print(type(string))"
      ],
      "execution_count": null,
      "outputs": [
        {
          "output_type": "stream",
          "text": [
            "<class 'int'>\n",
            "<class 'str'>\n"
          ],
          "name": "stdout"
        }
      ]
    },
    {
      "cell_type": "markdown",
      "metadata": {
        "id": "yUsVAnQRZFjD"
      },
      "source": [
        "### 2.2. Números"
      ]
    },
    {
      "cell_type": "markdown",
      "metadata": {
        "id": "NA3qgNT8Zksc"
      },
      "source": [
        "#### 2.2.1. Enteros"
      ]
    },
    {
      "cell_type": "markdown",
      "metadata": {
        "id": "3DXSQIMJahgz"
      },
      "source": [
        "Numeros de tipo entero"
      ]
    },
    {
      "cell_type": "code",
      "metadata": {
        "colab": {
          "base_uri": "https://localhost:8080/"
        },
        "id": "dURoN6XMajRV",
        "outputId": "d6d6f5d5-e4f1-467b-fe04-790bdb3f155d"
      },
      "source": [
        "n = 5\n",
        "n, type(n)"
      ],
      "execution_count": null,
      "outputs": [
        {
          "output_type": "execute_result",
          "data": {
            "text/plain": [
              "(5, int)"
            ]
          },
          "metadata": {
            "tags": []
          },
          "execution_count": 1
        }
      ]
    },
    {
      "cell_type": "markdown",
      "metadata": {
        "id": "5vzzOtXNZnvN"
      },
      "source": [
        "#### 2.2.2. Float"
      ]
    },
    {
      "cell_type": "markdown",
      "metadata": {
        "id": "0VY-SGkHamcp"
      },
      "source": [
        "Números de tipo de coma flotante"
      ]
    },
    {
      "cell_type": "code",
      "metadata": {
        "colab": {
          "base_uri": "https://localhost:8080/"
        },
        "id": "dZHJA_WOaotE",
        "outputId": "b69793c9-0bd4-485c-a259-4575236adce1"
      },
      "source": [
        "n = 5.1\n",
        "n, type(n)"
      ],
      "execution_count": null,
      "outputs": [
        {
          "output_type": "execute_result",
          "data": {
            "text/plain": [
              "(5.1, float)"
            ]
          },
          "metadata": {
            "tags": []
          },
          "execution_count": 2
        }
      ]
    },
    {
      "cell_type": "markdown",
      "metadata": {
        "id": "iIL3VagZZsEh"
      },
      "source": [
        "#### 2.2.3. Complejos"
      ]
    },
    {
      "cell_type": "markdown",
      "metadata": {
        "id": "akJYX0yXbJei"
      },
      "source": [
        "Números complejos"
      ]
    },
    {
      "cell_type": "code",
      "metadata": {
        "colab": {
          "base_uri": "https://localhost:8080/"
        },
        "id": "Fe7bMD2Za6Zv",
        "outputId": "3c617a1f-73b2-4d5f-8731-2df3ee3e344e"
      },
      "source": [
        "n = 3 + 5j\n",
        "n, type(n)"
      ],
      "execution_count": null,
      "outputs": [
        {
          "output_type": "execute_result",
          "data": {
            "text/plain": [
              "((3+5j), complex)"
            ]
          },
          "metadata": {
            "tags": []
          },
          "execution_count": 3
        }
      ]
    },
    {
      "cell_type": "markdown",
      "metadata": {
        "id": "jQHJ-QCxa1Yn"
      },
      "source": [
        "#### 2.2.4. Conversión"
      ]
    },
    {
      "cell_type": "markdown",
      "metadata": {
        "id": "HQJRJW8ObLNb"
      },
      "source": [
        "Se puede convertir entre tipos de números"
      ]
    },
    {
      "cell_type": "code",
      "metadata": {
        "colab": {
          "base_uri": "https://localhost:8080/"
        },
        "id": "4JAL2mRea_uz",
        "outputId": "ae06058a-2e45-4557-cdfb-9d07e62c9f53"
      },
      "source": [
        "n = 5\n",
        "n = float(n)\n",
        "n, type(n)"
      ],
      "execution_count": null,
      "outputs": [
        {
          "output_type": "execute_result",
          "data": {
            "text/plain": [
              "(5.0, float)"
            ]
          },
          "metadata": {
            "tags": []
          },
          "execution_count": 4
        }
      ]
    },
    {
      "cell_type": "code",
      "metadata": {
        "colab": {
          "base_uri": "https://localhost:8080/"
        },
        "id": "cIsS0Vzvbf2p",
        "outputId": "4a56ec72-cdfd-43e7-aeb8-03ff0581b0b1"
      },
      "source": [
        "n = 5.1\n",
        "n = complex(n)\n",
        "n, type(n)"
      ],
      "execution_count": null,
      "outputs": [
        {
          "output_type": "execute_result",
          "data": {
            "text/plain": [
              "((5.1+0j), complex)"
            ]
          },
          "metadata": {
            "tags": []
          },
          "execution_count": 5
        }
      ]
    },
    {
      "cell_type": "code",
      "metadata": {
        "colab": {
          "base_uri": "https://localhost:8080/"
        },
        "id": "Z_GwdK1tbk51",
        "outputId": "3296982a-c77b-49ad-e606-76f6f653851b"
      },
      "source": [
        "n = 5.1\n",
        "n = int(n)\n",
        "n, type(n)"
      ],
      "execution_count": null,
      "outputs": [
        {
          "output_type": "execute_result",
          "data": {
            "text/plain": [
              "(5, int)"
            ]
          },
          "metadata": {
            "tags": []
          },
          "execution_count": 6
        }
      ]
    },
    {
      "cell_type": "markdown",
      "metadata": {
        "id": "NGj028sNb14v"
      },
      "source": [
        "No se puede convertir un numero `complex` a tipo `int` o tipo `float`"
      ]
    },
    {
      "cell_type": "markdown",
      "metadata": {
        "id": "XhjyhuDcZSj8"
      },
      "source": [
        "### 2.3. Secuencias"
      ]
    },
    {
      "cell_type": "markdown",
      "metadata": {
        "id": "xxgnTu3fZxfg"
      },
      "source": [
        "#### 2.3.1. Listas"
      ]
    },
    {
      "cell_type": "markdown",
      "metadata": {
        "id": "m9OHqYWwiAB_"
      },
      "source": [
        "Las listas guardan múltiples items en una variable. Se declaran mediante los símbolos `[]`, con los items separados por comas"
      ]
    },
    {
      "cell_type": "code",
      "metadata": {
        "colab": {
          "base_uri": "https://localhost:8080/"
        },
        "id": "xFlxCII7iSSb",
        "outputId": "c6f55b62-4dab-418c-e39d-d70bba3fcc08"
      },
      "source": [
        "lista = ['item0', 'item1', 'item2', 'item3', 'item4', 'item5']\n",
        "lista"
      ],
      "execution_count": null,
      "outputs": [
        {
          "output_type": "execute_result",
          "data": {
            "text/plain": [
              "['item0', 'item1', 'item2', 'item3', 'item4', 'item5']"
            ]
          },
          "metadata": {
            "tags": []
          },
          "execution_count": 198
        }
      ]
    },
    {
      "cell_type": "markdown",
      "metadata": {
        "id": "7ic_1f7BikbA"
      },
      "source": [
        "Podemos obtener la longitud de una lista mediante la función `len()`"
      ]
    },
    {
      "cell_type": "code",
      "metadata": {
        "colab": {
          "base_uri": "https://localhost:8080/"
        },
        "id": "OETGIj7BioMB",
        "outputId": "c2867f7c-5d16-448d-a956-81f436b7a827"
      },
      "source": [
        "len(lista)"
      ],
      "execution_count": null,
      "outputs": [
        {
          "output_type": "execute_result",
          "data": {
            "text/plain": [
              "6"
            ]
          },
          "metadata": {
            "tags": []
          },
          "execution_count": 199
        }
      ]
    },
    {
      "cell_type": "markdown",
      "metadata": {
        "id": "qBGLpefJitTl"
      },
      "source": [
        "Las listas pueden tener items de distintos tipos"
      ]
    },
    {
      "cell_type": "code",
      "metadata": {
        "colab": {
          "base_uri": "https://localhost:8080/"
        },
        "id": "trCbSZwBiwM5",
        "outputId": "4acf323b-f7cc-4a70-fc2f-051eeca70c26"
      },
      "source": [
        "lista = ['item0', 1, True, 5.3, \"item4\", 5, 6.6]\n",
        "lista"
      ],
      "execution_count": null,
      "outputs": [
        {
          "output_type": "execute_result",
          "data": {
            "text/plain": [
              "['item0', 1, True, 5.3, 'item4', 5, 6.6]"
            ]
          },
          "metadata": {
            "tags": []
          },
          "execution_count": 200
        }
      ]
    },
    {
      "cell_type": "markdown",
      "metadata": {
        "id": "SMsz5DE3l7Lc"
      },
      "source": [
        "En Python se empieza a contar desde la posición 0, es decir, si queremos obtener la primera posición de la lista"
      ]
    },
    {
      "cell_type": "code",
      "metadata": {
        "colab": {
          "base_uri": "https://localhost:8080/",
          "height": 35
        },
        "id": "Vm3dvJlrmEGH",
        "outputId": "c3bbb69a-20a7-4c2f-db5a-c5a2274aabfd"
      },
      "source": [
        "lista[0]"
      ],
      "execution_count": null,
      "outputs": [
        {
          "output_type": "execute_result",
          "data": {
            "application/vnd.google.colaboratory.intrinsic+json": {
              "type": "string"
            },
            "text/plain": [
              "'item0'"
            ]
          },
          "metadata": {
            "tags": []
          },
          "execution_count": 201
        }
      ]
    },
    {
      "cell_type": "markdown",
      "metadata": {
        "id": "IiuN4_GimF8b"
      },
      "source": [
        "Pero una de las cosas potentes de Python es que si queremos acceder a la última posición podemos usar índices negativos"
      ]
    },
    {
      "cell_type": "code",
      "metadata": {
        "colab": {
          "base_uri": "https://localhost:8080/"
        },
        "id": "h2sma2ksmP_8",
        "outputId": "26cb36db-d2f4-4bab-80e7-a01eee52ee3b"
      },
      "source": [
        "lista[-1]"
      ],
      "execution_count": null,
      "outputs": [
        {
          "output_type": "execute_result",
          "data": {
            "text/plain": [
              "6.6"
            ]
          },
          "metadata": {
            "tags": []
          },
          "execution_count": 202
        }
      ]
    },
    {
      "cell_type": "markdown",
      "metadata": {
        "id": "kHbbe2iDmR0G"
      },
      "source": [
        "Si en vez de la última posición de la lista queremos la penúltima"
      ]
    },
    {
      "cell_type": "code",
      "metadata": {
        "colab": {
          "base_uri": "https://localhost:8080/"
        },
        "id": "xDL4tWFMmYuX",
        "outputId": "11f68f85-45a0-4bbc-fc5e-9f0df030666c"
      },
      "source": [
        "lista[-2]"
      ],
      "execution_count": null,
      "outputs": [
        {
          "output_type": "execute_result",
          "data": {
            "text/plain": [
              "5"
            ]
          },
          "metadata": {
            "tags": []
          },
          "execution_count": 203
        }
      ]
    },
    {
      "cell_type": "markdown",
      "metadata": {
        "id": "m24gbVJ2merm"
      },
      "source": [
        "Si solo queremos un rango de valores, por ejemplo, del segundo al quinto item accedemos mediante `[2:5]`"
      ]
    },
    {
      "cell_type": "code",
      "metadata": {
        "colab": {
          "base_uri": "https://localhost:8080/"
        },
        "id": "Je8SbgDunBG4",
        "outputId": "93c19dea-30ef-489b-8ca3-16805ce98f8f"
      },
      "source": [
        "lista[2:5]"
      ],
      "execution_count": null,
      "outputs": [
        {
          "output_type": "execute_result",
          "data": {
            "text/plain": [
              "[True, 5.3, 'item4']"
            ]
          },
          "metadata": {
            "tags": []
          },
          "execution_count": 204
        }
      ]
    },
    {
      "cell_type": "markdown",
      "metadata": {
        "id": "FicrnAvtnHho"
      },
      "source": [
        "Si se omite el primer número del rango singnifica que queremos desde el primer item de la lista hasta el item indicado, es decir, si queremos desde el primer item hasta el quinto usamos `[:5]`"
      ]
    },
    {
      "cell_type": "code",
      "metadata": {
        "colab": {
          "base_uri": "https://localhost:8080/"
        },
        "id": "2Uv5wEwnnjC9",
        "outputId": "c3cbcb5d-bb91-434f-a17d-3548d146f9f5"
      },
      "source": [
        "lista[:5]"
      ],
      "execution_count": null,
      "outputs": [
        {
          "output_type": "execute_result",
          "data": {
            "text/plain": [
              "['item0', 1, True, 5.3, 'item4']"
            ]
          },
          "metadata": {
            "tags": []
          },
          "execution_count": 205
        }
      ]
    },
    {
      "cell_type": "markdown",
      "metadata": {
        "id": "iJlDqRZ1n11B"
      },
      "source": [
        "Si se omite el último número del rango significa que queremos desde el item indicado hasta el último, es decir, si queremos desde el tercer item hasta el último usamos `[3:]`"
      ]
    },
    {
      "cell_type": "code",
      "metadata": {
        "colab": {
          "base_uri": "https://localhost:8080/"
        },
        "id": "yOpn_BbioCt8",
        "outputId": "6754b442-25a1-4455-d71b-0c8d46afacaa"
      },
      "source": [
        "lista[3:]"
      ],
      "execution_count": null,
      "outputs": [
        {
          "output_type": "execute_result",
          "data": {
            "text/plain": [
              "[5.3, 'item4', 5, 6.6]"
            ]
          },
          "metadata": {
            "tags": []
          },
          "execution_count": 206
        }
      ]
    },
    {
      "cell_type": "markdown",
      "metadata": {
        "id": "Qv6L4DZaoJf7"
      },
      "source": [
        "Podemos escoger el rango de items también con números negativos, es decir, si queremos desde el antepenúltimo hasta el penúltimo usamos `[-3:-1]`. Esto es útil cuando se tiene listas que no se sabe su longitud, pero se sabe que se quiere un rango de valores del final, porque por ejemplo, la lista se ha creado con medidas que se van tomando y se quiere saber las últimas medias"
      ]
    },
    {
      "cell_type": "code",
      "metadata": {
        "colab": {
          "base_uri": "https://localhost:8080/"
        },
        "id": "RL8Yzwxaop4F",
        "outputId": "14e94b6f-5e29-4efc-cb28-7a864265ca21"
      },
      "source": [
        "lista[-3:-1]"
      ],
      "execution_count": null,
      "outputs": [
        {
          "output_type": "execute_result",
          "data": {
            "text/plain": [
              "['item4', 5]"
            ]
          },
          "metadata": {
            "tags": []
          },
          "execution_count": 207
        }
      ]
    },
    {
      "cell_type": "markdown",
      "metadata": {
        "id": "DwqndK6WozL8"
      },
      "source": [
        "Se puede comprobar si un item está en la lista"
      ]
    },
    {
      "cell_type": "code",
      "metadata": {
        "colab": {
          "base_uri": "https://localhost:8080/"
        },
        "id": "sdxXc4nWo2HC",
        "outputId": "c4af4ecd-2661-4b88-e62f-4e33fda88338"
      },
      "source": [
        "'item4' in lista"
      ],
      "execution_count": null,
      "outputs": [
        {
          "output_type": "execute_result",
          "data": {
            "text/plain": [
              "True"
            ]
          },
          "metadata": {
            "tags": []
          },
          "execution_count": 208
        }
      ]
    },
    {
      "cell_type": "markdown",
      "metadata": {
        "id": "rmFFi1PmwR_m"
      },
      "source": [
        "##### 2.3.1.1. Editar listas"
      ]
    },
    {
      "cell_type": "markdown",
      "metadata": {
        "id": "A6EwS0BmpLEJ"
      },
      "source": [
        "Las listas en Python son dinámicas, es decir, se pueden modificar. Por ejemplo se puede modificar el tercer item"
      ]
    },
    {
      "cell_type": "code",
      "metadata": {
        "colab": {
          "base_uri": "https://localhost:8080/"
        },
        "id": "07mZv985pV7a",
        "outputId": "d9cc4ec6-7754-41e6-a8f5-2a9e5101a577"
      },
      "source": [
        "lista[2] = False\n",
        "lista"
      ],
      "execution_count": null,
      "outputs": [
        {
          "output_type": "execute_result",
          "data": {
            "text/plain": [
              "['item0', 1, False, 5.3, 'item4', 5, 6.6]"
            ]
          },
          "metadata": {
            "tags": []
          },
          "execution_count": 209
        }
      ]
    },
    {
      "cell_type": "markdown",
      "metadata": {
        "id": "fwWIBT-UpbLF"
      },
      "source": [
        "También se puede modificat un rango de valores"
      ]
    },
    {
      "cell_type": "code",
      "metadata": {
        "colab": {
          "base_uri": "https://localhost:8080/"
        },
        "id": "ai0JsxYhpdsz",
        "outputId": "9774183f-e77b-4268-affa-5edbc12e3bc2"
      },
      "source": [
        "lista[1:4] = [1.1, True, 3]\n",
        "lista"
      ],
      "execution_count": null,
      "outputs": [
        {
          "output_type": "execute_result",
          "data": {
            "text/plain": [
              "['item0', 1.1, True, 3, 'item4', 5, 6.6]"
            ]
          },
          "metadata": {
            "tags": []
          },
          "execution_count": 210
        }
      ]
    },
    {
      "cell_type": "markdown",
      "metadata": {
        "id": "yqTLPy23qLaC"
      },
      "source": [
        "Se pueden añadir valores al final de la lista mediante el método `append()`"
      ]
    },
    {
      "cell_type": "code",
      "metadata": {
        "colab": {
          "base_uri": "https://localhost:8080/"
        },
        "id": "6vGtvrCCqQ2N",
        "outputId": "879eb29d-11ba-4656-a899-7ab6ffc60a4c"
      },
      "source": [
        "lista.append('item7')\n",
        "lista"
      ],
      "execution_count": null,
      "outputs": [
        {
          "output_type": "execute_result",
          "data": {
            "text/plain": [
              "['item0', 1.1, True, 3, 'item4', 5, 6.6, 'item7']"
            ]
          },
          "metadata": {
            "tags": []
          },
          "execution_count": 211
        }
      ]
    },
    {
      "cell_type": "markdown",
      "metadata": {
        "id": "Pu11k_oDqefw"
      },
      "source": [
        "O podemos insertar un valor en una posición determinada mediante el método `insert()`"
      ]
    },
    {
      "cell_type": "code",
      "metadata": {
        "colab": {
          "base_uri": "https://localhost:8080/"
        },
        "id": "wUkYjsYVqich",
        "outputId": "2c1a67cb-b62c-4c1c-dc7b-b297244c0c58"
      },
      "source": [
        "lista.insert(2, 'insert')\n",
        "lista"
      ],
      "execution_count": null,
      "outputs": [
        {
          "output_type": "execute_result",
          "data": {
            "text/plain": [
              "['item0', 1.1, 'insert', True, 3, 'item4', 5, 6.6, 'item7']"
            ]
          },
          "metadata": {
            "tags": []
          },
          "execution_count": 212
        }
      ]
    },
    {
      "cell_type": "markdown",
      "metadata": {
        "id": "slAcylfVreP-"
      },
      "source": [
        "Se pueden unir listas mediante el método `extend()`"
      ]
    },
    {
      "cell_type": "code",
      "metadata": {
        "colab": {
          "base_uri": "https://localhost:8080/"
        },
        "id": "7w1qsnxYrsBG",
        "outputId": "1e7dc933-000c-4258-dab4-439c285bf7b2"
      },
      "source": [
        "lista2 = ['item8', 'item9']\n",
        "lista.extend(lista2)\n",
        "lista"
      ],
      "execution_count": null,
      "outputs": [
        {
          "output_type": "execute_result",
          "data": {
            "text/plain": [
              "['item0', 1.1, 'insert', True, 3, 'item4', 5, 6.6, 'item7', 'item8', 'item9']"
            ]
          },
          "metadata": {
            "tags": []
          },
          "execution_count": 213
        }
      ]
    },
    {
      "cell_type": "markdown",
      "metadata": {
        "id": "vxIzKaX9r_qB"
      },
      "source": [
        "No es necesario extender la lista mediante otra lista, se puede hacer mediante otro tipo de dato iterable de Python (`tuplas`, `sets`, `diccionarios`, etc)"
      ]
    },
    {
      "cell_type": "code",
      "metadata": {
        "colab": {
          "base_uri": "https://localhost:8080/"
        },
        "id": "3_11NXf-sR8v",
        "outputId": "dd343b94-38c3-43d3-dac1-0ebe567bf6aa"
      },
      "source": [
        "tupla = ('item10', 'item11')\n",
        "lista.extend(tupla)\n",
        "lista"
      ],
      "execution_count": null,
      "outputs": [
        {
          "output_type": "execute_result",
          "data": {
            "text/plain": [
              "['item0',\n",
              " 1.1,\n",
              " 'insert',\n",
              " True,\n",
              " 3,\n",
              " 'item4',\n",
              " 5,\n",
              " 6.6,\n",
              " 'item7',\n",
              " 'item8',\n",
              " 'item9',\n",
              " 'item10',\n",
              " 'item11']"
            ]
          },
          "metadata": {
            "tags": []
          },
          "execution_count": 214
        }
      ]
    },
    {
      "cell_type": "markdown",
      "metadata": {
        "id": "MXnxqtIxq7KO"
      },
      "source": [
        "Podemos eliminar una posición determinada mediante el método `pop()`"
      ]
    },
    {
      "cell_type": "code",
      "metadata": {
        "colab": {
          "base_uri": "https://localhost:8080/"
        },
        "id": "vHt6W_rxqwNv",
        "outputId": "1fe58dd5-39e7-4d6f-dd8a-4bb2bf87d54e"
      },
      "source": [
        "lista.pop(2)\n",
        "lista"
      ],
      "execution_count": null,
      "outputs": [
        {
          "output_type": "execute_result",
          "data": {
            "text/plain": [
              "['item0',\n",
              " 1.1,\n",
              " True,\n",
              " 3,\n",
              " 'item4',\n",
              " 5,\n",
              " 6.6,\n",
              " 'item7',\n",
              " 'item8',\n",
              " 'item9',\n",
              " 'item10',\n",
              " 'item11']"
            ]
          },
          "metadata": {
            "tags": []
          },
          "execution_count": 215
        }
      ]
    },
    {
      "cell_type": "markdown",
      "metadata": {
        "id": "hJpZP04rsyQw"
      },
      "source": [
        "Si no se especifica el indice se elimina el último item"
      ]
    },
    {
      "cell_type": "code",
      "metadata": {
        "colab": {
          "base_uri": "https://localhost:8080/"
        },
        "id": "LzWcQrgEs1uZ",
        "outputId": "5cb963a5-002d-423c-dc28-b3c59a0b7da1"
      },
      "source": [
        "lista.pop()\n",
        "lista"
      ],
      "execution_count": null,
      "outputs": [
        {
          "output_type": "execute_result",
          "data": {
            "text/plain": [
              "['item0', 1.1, True, 3, 'item4', 5, 6.6, 'item7', 'item8', 'item9', 'item10']"
            ]
          },
          "metadata": {
            "tags": []
          },
          "execution_count": 216
        }
      ]
    },
    {
      "cell_type": "markdown",
      "metadata": {
        "id": "5Gz70ufirLBh"
      },
      "source": [
        "O se puede eliminar un item sabiendo su valor mediante el método `remove()`"
      ]
    },
    {
      "cell_type": "code",
      "metadata": {
        "colab": {
          "base_uri": "https://localhost:8080/"
        },
        "id": "a46v--OjrRj9",
        "outputId": "066e1c11-8a95-4a57-a69f-d6244f70d655"
      },
      "source": [
        "lista.remove('item7')\n",
        "lista"
      ],
      "execution_count": null,
      "outputs": [
        {
          "output_type": "execute_result",
          "data": {
            "text/plain": [
              "['item0', 1.1, True, 3, 'item4', 5, 6.6, 'item8', 'item9', 'item10']"
            ]
          },
          "metadata": {
            "tags": []
          },
          "execution_count": 217
        }
      ]
    },
    {
      "cell_type": "markdown",
      "metadata": {
        "id": "gJfrodFIs-c9"
      },
      "source": [
        "Con la función `del()` se puede eliminar también un item de la posición indicada"
      ]
    },
    {
      "cell_type": "code",
      "metadata": {
        "colab": {
          "base_uri": "https://localhost:8080/"
        },
        "id": "FI4y3zA0tCaQ",
        "outputId": "02a05232-7e58-435d-d2c4-994c1b4d5e38"
      },
      "source": [
        "del lista[3]\n",
        "lista"
      ],
      "execution_count": null,
      "outputs": [
        {
          "output_type": "execute_result",
          "data": {
            "text/plain": [
              "['item0', 1.1, True, 'item4', 5, 6.6, 'item8', 'item9', 'item10']"
            ]
          },
          "metadata": {
            "tags": []
          },
          "execution_count": 218
        }
      ]
    },
    {
      "cell_type": "markdown",
      "metadata": {
        "id": "SYrleQU7teBZ"
      },
      "source": [
        "Si no se indica el índice se elimina la lista entera"
      ]
    },
    {
      "cell_type": "markdown",
      "metadata": {
        "id": "mKEnHnCutoEl"
      },
      "source": [
        "Con el método `clear()` deja la lista vacía"
      ]
    },
    {
      "cell_type": "code",
      "metadata": {
        "colab": {
          "base_uri": "https://localhost:8080/"
        },
        "id": "0nrsy6ottg0k",
        "outputId": "14aa9390-ad03-4b74-aee4-9b882701a95b"
      },
      "source": [
        "lista.clear()\n",
        "lista"
      ],
      "execution_count": null,
      "outputs": [
        {
          "output_type": "execute_result",
          "data": {
            "text/plain": [
              "[]"
            ]
          },
          "metadata": {
            "tags": []
          },
          "execution_count": 219
        }
      ]
    },
    {
      "cell_type": "markdown",
      "metadata": {
        "id": "69eaK3fO0XUO"
      },
      "source": [
        "Se puede obtener la cantidad de items con un valor determinado mediante el método `count()`"
      ]
    },
    {
      "cell_type": "code",
      "metadata": {
        "colab": {
          "base_uri": "https://localhost:8080/"
        },
        "id": "4dLnvUNv0dDK",
        "outputId": "2c6d6abb-449c-43ab-e83d-fd0e63eb9c7e"
      },
      "source": [
        "lista = [5, 4, 6, 5, 7, 8, 5, 3, 1, 5]\n",
        "lista.count(5)"
      ],
      "execution_count": null,
      "outputs": [
        {
          "output_type": "execute_result",
          "data": {
            "text/plain": [
              "4"
            ]
          },
          "metadata": {
            "tags": []
          },
          "execution_count": 220
        }
      ]
    },
    {
      "cell_type": "markdown",
      "metadata": {
        "id": "tvTH6h8o0nTD"
      },
      "source": [
        "También se puede obtener el primer índice de un item con un valor determinado mediante el método `index()`"
      ]
    },
    {
      "cell_type": "code",
      "metadata": {
        "colab": {
          "base_uri": "https://localhost:8080/"
        },
        "id": "Tc8fsplo0xTt",
        "outputId": "d8f4babb-cb50-4c1d-ba8a-a4918141f59b"
      },
      "source": [
        "lista = [5, 4, 6, 5, 7, 8, 5, 3, 1, 5]\n",
        "lista.index(5)"
      ],
      "execution_count": null,
      "outputs": [
        {
          "output_type": "execute_result",
          "data": {
            "text/plain": [
              "0"
            ]
          },
          "metadata": {
            "tags": []
          },
          "execution_count": 221
        }
      ]
    },
    {
      "cell_type": "markdown",
      "metadata": {
        "id": "9Y9ww24cvCBf"
      },
      "source": [
        "##### 2.3.1.2. List comprehension"
      ]
    },
    {
      "cell_type": "markdown",
      "metadata": {
        "id": "XYGuxlyauGKn"
      },
      "source": [
        "Podemos operar a través de la lista"
      ]
    },
    {
      "cell_type": "code",
      "metadata": {
        "colab": {
          "base_uri": "https://localhost:8080/"
        },
        "id": "8Vusy8Q8uIu4",
        "outputId": "55c79004-fea5-4a75-fd00-7ab0dec74533"
      },
      "source": [
        "fruits = [\"apple\", \"banana\", \"cherry\", \"kiwi\", \"mango\"]\n",
        "newlist = []\n",
        "\n",
        "# Iteramos por todos los items de la lista\n",
        "for x in fruits:\n",
        "  # Si el item contiene el caracter \"a\" lo añadimos a newlist\n",
        "  if \"a\" in x:\n",
        "    newlist.append(x)\n",
        "\n",
        "newlist"
      ],
      "execution_count": null,
      "outputs": [
        {
          "output_type": "execute_result",
          "data": {
            "text/plain": [
              "['apple', 'banana', 'mango']"
            ]
          },
          "metadata": {
            "tags": []
          },
          "execution_count": 222
        }
      ]
    },
    {
      "cell_type": "markdown",
      "metadata": {
        "id": "st7Gf7tcuWuV"
      },
      "source": [
        "Otras de las cosas potentes de Python son las `list comprehension`, que permiten hacer todo en una sola linea y que el código quede más compacto"
      ]
    },
    {
      "cell_type": "code",
      "metadata": {
        "colab": {
          "base_uri": "https://localhost:8080/"
        },
        "id": "VgVji268unGi",
        "outputId": "b716ba4c-5166-4d34-b438-129a6ddb452d"
      },
      "source": [
        "fruits = [\"apple\", \"banana\", \"cherry\", \"kiwi\", \"mango\"]\n",
        "\n",
        "newlist = [x for x in fruits if \"a\" in x]\n",
        "\n",
        "newlist"
      ],
      "execution_count": null,
      "outputs": [
        {
          "output_type": "execute_result",
          "data": {
            "text/plain": [
              "['apple', 'banana', 'mango']"
            ]
          },
          "metadata": {
            "tags": []
          },
          "execution_count": 223
        }
      ]
    },
    {
      "cell_type": "markdown",
      "metadata": {
        "id": "NfQ7-lUHvHmV"
      },
      "source": [
        "La sintaxis es la siguiente\n",
        "\n",
        "\n",
        "\n",
        "```\n",
        "newlist = [expression for item in iterable if condition == True]\n",
        "```"
      ]
    },
    {
      "cell_type": "markdown",
      "metadata": {
        "id": "NwaIhuchvvCQ"
      },
      "source": [
        "Se puede aprovechar para realizar operaciones en la lista original"
      ]
    },
    {
      "cell_type": "code",
      "metadata": {
        "colab": {
          "base_uri": "https://localhost:8080/"
        },
        "id": "7_s-N-udvzJE",
        "outputId": "463736cf-1d02-41b3-b1cf-efc5844213d9"
      },
      "source": [
        "newlist = [x.upper() for x in fruits if \"a\" in x]\n",
        "newlist"
      ],
      "execution_count": null,
      "outputs": [
        {
          "output_type": "execute_result",
          "data": {
            "text/plain": [
              "['APPLE', 'BANANA', 'MANGO']"
            ]
          },
          "metadata": {
            "tags": []
          },
          "execution_count": 224
        }
      ]
    },
    {
      "cell_type": "markdown",
      "metadata": {
        "id": "yDwfakdFwdQA"
      },
      "source": [
        "##### 2.3.1.3. Ordenar listas"
      ]
    },
    {
      "cell_type": "markdown",
      "metadata": {
        "id": "Yb1QHcWQwlwr"
      },
      "source": [
        "Para ordenar listas usamos el método `sort()`"
      ]
    },
    {
      "cell_type": "code",
      "metadata": {
        "colab": {
          "base_uri": "https://localhost:8080/"
        },
        "id": "u-foDLaEwf7g",
        "outputId": "b3ad8e8d-0095-4bfc-c588-1be6d4bf6221"
      },
      "source": [
        "lista = [5, 8, 3, 4, 9, 5, 6]\n",
        "lista.sort()\n",
        "lista"
      ],
      "execution_count": null,
      "outputs": [
        {
          "output_type": "execute_result",
          "data": {
            "text/plain": [
              "[3, 4, 5, 5, 6, 8, 9]"
            ]
          },
          "metadata": {
            "tags": []
          },
          "execution_count": 225
        }
      ]
    },
    {
      "cell_type": "markdown",
      "metadata": {
        "id": "kJ5tCKMwwzpD"
      },
      "source": [
        "También nos las ordena allfabéticamente"
      ]
    },
    {
      "cell_type": "code",
      "metadata": {
        "colab": {
          "base_uri": "https://localhost:8080/"
        },
        "id": "afHkUxZvw2qg",
        "outputId": "a5dd7e78-cfba-4335-9e2a-c7d4a63746f1"
      },
      "source": [
        "lista = [\"orange\", \"mango\", \"kiwi\", \"pineapple\", \"banana\"]\n",
        "lista.sort()\n",
        "lista"
      ],
      "execution_count": null,
      "outputs": [
        {
          "output_type": "execute_result",
          "data": {
            "text/plain": [
              "['banana', 'kiwi', 'mango', 'orange', 'pineapple']"
            ]
          },
          "metadata": {
            "tags": []
          },
          "execution_count": 226
        }
      ]
    },
    {
      "cell_type": "markdown",
      "metadata": {
        "id": "FvO8fyMkxyYU"
      },
      "source": [
        "A la hora de ordenar alfabéticamente distingue entre mayúsculas y minúsculas"
      ]
    },
    {
      "cell_type": "code",
      "metadata": {
        "colab": {
          "base_uri": "https://localhost:8080/"
        },
        "id": "Tip-pb1_x7gm",
        "outputId": "6782ff27-3ef9-4338-a796-a84e8291db17"
      },
      "source": [
        "lista = [\"orange\", \"mango\", \"kiwi\", \"Pineapple\", \"banana\"]\n",
        "lista.sort()\n",
        "lista"
      ],
      "execution_count": null,
      "outputs": [
        {
          "output_type": "execute_result",
          "data": {
            "text/plain": [
              "['Pineapple', 'banana', 'kiwi', 'mango', 'orange']"
            ]
          },
          "metadata": {
            "tags": []
          },
          "execution_count": 227
        }
      ]
    },
    {
      "cell_type": "markdown",
      "metadata": {
        "id": "PVZ6G2dkw--J"
      },
      "source": [
        "Se pueden ordenar en orden descendente mediante el atributo `reverse = True`"
      ]
    },
    {
      "cell_type": "code",
      "metadata": {
        "colab": {
          "base_uri": "https://localhost:8080/"
        },
        "id": "qsIvBTvCxHHJ",
        "outputId": "20feff26-c8f7-4707-a9b8-c78e7625f70b"
      },
      "source": [
        "lista = [5, 8, 3, 4, 9, 5, 6]\n",
        "lista.sort(reverse = True)\n",
        "lista"
      ],
      "execution_count": null,
      "outputs": [
        {
          "output_type": "execute_result",
          "data": {
            "text/plain": [
              "[9, 8, 6, 5, 5, 4, 3]"
            ]
          },
          "metadata": {
            "tags": []
          },
          "execution_count": 228
        }
      ]
    },
    {
      "cell_type": "markdown",
      "metadata": {
        "id": "K4T4Pq8PxYZb"
      },
      "source": [
        "Se pueden ordenar de la manera que queramos mediante el atributo `key`"
      ]
    },
    {
      "cell_type": "code",
      "metadata": {
        "colab": {
          "base_uri": "https://localhost:8080/"
        },
        "id": "sBVgRAJyxdQw",
        "outputId": "ba8e968d-c79c-4515-8dea-f8f62459f49d"
      },
      "source": [
        "def myfunc(n):\n",
        "  # devuelve el valor absoluto de n - 50\n",
        "  return abs(n - 50)\n",
        "\n",
        "lista = [100, 50, 65, 82, 23]\n",
        "lista.sort(key = myfunc)\n",
        "lista"
      ],
      "execution_count": null,
      "outputs": [
        {
          "output_type": "execute_result",
          "data": {
            "text/plain": [
              "[50, 65, 23, 82, 100]"
            ]
          },
          "metadata": {
            "tags": []
          },
          "execution_count": 229
        }
      ]
    },
    {
      "cell_type": "markdown",
      "metadata": {
        "id": "1INxbo9lyTQg"
      },
      "source": [
        "Se puede aprovechar esto para que por ejemplo, a la hora de ordenar no distinga entre mayúsculas y minúsculas"
      ]
    },
    {
      "cell_type": "code",
      "metadata": {
        "colab": {
          "base_uri": "https://localhost:8080/"
        },
        "id": "zuT-4vmbyMlz",
        "outputId": "35d5471e-18ed-402f-c6fb-a49f47077558"
      },
      "source": [
        "lista = [\"orange\", \"mango\", \"kiwi\", \"Pineapple\", \"banana\"]\n",
        "lista.sort(key = str.lower)\n",
        "lista"
      ],
      "execution_count": null,
      "outputs": [
        {
          "output_type": "execute_result",
          "data": {
            "text/plain": [
              "['banana', 'kiwi', 'mango', 'orange', 'Pineapple']"
            ]
          },
          "metadata": {
            "tags": []
          },
          "execution_count": 230
        }
      ]
    },
    {
      "cell_type": "markdown",
      "metadata": {
        "id": "TYoVrsAvymLz"
      },
      "source": [
        "Se puede voltear la lista mediante el método `reverse`"
      ]
    },
    {
      "cell_type": "code",
      "metadata": {
        "colab": {
          "base_uri": "https://localhost:8080/"
        },
        "id": "YXvHChW3ypJT",
        "outputId": "50db49be-140f-4ac3-b40c-3ada294b33d8"
      },
      "source": [
        "lista = [5, 8, 3, 4, 9, 5, 6]\n",
        "lista.reverse()\n",
        "lista"
      ],
      "execution_count": null,
      "outputs": [
        {
          "output_type": "execute_result",
          "data": {
            "text/plain": [
              "[6, 5, 9, 4, 3, 8, 5]"
            ]
          },
          "metadata": {
            "tags": []
          },
          "execution_count": 231
        }
      ]
    },
    {
      "cell_type": "markdown",
      "metadata": {
        "id": "xMpopupvyyHz"
      },
      "source": [
        "##### 2.3.1.4. Copiar listas"
      ]
    },
    {
      "cell_type": "markdown",
      "metadata": {
        "id": "26XTiSqWy2F-"
      },
      "source": [
        "No se pueden copiar listas mediante `lista1 = lista2`, ya que si se modifica `lista1` también se modifica `lista2`"
      ]
    },
    {
      "cell_type": "code",
      "metadata": {
        "colab": {
          "base_uri": "https://localhost:8080/"
        },
        "id": "gdx_ODYHy0Xr",
        "outputId": "61b6b8de-36aa-4423-a4bc-782eb2e99d0f"
      },
      "source": [
        "lista1 = [5, 8, 3, 4, 9, 5, 6]\n",
        "lista2 = lista1\n",
        "lista1[0] = True\n",
        "lista2"
      ],
      "execution_count": null,
      "outputs": [
        {
          "output_type": "execute_result",
          "data": {
            "text/plain": [
              "[True, 8, 3, 4, 9, 5, 6]"
            ]
          },
          "metadata": {
            "tags": []
          },
          "execution_count": 232
        }
      ]
    },
    {
      "cell_type": "markdown",
      "metadata": {
        "id": "ulafjLL-zIEn"
      },
      "source": [
        "Por lo que hay que usar el método `copy()`"
      ]
    },
    {
      "cell_type": "code",
      "metadata": {
        "colab": {
          "base_uri": "https://localhost:8080/"
        },
        "id": "qFq_IpIxzL8M",
        "outputId": "7eae0134-b49a-4df0-ce3b-26d06ec8e832"
      },
      "source": [
        "lista1 = [5, 8, 3, 4, 9, 5, 6]\n",
        "lista2 = lista1.copy()\n",
        "lista1[0] = True\n",
        "lista2"
      ],
      "execution_count": null,
      "outputs": [
        {
          "output_type": "execute_result",
          "data": {
            "text/plain": [
              "[5, 8, 3, 4, 9, 5, 6]"
            ]
          },
          "metadata": {
            "tags": []
          },
          "execution_count": 233
        }
      ]
    },
    {
      "cell_type": "markdown",
      "metadata": {
        "id": "TP9idoR3zVp9"
      },
      "source": [
        "O hay que usar el constructor de listas `list()`"
      ]
    },
    {
      "cell_type": "code",
      "metadata": {
        "colab": {
          "base_uri": "https://localhost:8080/"
        },
        "id": "2v7jo9ZhzboA",
        "outputId": "b11b01ea-f3cb-432b-86cd-9d6403fdfd59"
      },
      "source": [
        "lista1 = [5, 8, 3, 4, 9, 5, 6]\n",
        "lista2 = list(lista1)\n",
        "lista1[0] = True\n",
        "lista2"
      ],
      "execution_count": null,
      "outputs": [
        {
          "output_type": "execute_result",
          "data": {
            "text/plain": [
              "[5, 8, 3, 4, 9, 5, 6]"
            ]
          },
          "metadata": {
            "tags": []
          },
          "execution_count": 234
        }
      ]
    },
    {
      "cell_type": "markdown",
      "metadata": {
        "id": "ErANBt7hzrHW"
      },
      "source": [
        "##### 2.3.1.5. Concatenar listas"
      ]
    },
    {
      "cell_type": "markdown",
      "metadata": {
        "id": "fyggNBi4z2m6"
      },
      "source": [
        "Se pueden concatenar listas mediante el operador `+`"
      ]
    },
    {
      "cell_type": "code",
      "metadata": {
        "colab": {
          "base_uri": "https://localhost:8080/"
        },
        "id": "HhVssepOz1JE",
        "outputId": "cc5f029b-dca9-439a-d0c2-a26cd8894bde"
      },
      "source": [
        "lista1 = [5, 8, 3, 4, 9, 5, 6]\n",
        "lista2 = ['a', 'b', 'c']\n",
        "lista = lista1 + lista2\n",
        "lista"
      ],
      "execution_count": null,
      "outputs": [
        {
          "output_type": "execute_result",
          "data": {
            "text/plain": [
              "[5, 8, 3, 4, 9, 5, 6, 'a', 'b', 'c']"
            ]
          },
          "metadata": {
            "tags": []
          },
          "execution_count": 235
        }
      ]
    },
    {
      "cell_type": "markdown",
      "metadata": {
        "id": "5FBih5U7z-0S"
      },
      "source": [
        "O mediante el método extend"
      ]
    },
    {
      "cell_type": "code",
      "metadata": {
        "colab": {
          "base_uri": "https://localhost:8080/"
        },
        "id": "cEzt_OWH0C5B",
        "outputId": "46b28907-75da-42e0-eeff-09073c39a31e"
      },
      "source": [
        "lista1 = [5, 8, 3, 4, 9, 5, 6]\n",
        "lista2 = ['a', 'b', 'c']\n",
        "lista1.extend(lista2)\n",
        "lista1"
      ],
      "execution_count": null,
      "outputs": [
        {
          "output_type": "execute_result",
          "data": {
            "text/plain": [
              "[5, 8, 3, 4, 9, 5, 6, 'a', 'b', 'c']"
            ]
          },
          "metadata": {
            "tags": []
          },
          "execution_count": 236
        }
      ]
    },
    {
      "cell_type": "markdown",
      "metadata": {
        "id": "b-7yeNR0pGMY"
      },
      "source": [
        "Otra forma de concatenar es repetir la tupla X veces mediante el operador `*`"
      ]
    },
    {
      "cell_type": "code",
      "metadata": {
        "colab": {
          "base_uri": "https://localhost:8080/"
        },
        "id": "Bw8mA-tCo_ki",
        "outputId": "9baf71b3-108f-41e8-8432-da4994802570"
      },
      "source": [
        "lista1 = ['a', 'b', 'c']\n",
        "lista2 = lista1 * 3\n",
        "lista2"
      ],
      "execution_count": null,
      "outputs": [
        {
          "output_type": "execute_result",
          "data": {
            "text/plain": [
              "['a', 'b', 'c', 'a', 'b', 'c', 'a', 'b', 'c']"
            ]
          },
          "metadata": {
            "tags": []
          },
          "execution_count": 23
        }
      ]
    },
    {
      "cell_type": "markdown",
      "metadata": {
        "id": "CSfyJTznZ0CH"
      },
      "source": [
        "#### 2.3.2. Tuplas"
      ]
    },
    {
      "cell_type": "markdown",
      "metadata": {
        "id": "YR3EWNJWlDb1"
      },
      "source": [
        "Las tuplas son similares a las listas, guardan múltiples items en una variable, pueden contener items de distintos tipos, pero no s epueden modificar, ni reordenar. Se definen mediante `()`, con los items separados por comas\n",
        "\n",
        "Al no poderse modificar hace que las tuplas se ejecuten un poco más rápido que las listas, por lo que si no necesitas modificar los datos es mejor utilizar tuplas en vez de listas\n"
      ]
    },
    {
      "cell_type": "code",
      "metadata": {
        "colab": {
          "base_uri": "https://localhost:8080/"
        },
        "id": "P1wqKH70lZsq",
        "outputId": "ec218c94-81e5-43c1-87ec-b8577eb7a4fe"
      },
      "source": [
        "tupla = ('item0', 1, True, 3.3, 'item4', True)\n",
        "tupla"
      ],
      "execution_count": null,
      "outputs": [
        {
          "output_type": "execute_result",
          "data": {
            "text/plain": [
              "('item0', 1, True, 3.3, 'item4', True)"
            ]
          },
          "metadata": {
            "tags": []
          },
          "execution_count": 15
        }
      ]
    },
    {
      "cell_type": "markdown",
      "metadata": {
        "id": "J6tnK2TIllRy"
      },
      "source": [
        "Se puede obtener su longitud mediante la función `len()`"
      ]
    },
    {
      "cell_type": "code",
      "metadata": {
        "colab": {
          "base_uri": "https://localhost:8080/"
        },
        "id": "IUM8fjtRlw3c",
        "outputId": "1ed30214-4a4d-40b3-a4ea-83aee67eaf90"
      },
      "source": [
        "len (tupla)"
      ],
      "execution_count": null,
      "outputs": [
        {
          "output_type": "execute_result",
          "data": {
            "text/plain": [
              "6"
            ]
          },
          "metadata": {
            "tags": []
          },
          "execution_count": 3
        }
      ]
    },
    {
      "cell_type": "markdown",
      "metadata": {
        "id": "ziE-guzJmA5P"
      },
      "source": [
        "Para crear tuplas con un único elemento es necesario añadir una coma"
      ]
    },
    {
      "cell_type": "code",
      "metadata": {
        "colab": {
          "base_uri": "https://localhost:8080/"
        },
        "id": "P8D2MoXxmEtt",
        "outputId": "fb3c01a8-675f-462f-c7cd-d1810ab75b31"
      },
      "source": [
        "tupla = ('item0',)\n",
        "tupla, type(tupla)"
      ],
      "execution_count": null,
      "outputs": [
        {
          "output_type": "execute_result",
          "data": {
            "text/plain": [
              "(('item0',), tuple)"
            ]
          },
          "metadata": {
            "tags": []
          },
          "execution_count": 5
        }
      ]
    },
    {
      "cell_type": "markdown",
      "metadata": {
        "id": "IVJxppEnmRBp"
      },
      "source": [
        "Para acceder a un elemento de la tupla se procede igual que con las listas"
      ]
    },
    {
      "cell_type": "code",
      "metadata": {
        "colab": {
          "base_uri": "https://localhost:8080/"
        },
        "id": "-r6XPDDbmV2r",
        "outputId": "d303c9d6-c7ee-4796-9579-9ab645ec62ef"
      },
      "source": [
        "tupla = ('item0', 1, True, 3.3, 'item4', True)\n",
        "print(tupla[0])\n",
        "print(tupla[-1])\n",
        "print(tupla[2:4])\n",
        "print(tupla[-4:-2])"
      ],
      "execution_count": null,
      "outputs": [
        {
          "output_type": "stream",
          "text": [
            "item0\n",
            "True\n",
            "(True, 3.3)\n",
            "(True, 3.3)\n"
          ],
          "name": "stdout"
        }
      ]
    },
    {
      "cell_type": "markdown",
      "metadata": {
        "id": "Dx-O1LdtmmVq"
      },
      "source": [
        "Podemos comprobar si hay un item en la tupla"
      ]
    },
    {
      "cell_type": "code",
      "metadata": {
        "colab": {
          "base_uri": "https://localhost:8080/"
        },
        "id": "wjnwZRqgmlc3",
        "outputId": "3354fe50-7290-43f6-9938-33c4b23df782"
      },
      "source": [
        "'item4' in tupla"
      ],
      "execution_count": null,
      "outputs": [
        {
          "output_type": "execute_result",
          "data": {
            "text/plain": [
              "True"
            ]
          },
          "metadata": {
            "tags": []
          },
          "execution_count": 8
        }
      ]
    },
    {
      "cell_type": "markdown",
      "metadata": {
        "id": "DQJ6GbAfmw4T"
      },
      "source": [
        "##### 2.3.2.1. Modificar tuplas"
      ]
    },
    {
      "cell_type": "markdown",
      "metadata": {
        "id": "cTaXy4yHm0-z"
      },
      "source": [
        "Aunque las tuplas no son modificables, se pueden modificar conviertiéndolas a listas, modificando la lista y después volviéndola a convertir a tupla"
      ]
    },
    {
      "cell_type": "code",
      "metadata": {
        "colab": {
          "base_uri": "https://localhost:8080/"
        },
        "id": "bia1D3g4m-dg",
        "outputId": "02cc8be0-8e99-4352-ea9e-c68264fcdb8f"
      },
      "source": [
        "lista = list(tupla)\n",
        "lista[4] = 'ITEM4'\n",
        "tupla = tuple(lista)\n",
        "tupla"
      ],
      "execution_count": null,
      "outputs": [
        {
          "output_type": "execute_result",
          "data": {
            "text/plain": [
              "('item0', 1, True, 3.3, 'ITEM4', True)"
            ]
          },
          "metadata": {
            "tags": []
          },
          "execution_count": 13
        }
      ]
    },
    {
      "cell_type": "markdown",
      "metadata": {
        "id": "_RMuRT01nQb8"
      },
      "source": [
        "Al convertirla a lista podemos hacer todas las modificaciones vistas en las listas"
      ]
    },
    {
      "cell_type": "markdown",
      "metadata": {
        "id": "4Nf7YNaCnXJ0"
      },
      "source": [
        "Lo que sí se puede es eliminar la tupla entera"
      ]
    },
    {
      "cell_type": "code",
      "metadata": {
        "id": "9EWvKYHindM2",
        "colab": {
          "base_uri": "https://localhost:8080/"
        },
        "outputId": "84db500e-c2db-4c0a-95f1-26e6ca0d9c17"
      },
      "source": [
        "del tupla\n",
        "\n",
        "if 'tupla' not in locals():\n",
        "  print(\"tupla eliminada\")"
      ],
      "execution_count": null,
      "outputs": [
        {
          "output_type": "stream",
          "text": [
            "tupla eliminada\n"
          ],
          "name": "stdout"
        }
      ]
    },
    {
      "cell_type": "markdown",
      "metadata": {
        "id": "KX3DK6uBnv9M"
      },
      "source": [
        "##### 2.3.2.2. Desempaquetar tuplas"
      ]
    },
    {
      "cell_type": "markdown",
      "metadata": {
        "id": "-rL8Rq9onzlI"
      },
      "source": [
        "Cuando creamos tuplas, en realidad estamos empaquetando datos"
      ]
    },
    {
      "cell_type": "code",
      "metadata": {
        "colab": {
          "base_uri": "https://localhost:8080/"
        },
        "id": "u2QdA2XWn2vL",
        "outputId": "822d3841-a4de-4df6-98e4-806c2c90e14c"
      },
      "source": [
        "tupla = ('item0', 1, True, 3.3, 'item4', True)\n",
        "tupla"
      ],
      "execution_count": null,
      "outputs": [
        {
          "output_type": "execute_result",
          "data": {
            "text/plain": [
              "('item0', 1, True, 3.3, 'item4', True)"
            ]
          },
          "metadata": {
            "tags": []
          },
          "execution_count": 16
        }
      ]
    },
    {
      "cell_type": "markdown",
      "metadata": {
        "id": "VlZq42F3n4Nj"
      },
      "source": [
        "pero podemos desempaquetarlos"
      ]
    },
    {
      "cell_type": "code",
      "metadata": {
        "colab": {
          "base_uri": "https://localhost:8080/"
        },
        "id": "c9L-3UzEn6Lq",
        "outputId": "3dc6ffb9-0fcc-405d-fbae-b8e2ba366456"
      },
      "source": [
        "item0, item1, item2, item3, item4, item5 = tupla\n",
        "item0, item1, item2, item3, item4, item5"
      ],
      "execution_count": null,
      "outputs": [
        {
          "output_type": "execute_result",
          "data": {
            "text/plain": [
              "('item0', 1, True, 3.3, 'item4', True)"
            ]
          },
          "metadata": {
            "tags": []
          },
          "execution_count": 17
        }
      ]
    },
    {
      "cell_type": "markdown",
      "metadata": {
        "id": "TOvxFVCEoH_h"
      },
      "source": [
        "Si queremos sacar menos datos que la longitud de la tupla añadimos un `*`"
      ]
    },
    {
      "cell_type": "code",
      "metadata": {
        "colab": {
          "base_uri": "https://localhost:8080/"
        },
        "id": "VW-mkzrsoNcM",
        "outputId": "5d3c1fda-900a-41b9-9681-271b68830fce"
      },
      "source": [
        "item0, item1, item2, *item3 = tupla\n",
        "item0, item1, item2, item3"
      ],
      "execution_count": null,
      "outputs": [
        {
          "output_type": "execute_result",
          "data": {
            "text/plain": [
              "('item0', 1, True, [3.3, 'item4', True])"
            ]
          },
          "metadata": {
            "tags": []
          },
          "execution_count": 18
        }
      ]
    },
    {
      "cell_type": "markdown",
      "metadata": {
        "id": "ohn5KT29oTNV"
      },
      "source": [
        "Se puede poner el asterisco `*` en otra parte si por ejemplo lo que queremos es el último item"
      ]
    },
    {
      "cell_type": "code",
      "metadata": {
        "colab": {
          "base_uri": "https://localhost:8080/"
        },
        "id": "LNMvv0EHoaOL",
        "outputId": "042e6c1a-38e6-4033-cb89-329902480a6c"
      },
      "source": [
        "item0, item1, *item2, item5 = tupla\n",
        "item0, item1, item2, item5"
      ],
      "execution_count": null,
      "outputs": [
        {
          "output_type": "execute_result",
          "data": {
            "text/plain": [
              "('item0', 1, [True, 3.3, 'item4'], True)"
            ]
          },
          "metadata": {
            "tags": []
          },
          "execution_count": 19
        }
      ]
    },
    {
      "cell_type": "markdown",
      "metadata": {
        "id": "7hrifCXuokvu"
      },
      "source": [
        "##### 2.3.2.3. Concatenar tuplas"
      ]
    },
    {
      "cell_type": "markdown",
      "metadata": {
        "id": "rR1hpBPUonNw"
      },
      "source": [
        "Se pueden concatenar tuplas mediante el operador `+`"
      ]
    },
    {
      "cell_type": "code",
      "metadata": {
        "colab": {
          "base_uri": "https://localhost:8080/"
        },
        "id": "M_ANplzIoq55",
        "outputId": "4e8be639-2c90-48c6-a075-87bdcf120e97"
      },
      "source": [
        "tupla1 = (\"a\", \"b\" , \"c\")\n",
        "tupla2 = (1, 2, 3)\n",
        "\n",
        "tupla3 = tupla1 + tupla2\n",
        "tupla3"
      ],
      "execution_count": null,
      "outputs": [
        {
          "output_type": "execute_result",
          "data": {
            "text/plain": [
              "('a', 'b', 'c', 1, 2, 3)"
            ]
          },
          "metadata": {
            "tags": []
          },
          "execution_count": 21
        }
      ]
    },
    {
      "cell_type": "markdown",
      "metadata": {
        "id": "mH6qPpjioy9B"
      },
      "source": [
        "Otra forma de concatenar es repetir la tupla X veces mediante el operador `*`"
      ]
    },
    {
      "cell_type": "code",
      "metadata": {
        "colab": {
          "base_uri": "https://localhost:8080/"
        },
        "id": "1wwlDtZjo525",
        "outputId": "ab9b6874-0e17-4a9c-f4c9-cf9a0669aec1"
      },
      "source": [
        "tupla1 = (\"a\", \"b\" , \"c\")\n",
        "\n",
        "tupla2 = tupla1 * 3\n",
        "tupla2"
      ],
      "execution_count": null,
      "outputs": [
        {
          "output_type": "execute_result",
          "data": {
            "text/plain": [
              "('a', 'b', 'c', 'a', 'b', 'c', 'a', 'b', 'c')"
            ]
          },
          "metadata": {
            "tags": []
          },
          "execution_count": 22
        }
      ]
    },
    {
      "cell_type": "markdown",
      "metadata": {
        "id": "iQfJ3yyhpSg_"
      },
      "source": [
        "##### 2.3.2.4. Métodos de las tuplas"
      ]
    },
    {
      "cell_type": "markdown",
      "metadata": {
        "id": "ntsQN8cnpVoU"
      },
      "source": [
        "Las tuplas tienen dos métodos, el primero es el método `count()` que devuelve el número de veces que existe un item dentro de la tupla"
      ]
    },
    {
      "cell_type": "code",
      "metadata": {
        "colab": {
          "base_uri": "https://localhost:8080/"
        },
        "id": "rzuyKRNnpmCz",
        "outputId": "4bcaef64-0e0f-4c8a-f2a0-2290f67780ac"
      },
      "source": [
        "tupla = (5, 4, 6, 5, 7, 8, 5, 3, 1, 5)\n",
        "tupla.count(5)"
      ],
      "execution_count": null,
      "outputs": [
        {
          "output_type": "execute_result",
          "data": {
            "text/plain": [
              "4"
            ]
          },
          "metadata": {
            "tags": []
          },
          "execution_count": 25
        }
      ]
    },
    {
      "cell_type": "markdown",
      "metadata": {
        "id": "oWpMN6KVp48j"
      },
      "source": [
        "Otro método es `index()` que devuelve la primera posición de un item dentro de la tupla"
      ]
    },
    {
      "cell_type": "code",
      "metadata": {
        "id": "uaa3sapHqAqk",
        "colab": {
          "base_uri": "https://localhost:8080/"
        },
        "outputId": "c5e8a849-591b-492a-aa1e-585b3df057ae"
      },
      "source": [
        "tupla = (5, 4, 6, 5, 7, 8, 5, 3, 1, 5)\n",
        "tupla.index(5)"
      ],
      "execution_count": null,
      "outputs": [
        {
          "output_type": "execute_result",
          "data": {
            "text/plain": [
              "0"
            ]
          },
          "metadata": {
            "tags": []
          },
          "execution_count": 26
        }
      ]
    },
    {
      "cell_type": "markdown",
      "metadata": {
        "id": "1XrLXL9pZ3eJ"
      },
      "source": [
        "#### 2.3.3. Range"
      ]
    },
    {
      "cell_type": "markdown",
      "metadata": {
        "id": "Z1JpkK1hTSt0"
      },
      "source": [
        "Con `range()` podemos crear una secuencia de números, comenzando desde 0 (de forma predeterminada), se incrementa en 1 (de forma predeterminada) y se detiene antes de un número especificado\n",
        "\n",
        "\n",
        "\n",
        "```\n",
        "range(start, stop, step)\n",
        "```\n",
        "\n"
      ]
    },
    {
      "cell_type": "markdown",
      "metadata": {
        "id": "G-5_hClmThfT"
      },
      "source": [
        "Por ejemplo si queremos una secuencia de 0 a 5 (sin incluir el 5)"
      ]
    },
    {
      "cell_type": "code",
      "metadata": {
        "colab": {
          "base_uri": "https://localhost:8080/"
        },
        "id": "kpC_SuE0ToYo",
        "outputId": "83443abc-2777-4718-e53f-91fa469f1aa1"
      },
      "source": [
        "for i in range(5):\n",
        "  print(f'{i} ', end='')"
      ],
      "execution_count": null,
      "outputs": [
        {
          "output_type": "stream",
          "text": [
            "0 1 2 3 4 "
          ],
          "name": "stdout"
        }
      ]
    },
    {
      "cell_type": "markdown",
      "metadata": {
        "id": "19tL-BCnT7J2"
      },
      "source": [
        "Si por ejemplo no queremos que empiece en 0"
      ]
    },
    {
      "cell_type": "code",
      "metadata": {
        "colab": {
          "base_uri": "https://localhost:8080/"
        },
        "id": "iZ3x9fiuT9xp",
        "outputId": "f26ee64d-ba99-4fe8-cff0-62fe1105dfd8"
      },
      "source": [
        "for i in range(2, 5):\n",
        "  print(f'{i} ', end='')"
      ],
      "execution_count": null,
      "outputs": [
        {
          "output_type": "stream",
          "text": [
            "2 3 4 "
          ],
          "name": "stdout"
        }
      ]
    },
    {
      "cell_type": "code",
      "metadata": {
        "colab": {
          "base_uri": "https://localhost:8080/"
        },
        "id": "uUhb_Mw6UC0i",
        "outputId": "05d8d1bd-0228-4fda-8a86-19e7ac2c4132"
      },
      "source": [
        "for i in range(-2, 5):\n",
        "  print(f'{i} ', end='')"
      ],
      "execution_count": null,
      "outputs": [
        {
          "output_type": "stream",
          "text": [
            "-2 -1 0 1 2 3 4 "
          ],
          "name": "stdout"
        }
      ]
    },
    {
      "cell_type": "markdown",
      "metadata": {
        "id": "xWoENf-zUJsq"
      },
      "source": [
        "Por último, si no queremos que se incremente en 1. Si por ejemplo queremos una secuencia de número pares"
      ]
    },
    {
      "cell_type": "code",
      "metadata": {
        "colab": {
          "base_uri": "https://localhost:8080/"
        },
        "id": "qDBvKlhrUPsI",
        "outputId": "8d82333e-c02e-416d-991c-143d024359c1"
      },
      "source": [
        "for i in range(0, 10, 2):\n",
        "  print(f'{i} ', end='')"
      ],
      "execution_count": null,
      "outputs": [
        {
          "output_type": "stream",
          "text": [
            "0 2 4 6 8 "
          ],
          "name": "stdout"
        }
      ]
    },
    {
      "cell_type": "markdown",
      "metadata": {
        "id": "BVUXxxTVZXSg"
      },
      "source": [
        "### 2.4. Diccionarios"
      ]
    },
    {
      "cell_type": "markdown",
      "metadata": {
        "id": "Pt6a13arvIwu"
      },
      "source": [
        "Los diccionarios se usan para guardar datos en pares `key:data`. Son modificables, no ordenados y no permiten duplicidades. Se definen mediante los símbolos `{}`. Admiten items de distintos tipos de datos"
      ]
    },
    {
      "cell_type": "code",
      "metadata": {
        "colab": {
          "base_uri": "https://localhost:8080/"
        },
        "id": "Air0ztJ3vv55",
        "outputId": "0a454d86-b6d0-44cc-9723-be856e6855bd"
      },
      "source": [
        "diccionario = {\n",
        "  \"brand\": \"Ford\",\n",
        "  \"model\": \"Mustang\",\n",
        "  \"year\": 1964,\n",
        "  \"colors\": [\"red\", \"white\", \"blue\"]\n",
        "}\n",
        "diccionario"
      ],
      "execution_count": null,
      "outputs": [
        {
          "output_type": "execute_result",
          "data": {
            "text/plain": [
              "{'brand': 'Ford',\n",
              " 'colors': ['red', 'white', 'blue'],\n",
              " 'model': 'Mustang',\n",
              " 'year': 1964}"
            ]
          },
          "metadata": {
            "tags": []
          },
          "execution_count": 8
        }
      ]
    },
    {
      "cell_type": "markdown",
      "metadata": {
        "id": "ZddJ8V0swOl9"
      },
      "source": [
        "Como se ha dicho no permiten duplicidades"
      ]
    },
    {
      "cell_type": "code",
      "metadata": {
        "colab": {
          "base_uri": "https://localhost:8080/"
        },
        "id": "cHnDcOprwVWt",
        "outputId": "daac3805-63be-46d5-c0db-2436e4a57c6a"
      },
      "source": [
        "diccionario = {\n",
        "  \"brand\": \"Ford\",\n",
        "  \"model\": \"Mustang\",\n",
        "  \"year\": 1964,\n",
        "  \"year\": 2000,\n",
        "  \"colors\": [\"red\", \"white\", \"blue\"]\n",
        "}\n",
        "diccionario[\"year\"]"
      ],
      "execution_count": null,
      "outputs": [
        {
          "output_type": "execute_result",
          "data": {
            "text/plain": [
              "2000"
            ]
          },
          "metadata": {
            "tags": []
          },
          "execution_count": 10
        }
      ]
    },
    {
      "cell_type": "markdown",
      "metadata": {
        "id": "xBYA00UIwsML"
      },
      "source": [
        "Se puede obtener su longitud mediante la función `len()`"
      ]
    },
    {
      "cell_type": "code",
      "metadata": {
        "colab": {
          "base_uri": "https://localhost:8080/"
        },
        "id": "EV8veNJuwvq7",
        "outputId": "552ae596-7866-4d97-b989-84d700355c79"
      },
      "source": [
        "len(diccionario)"
      ],
      "execution_count": null,
      "outputs": [
        {
          "output_type": "execute_result",
          "data": {
            "text/plain": [
              "4"
            ]
          },
          "metadata": {
            "tags": []
          },
          "execution_count": 11
        }
      ]
    },
    {
      "cell_type": "markdown",
      "metadata": {
        "id": "uY9_Spvww2iU"
      },
      "source": [
        "Como se puede ver la longitud es 4 y no 5, ya que `year` lo cuenta solo una vez"
      ]
    },
    {
      "cell_type": "markdown",
      "metadata": {
        "id": "e0tzL15RxDJi"
      },
      "source": [
        "#### 2.4.1. Acceder a los items "
      ]
    },
    {
      "cell_type": "markdown",
      "metadata": {
        "id": "6RgdEQpKwGwE"
      },
      "source": [
        "Para acceder a un item lo podemos hacer a través de su `key`"
      ]
    },
    {
      "cell_type": "code",
      "metadata": {
        "colab": {
          "base_uri": "https://localhost:8080/",
          "height": 35
        },
        "id": "BCnBxWO1wCly",
        "outputId": "c4b7c0a5-f98a-43d9-d110-0cde9e711691"
      },
      "source": [
        "diccionario[\"model\"]"
      ],
      "execution_count": null,
      "outputs": [
        {
          "output_type": "execute_result",
          "data": {
            "application/vnd.google.colaboratory.intrinsic+json": {
              "type": "string"
            },
            "text/plain": [
              "'Mustang'"
            ]
          },
          "metadata": {
            "tags": []
          },
          "execution_count": 3
        }
      ]
    },
    {
      "cell_type": "markdown",
      "metadata": {
        "id": "5A0oP_1mxfz_"
      },
      "source": [
        "También se puede acceder mediante el método `get()`"
      ]
    },
    {
      "cell_type": "code",
      "metadata": {
        "colab": {
          "base_uri": "https://localhost:8080/",
          "height": 35
        },
        "id": "PBV2BncDxl_q",
        "outputId": "f8ae0032-5162-4b2b-ad05-10eceb183cb3"
      },
      "source": [
        "diccionario.get(\"model\")"
      ],
      "execution_count": null,
      "outputs": [
        {
          "output_type": "execute_result",
          "data": {
            "application/vnd.google.colaboratory.intrinsic+json": {
              "type": "string"
            },
            "text/plain": [
              "'Mustang'"
            ]
          },
          "metadata": {
            "tags": []
          },
          "execution_count": 12
        }
      ]
    },
    {
      "cell_type": "markdown",
      "metadata": {
        "id": "rLSYC2K8xo3D"
      },
      "source": [
        "Para saber todas las `key`s de los diccionarios se puede usar el método `keys()`"
      ]
    },
    {
      "cell_type": "code",
      "metadata": {
        "colab": {
          "base_uri": "https://localhost:8080/"
        },
        "id": "v7HfhUtPxu74",
        "outputId": "e7f74c83-8c6a-4595-c66f-b848d99a8dab"
      },
      "source": [
        "diccionario.keys()"
      ],
      "execution_count": null,
      "outputs": [
        {
          "output_type": "execute_result",
          "data": {
            "text/plain": [
              "dict_keys(['brand', 'model', 'year', 'colors'])"
            ]
          },
          "metadata": {
            "tags": []
          },
          "execution_count": 13
        }
      ]
    },
    {
      "cell_type": "markdown",
      "metadata": {
        "id": "NfrDTrPfyFDh"
      },
      "source": [
        "Se puede usar una variable para apuntar a las `key`s del diccionario, con lo que llamándola una vez es necesario"
      ]
    },
    {
      "cell_type": "code",
      "metadata": {
        "colab": {
          "base_uri": "https://localhost:8080/"
        },
        "id": "k3X2mDoayN8H",
        "outputId": "3003c8c5-7483-4c83-9b4c-33d9ef8fd648"
      },
      "source": [
        "diccionario = {\n",
        "\"brand\": \"Ford\",\n",
        "\"model\": \"Mustang\",\n",
        "\"year\": 1964\n",
        "}\n",
        "\n",
        "# Se declara una vez la variable que apunta a las keys\n",
        "x = diccionario.keys()\n",
        "print(x)\n",
        "\n",
        "# Se añade una nueva key\n",
        "diccionario[\"color\"] = \"white\"\n",
        "\n",
        "# Se consulta la variable que apunta a las key\n",
        "print(x)"
      ],
      "execution_count": null,
      "outputs": [
        {
          "output_type": "stream",
          "text": [
            "dict_keys(['brand', 'model', 'year'])\n",
            "dict_keys(['brand', 'model', 'year', 'color'])\n"
          ],
          "name": "stdout"
        }
      ]
    },
    {
      "cell_type": "markdown",
      "metadata": {
        "id": "e8audHRlx5Lg"
      },
      "source": [
        "Para obtener los valores del diccionario se puede usar el método 'values()'"
      ]
    },
    {
      "cell_type": "code",
      "metadata": {
        "colab": {
          "base_uri": "https://localhost:8080/"
        },
        "id": "yCRGhaCFx9fd",
        "outputId": "3c9e257a-99e8-40ab-8e98-1f27746e41c8"
      },
      "source": [
        "diccionario.values()"
      ],
      "execution_count": null,
      "outputs": [
        {
          "output_type": "execute_result",
          "data": {
            "text/plain": [
              "dict_values(['Ford', 'Mustang', 2000, ['red', 'white', 'blue']])"
            ]
          },
          "metadata": {
            "tags": []
          },
          "execution_count": 14
        }
      ]
    },
    {
      "cell_type": "markdown",
      "metadata": {
        "id": "HifGBtmGylKN"
      },
      "source": [
        "Se puede usar una variable para apuntar a los `values`s del diccionario, con lo que llamándola una vez es necesario"
      ]
    },
    {
      "cell_type": "code",
      "metadata": {
        "colab": {
          "base_uri": "https://localhost:8080/"
        },
        "id": "n9yYxQh1yn2r",
        "outputId": "a3e628d7-c01b-443f-af0e-57a9a8a3ae04"
      },
      "source": [
        "diccionario = {\n",
        "\"brand\": \"Ford\",\n",
        "\"model\": \"Mustang\",\n",
        "\"year\": 1964\n",
        "}\n",
        "\n",
        "# Se declara una vez la variable que apunta a los values\n",
        "x = diccionario.values()\n",
        "print(x)\n",
        "\n",
        "# Se modifica un value\n",
        "diccionario[\"year\"] = 2020\n",
        "\n",
        "# Se consulta la variable que apunta a los values\n",
        "print(x)"
      ],
      "execution_count": null,
      "outputs": [
        {
          "output_type": "stream",
          "text": [
            "dict_values(['Ford', 'Mustang', 1964])\n",
            "dict_values(['Ford', 'Mustang', 2020])\n"
          ],
          "name": "stdout"
        }
      ]
    },
    {
      "cell_type": "markdown",
      "metadata": {
        "id": "G0IjoDX6y8bE"
      },
      "source": [
        "Si lo que se quiere son los `item`s enteros, es decir `key`s y `value`s hay que usar el método `items()`"
      ]
    },
    {
      "cell_type": "code",
      "metadata": {
        "colab": {
          "base_uri": "https://localhost:8080/"
        },
        "id": "v8xVffhQzGCP",
        "outputId": "157ea4e9-b409-457d-a9c3-fccff26b35ac"
      },
      "source": [
        "diccionario.items()"
      ],
      "execution_count": null,
      "outputs": [
        {
          "output_type": "execute_result",
          "data": {
            "text/plain": [
              "dict_items([('brand', 'Ford'), ('model', 'Mustang'), ('year', 2020)])"
            ]
          },
          "metadata": {
            "tags": []
          },
          "execution_count": 19
        }
      ]
    },
    {
      "cell_type": "markdown",
      "metadata": {
        "id": "XYHjxNDYzOcG"
      },
      "source": [
        "Se puede usar una variable para apuntar a los `item`s del diccionario, con lo que llamándola una vez es necesario"
      ]
    },
    {
      "cell_type": "code",
      "metadata": {
        "colab": {
          "base_uri": "https://localhost:8080/"
        },
        "id": "O05iILJTzTv6",
        "outputId": "1272cbda-71af-4245-9491-42b0c9b4a347"
      },
      "source": [
        "diccionario = {\n",
        "\"brand\": \"Ford\",\n",
        "\"model\": \"Mustang\",\n",
        "\"year\": 1964\n",
        "}\n",
        "\n",
        "# Se declara una vez la variable que apunta a los items\n",
        "x = diccionario.items()\n",
        "print(x)\n",
        "\n",
        "# Se modifica un value\n",
        "diccionario[\"year\"] = 2020\n",
        "\n",
        "# Se consulta la variable que apunta a los items\n",
        "print(x)"
      ],
      "execution_count": null,
      "outputs": [
        {
          "output_type": "stream",
          "text": [
            "dict_items([('brand', 'Ford'), ('model', 'Mustang'), ('year', 1964)])\n",
            "dict_items([('brand', 'Ford'), ('model', 'Mustang'), ('year', 2020)])\n"
          ],
          "name": "stdout"
        }
      ]
    },
    {
      "cell_type": "markdown",
      "metadata": {
        "id": "asEdm1LQzbF-"
      },
      "source": [
        "Se puede checkear si una `key` existe en el diccionario"
      ]
    },
    {
      "cell_type": "code",
      "metadata": {
        "colab": {
          "base_uri": "https://localhost:8080/"
        },
        "id": "FrhmNgvYzgKW",
        "outputId": "146140d2-b2b7-4276-8af9-04f7d8cf36c8"
      },
      "source": [
        "\"model\" in diccionario"
      ],
      "execution_count": null,
      "outputs": [
        {
          "output_type": "execute_result",
          "data": {
            "text/plain": [
              "True"
            ]
          },
          "metadata": {
            "tags": []
          },
          "execution_count": 21
        }
      ]
    },
    {
      "cell_type": "markdown",
      "metadata": {
        "id": "2DrbqmhGzzo8"
      },
      "source": [
        "#### 2.4.2. Modificar los items "
      ]
    },
    {
      "cell_type": "markdown",
      "metadata": {
        "id": "ZkNqwkihz3NQ"
      },
      "source": [
        "Se puede modificar un `item` accediendo a el directamente"
      ]
    },
    {
      "cell_type": "code",
      "metadata": {
        "colab": {
          "base_uri": "https://localhost:8080/"
        },
        "id": "iavTKPVyz17N",
        "outputId": "9437a915-b4a4-49e5-d6af-cfe5c2cbb05b"
      },
      "source": [
        "diccionario = {\n",
        "\"brand\": \"Ford\",\n",
        "\"model\": \"Mustang\",\n",
        "\"year\": 1964\n",
        "}\n",
        "\n",
        "# Se modifica un item\n",
        "diccionario[\"year\"] = 2020\n",
        "\n",
        "diccionario"
      ],
      "execution_count": null,
      "outputs": [
        {
          "output_type": "execute_result",
          "data": {
            "text/plain": [
              "{'brand': 'Ford', 'model': 'Mustang', 'year': 2020}"
            ]
          },
          "metadata": {
            "tags": []
          },
          "execution_count": 22
        }
      ]
    },
    {
      "cell_type": "markdown",
      "metadata": {
        "id": "pjkheNpb0HRs"
      },
      "source": [
        "O se puede modificar mediante el método `update()`"
      ]
    },
    {
      "cell_type": "code",
      "metadata": {
        "colab": {
          "base_uri": "https://localhost:8080/"
        },
        "id": "Fk5ySfjQ0KZH",
        "outputId": "abfe08d5-f3a5-42bd-df3e-e6bf72b7b19b"
      },
      "source": [
        "diccionario = {\n",
        "  \"brand\": \"Ford\",\n",
        "  \"model\": \"Mustang\",\n",
        "  \"year\": 1964\n",
        "}\n",
        "\n",
        "# Se modifica un item\n",
        "diccionario.update({\"year\": 2020})\n",
        "\n",
        "diccionario"
      ],
      "execution_count": null,
      "outputs": [
        {
          "output_type": "execute_result",
          "data": {
            "text/plain": [
              "{'brand': 'Ford', 'model': 'Mustang', 'year': 2020}"
            ]
          },
          "metadata": {
            "tags": []
          },
          "execution_count": 23
        }
      ]
    },
    {
      "cell_type": "markdown",
      "metadata": {
        "id": "DhQGWfEP0Vy7"
      },
      "source": [
        "#### 2.4.3. Añadir items "
      ]
    },
    {
      "cell_type": "markdown",
      "metadata": {
        "id": "lSLQtc2o0VzL"
      },
      "source": [
        "Se puede añadir un `item` añadiéndolo sin más"
      ]
    },
    {
      "cell_type": "code",
      "metadata": {
        "colab": {
          "base_uri": "https://localhost:8080/"
        },
        "id": "PnWGZYzG0VzN",
        "outputId": "57f0f2cf-433a-46da-e9b5-c641e553afdf"
      },
      "source": [
        "diccionario = {\n",
        "\"brand\": \"Ford\",\n",
        "\"model\": \"Mustang\",\n",
        "\"year\": 1964\n",
        "}\n",
        "\n",
        "# Se modifica un item\n",
        "diccionario[\"colour\"] = \"blue\"\n",
        "\n",
        "diccionario"
      ],
      "execution_count": null,
      "outputs": [
        {
          "output_type": "execute_result",
          "data": {
            "text/plain": [
              "{'brand': 'Ford', 'colour': 'blue', 'model': 'Mustang', 'year': 1964}"
            ]
          },
          "metadata": {
            "tags": []
          },
          "execution_count": 24
        }
      ]
    },
    {
      "cell_type": "markdown",
      "metadata": {
        "id": "wBDo65oc0VzQ"
      },
      "source": [
        "O se puede añadir mediante el método `update()`"
      ]
    },
    {
      "cell_type": "code",
      "metadata": {
        "colab": {
          "base_uri": "https://localhost:8080/"
        },
        "id": "4M8r8x_M0VzS",
        "outputId": "16b5e8d4-0498-4e0a-8161-10a8a1bc9417"
      },
      "source": [
        "diccionario = {\n",
        "  \"brand\": \"Ford\",\n",
        "  \"model\": \"Mustang\",\n",
        "  \"year\": 1964\n",
        "}\n",
        "\n",
        "# Se modifica un item\n",
        "diccionario.update({\"colour\": \"blue\"})\n",
        "\n",
        "diccionario"
      ],
      "execution_count": null,
      "outputs": [
        {
          "output_type": "execute_result",
          "data": {
            "text/plain": [
              "{'brand': 'Ford', 'colour': 'blue', 'model': 'Mustang', 'year': 1964}"
            ]
          },
          "metadata": {
            "tags": []
          },
          "execution_count": 25
        }
      ]
    },
    {
      "cell_type": "markdown",
      "metadata": {
        "id": "SKmqirfO0saC"
      },
      "source": [
        "#### 2.4.4. Eliminar items"
      ]
    },
    {
      "cell_type": "markdown",
      "metadata": {
        "id": "7WOxBep30w0F"
      },
      "source": [
        "Se puede eliminar un `item` con una `key` específica mediante el método `pop()`"
      ]
    },
    {
      "cell_type": "code",
      "metadata": {
        "colab": {
          "base_uri": "https://localhost:8080/"
        },
        "id": "HoLQRBsv05Bl",
        "outputId": "77022ab5-d418-412a-816f-b70788a29239"
      },
      "source": [
        "diccionario = {\n",
        "  \"brand\": \"Ford\",\n",
        "  \"model\": \"Mustang\",\n",
        "  \"year\": 1964\n",
        "}\n",
        "\n",
        "# Se elimina un item\n",
        "diccionario.pop(\"model\")\n",
        "\n",
        "diccionario"
      ],
      "execution_count": null,
      "outputs": [
        {
          "output_type": "execute_result",
          "data": {
            "text/plain": [
              "{'brand': 'Ford', 'year': 1964}"
            ]
          },
          "metadata": {
            "tags": []
          },
          "execution_count": 26
        }
      ]
    },
    {
      "cell_type": "markdown",
      "metadata": {
        "id": "uXNmFelm1Vw1"
      },
      "source": [
        "O se puede eliminar un `item` con una `key` específica mediante `del` indicando el nombre de la `key` entre los símbolos `[]`"
      ]
    },
    {
      "cell_type": "code",
      "metadata": {
        "colab": {
          "base_uri": "https://localhost:8080/"
        },
        "id": "FirXMc8I1bk1",
        "outputId": "cafbb7dd-e7d7-4883-cf2d-ccf6dfa627d0"
      },
      "source": [
        "diccionario = {\n",
        "  \"brand\": \"Ford\",\n",
        "  \"model\": \"Mustang\",\n",
        "  \"year\": 1964\n",
        "}\n",
        "\n",
        "# Se elimina un item\n",
        "del diccionario[\"model\"]\n",
        "\n",
        "diccionario"
      ],
      "execution_count": null,
      "outputs": [
        {
          "output_type": "execute_result",
          "data": {
            "text/plain": [
              "{'brand': 'Ford', 'year': 1964}"
            ]
          },
          "metadata": {
            "tags": []
          },
          "execution_count": 29
        }
      ]
    },
    {
      "cell_type": "markdown",
      "metadata": {
        "id": "uXpEVpzm1snM"
      },
      "source": [
        "Se elimina el diccionario entero si se usa `del` y no se especifica la `key` de un `item`"
      ]
    },
    {
      "cell_type": "code",
      "metadata": {
        "colab": {
          "base_uri": "https://localhost:8080/"
        },
        "id": "GrcB2G-r2FcU",
        "outputId": "8837e236-748a-4914-aea7-1bb113bce450"
      },
      "source": [
        "diccionario = {\n",
        "  \"brand\": \"Ford\",\n",
        "  \"model\": \"Mustang\",\n",
        "  \"year\": 1964\n",
        "}\n",
        "\n",
        "# Se elimina un item\n",
        "del diccionario\n",
        "\n",
        "if 'diccionario' not in locals():\n",
        "  print(\"diccionario eliminado\")"
      ],
      "execution_count": null,
      "outputs": [
        {
          "output_type": "stream",
          "text": [
            "diccionario eliminado\n"
          ],
          "name": "stdout"
        }
      ]
    },
    {
      "cell_type": "markdown",
      "metadata": {
        "id": "TvG2BpZz1A8L"
      },
      "source": [
        "Si lo que se quiere es eliminar el último `item` introducido se puede usar el método `popitem()`"
      ]
    },
    {
      "cell_type": "code",
      "metadata": {
        "colab": {
          "base_uri": "https://localhost:8080/"
        },
        "id": "8diByaKO1M5p",
        "outputId": "14668065-6618-483b-f85e-49d86cc5ca9d"
      },
      "source": [
        "diccionario = {\n",
        "  \"brand\": \"Ford\",\n",
        "  \"model\": \"Mustang\",\n",
        "  \"year\": 1964\n",
        "}\n",
        "\n",
        "# Se elimina el último item introducido\n",
        "diccionario.popitem()\n",
        "\n",
        "diccionario"
      ],
      "execution_count": null,
      "outputs": [
        {
          "output_type": "execute_result",
          "data": {
            "text/plain": [
              "{'brand': 'Ford', 'model': 'Mustang'}"
            ]
          },
          "metadata": {
            "tags": []
          },
          "execution_count": 27
        }
      ]
    },
    {
      "cell_type": "markdown",
      "metadata": {
        "id": "jodtPAgV25wG"
      },
      "source": [
        "Si se quiere limpiar el diccionario hay que usar el método `clear()`"
      ]
    },
    {
      "cell_type": "code",
      "metadata": {
        "colab": {
          "base_uri": "https://localhost:8080/"
        },
        "id": "DkxaRg-h3CZl",
        "outputId": "987ad7c7-3809-49e1-f695-ed37d31b710a"
      },
      "source": [
        "diccionario = {\n",
        "  \"brand\": \"Ford\",\n",
        "  \"model\": \"Mustang\",\n",
        "  \"year\": 1964\n",
        "}\n",
        "diccionario.clear()\n",
        "diccionario"
      ],
      "execution_count": null,
      "outputs": [
        {
          "output_type": "execute_result",
          "data": {
            "text/plain": [
              "{}"
            ]
          },
          "metadata": {
            "tags": []
          },
          "execution_count": 36
        }
      ]
    },
    {
      "cell_type": "markdown",
      "metadata": {
        "id": "99zvxb7z3UXQ"
      },
      "source": [
        "#### 2.4.5. Copiar diccionarios"
      ]
    },
    {
      "cell_type": "markdown",
      "metadata": {
        "id": "1TMKYb8F3UXp"
      },
      "source": [
        "No se pueden copiar diccionarios mediante `diccionario1 = diccionario2`, ya que si se modifica `diccionario1` también se modifica `diccionario2`"
      ]
    },
    {
      "cell_type": "code",
      "metadata": {
        "colab": {
          "base_uri": "https://localhost:8080/"
        },
        "id": "qqwVNCyW3UXp",
        "outputId": "59881cd2-ba60-405d-b535-8a6cf761deca"
      },
      "source": [
        "diccionario1 = {\n",
        "  \"brand\": \"Ford\",\n",
        "  \"model\": \"Mustang\",\n",
        "  \"year\": 1964\n",
        "}\n",
        "diccionario2 = diccionario1\n",
        "diccionario1[\"year\"] = 2000\n",
        "diccionario2[\"year\"]"
      ],
      "execution_count": null,
      "outputs": [
        {
          "output_type": "execute_result",
          "data": {
            "text/plain": [
              "2000"
            ]
          },
          "metadata": {
            "tags": []
          },
          "execution_count": 37
        }
      ]
    },
    {
      "cell_type": "markdown",
      "metadata": {
        "id": "-XEDc9-K3UXq"
      },
      "source": [
        "Por lo que hay que usar el método `copy()`"
      ]
    },
    {
      "cell_type": "code",
      "metadata": {
        "colab": {
          "base_uri": "https://localhost:8080/"
        },
        "id": "hHfu0gRe3UXr",
        "outputId": "fcbbb878-7a3c-4c03-f152-72c111afc234"
      },
      "source": [
        "diccionario1 = {\n",
        "  \"brand\": \"Ford\",\n",
        "  \"model\": \"Mustang\",\n",
        "  \"year\": 1964\n",
        "}\n",
        "diccionario2 = diccionario1.copy()\n",
        "diccionario1[\"year\"] = 2000\n",
        "diccionario2[\"year\"]"
      ],
      "execution_count": null,
      "outputs": [
        {
          "output_type": "execute_result",
          "data": {
            "text/plain": [
              "1964"
            ]
          },
          "metadata": {
            "tags": []
          },
          "execution_count": 38
        }
      ]
    },
    {
      "cell_type": "markdown",
      "metadata": {
        "id": "dATKiqgl3UXr"
      },
      "source": [
        "O hay que usar el constructor de diccionarios `dict()`"
      ]
    },
    {
      "cell_type": "code",
      "metadata": {
        "colab": {
          "base_uri": "https://localhost:8080/"
        },
        "id": "eaRQxN963UXr",
        "outputId": "2f4ed2c9-a3d3-4ede-cfe6-f22eac2c03e3"
      },
      "source": [
        "diccionario1 = {\n",
        "  \"brand\": \"Ford\",\n",
        "  \"model\": \"Mustang\",\n",
        "  \"year\": 1964\n",
        "}\n",
        "diccionario2 = dict(diccionario1)\n",
        "diccionario1[\"year\"] = 2000\n",
        "diccionario2[\"year\"]"
      ],
      "execution_count": null,
      "outputs": [
        {
          "output_type": "execute_result",
          "data": {
            "text/plain": [
              "1964"
            ]
          },
          "metadata": {
            "tags": []
          },
          "execution_count": 40
        }
      ]
    },
    {
      "cell_type": "markdown",
      "metadata": {
        "id": "BKSrSLi84C7h"
      },
      "source": [
        "#### 2.4.6. Diccionarios nested"
      ]
    },
    {
      "cell_type": "markdown",
      "metadata": {
        "id": "iCHG6Mr54HUQ"
      },
      "source": [
        "Los diccionarios pueden tener `items`s de cualquier tipo de dato, incluso otros diccionarios. A este tipo de diccionarios se les denomina diccionarios `nested`"
      ]
    },
    {
      "cell_type": "code",
      "metadata": {
        "colab": {
          "base_uri": "https://localhost:8080/"
        },
        "id": "FAoyMHE64Ujf",
        "outputId": "4e4818d8-5546-41ca-d481-9abea8968b49"
      },
      "source": [
        "diccionario_nested = {\n",
        "  \"child1\" : {\n",
        "    \"name\" : \"Emil\",\n",
        "    \"year\" : 2004\n",
        "  },\n",
        "  \"child2\" : {\n",
        "    \"name\" : \"Tobias\",\n",
        "    \"year\" : 2007\n",
        "  },\n",
        "  \"child3\" : {\n",
        "    \"name\" : \"Linus\",\n",
        "    \"year\" : 2011\n",
        "  }\n",
        "}\n",
        "diccionario_nested"
      ],
      "execution_count": null,
      "outputs": [
        {
          "output_type": "execute_result",
          "data": {
            "text/plain": [
              "{'child1': {'name': 'Emil', 'year': 2004},\n",
              " 'child2': {'name': 'Tobias', 'year': 2007},\n",
              " 'child3': {'name': 'Linus', 'year': 2011}}"
            ]
          },
          "metadata": {
            "tags": []
          },
          "execution_count": 41
        }
      ]
    },
    {
      "cell_type": "code",
      "metadata": {
        "colab": {
          "base_uri": "https://localhost:8080/"
        },
        "id": "o3J9KzwP4e1U",
        "outputId": "813e8fc4-813a-4b4e-afd6-5ea0a3e072f0"
      },
      "source": [
        "child1 = {\n",
        "  \"name\" : \"Emil\",\n",
        "  \"year\" : 2004\n",
        "}\n",
        "child2 = {\n",
        "  \"name\" : \"Tobias\",\n",
        "  \"year\" : 2007\n",
        "}\n",
        "child3 = {\n",
        "  \"name\" : \"Linus\",\n",
        "  \"year\" : 2011\n",
        "}\n",
        "\n",
        "diccionario_nested = {\n",
        "  \"child1\" : child1,\n",
        "  \"child2\" : child2,\n",
        "  \"child3\" : child3\n",
        "}\n",
        "\n",
        "diccionario_nested"
      ],
      "execution_count": null,
      "outputs": [
        {
          "output_type": "execute_result",
          "data": {
            "text/plain": [
              "{'child1': {'name': 'Emil', 'year': 2004},\n",
              " 'child2': {'name': 'Tobias', 'year': 2007},\n",
              " 'child3': {'name': 'Linus', 'year': 2011}}"
            ]
          },
          "metadata": {
            "tags": []
          },
          "execution_count": 42
        }
      ]
    },
    {
      "cell_type": "markdown",
      "metadata": {
        "id": "bqLGlVmm4pDB"
      },
      "source": [
        "#### 2.4.7. Métodos de los diccionarios"
      ]
    },
    {
      "cell_type": "markdown",
      "metadata": {
        "id": "8DWitc0s4sTW"
      },
      "source": [
        "Estos son los [métodos](https://www.w3schools.com/python/python_dictionaries_methods.asp) que se pueden usar en los diccionarios"
      ]
    },
    {
      "cell_type": "markdown",
      "metadata": {
        "id": "7oEyr0xWZZ_y"
      },
      "source": [
        "### 2.5. Sets"
      ]
    },
    {
      "cell_type": "markdown",
      "metadata": {
        "id": "Mezqo3a9Z_8A"
      },
      "source": [
        "#### 2.5.1. Set"
      ]
    },
    {
      "cell_type": "markdown",
      "metadata": {
        "id": "T8BePxtefajM"
      },
      "source": [
        "Los `sets`s se utilizan en python para guardar un conjunto de items en una sola variable. Se puede guardar items de distinto tipo. Son no ordenados y no tienen indice.\n",
        "\n",
        "Se diferencian de las listas en que no tienen ni orden ni índice.\n",
        "\n",
        "Se declaran mediante los símbolos `{}`"
      ]
    },
    {
      "cell_type": "markdown",
      "metadata": {
        "id": "Qwkyo_QTgEKg"
      },
      "source": [
        "Como `set` es una palabra reservada en Python creamos un `set` con el nombre `set_`"
      ]
    },
    {
      "cell_type": "code",
      "metadata": {
        "colab": {
          "base_uri": "https://localhost:8080/"
        },
        "id": "sFqrE6zifzJe",
        "outputId": "07c58143-c208-477c-a9b4-9dd32d10fe7f"
      },
      "source": [
        "set_ = {'item0', 1, 5.3, \"item4\", 5, 6.6}\n",
        "set_"
      ],
      "execution_count": null,
      "outputs": [
        {
          "output_type": "execute_result",
          "data": {
            "text/plain": [
              "{1, 5, 5.3, 6.6, 'item0', 'item4'}"
            ]
          },
          "metadata": {
            "tags": []
          },
          "execution_count": 17
        }
      ]
    },
    {
      "cell_type": "markdown",
      "metadata": {
        "id": "9Co3_4J4gU76"
      },
      "source": [
        "No puede haber items duplicados, si encuentra algún item duplicado se queda solo con uno"
      ]
    },
    {
      "cell_type": "code",
      "metadata": {
        "colab": {
          "base_uri": "https://localhost:8080/"
        },
        "id": "2CkpN99vgctG",
        "outputId": "743cb926-2e0a-4342-9d60-743db5d29fd0"
      },
      "source": [
        "set_ = {'item0', 1, 5.3, \"item4\", 5, 6.6, 'item0'}\n",
        "set_"
      ],
      "execution_count": null,
      "outputs": [
        {
          "output_type": "execute_result",
          "data": {
            "text/plain": [
              "{1, 5, 5.3, 6.6, 'item0', 'item4'}"
            ]
          },
          "metadata": {
            "tags": []
          },
          "execution_count": 18
        }
      ]
    },
    {
      "cell_type": "markdown",
      "metadata": {
        "id": "kuTfGMPOgmEn"
      },
      "source": [
        "Se puede obtener la longitud del `set` mediante la función `len()`"
      ]
    },
    {
      "cell_type": "code",
      "metadata": {
        "colab": {
          "base_uri": "https://localhost:8080/"
        },
        "id": "nqbIWoXPgrF6",
        "outputId": "047f0d8b-ee9d-4cec-f30f-89583a5c0517"
      },
      "source": [
        "len(set_)"
      ],
      "execution_count": null,
      "outputs": [
        {
          "output_type": "execute_result",
          "data": {
            "text/plain": [
              "6"
            ]
          },
          "metadata": {
            "tags": []
          },
          "execution_count": 19
        }
      ]
    },
    {
      "cell_type": "markdown",
      "metadata": {
        "id": "PbEwjHvvg8rx"
      },
      "source": [
        "Como se puede ver la longitud del set es 6 y no 7, ya que se queda con un solo `'item0'`"
      ]
    },
    {
      "cell_type": "markdown",
      "metadata": {
        "id": "g0QNKz8DhOrd"
      },
      "source": [
        "Se puede checkear si un item se encuentra en el set"
      ]
    },
    {
      "cell_type": "code",
      "metadata": {
        "colab": {
          "base_uri": "https://localhost:8080/"
        },
        "id": "SuG6Lo2ZhSkW",
        "outputId": "214b4061-bd07-4247-e272-b7d8f3d18b51"
      },
      "source": [
        "'item4' in set_"
      ],
      "execution_count": null,
      "outputs": [
        {
          "output_type": "execute_result",
          "data": {
            "text/plain": [
              "True"
            ]
          },
          "metadata": {
            "tags": []
          },
          "execution_count": 20
        }
      ]
    },
    {
      "cell_type": "markdown",
      "metadata": {
        "id": "z2E3y-2shi1-"
      },
      "source": [
        "##### 2.5.1.1. Añadir items"
      ]
    },
    {
      "cell_type": "markdown",
      "metadata": {
        "id": "CuTdmJSahotu"
      },
      "source": [
        "Se puede añadir un item al set mediante el método `add()`"
      ]
    },
    {
      "cell_type": "code",
      "metadata": {
        "colab": {
          "base_uri": "https://localhost:8080/"
        },
        "id": "vTdjU-EAhltR",
        "outputId": "fd558e79-8946-4358-deb5-3604eafb918f"
      },
      "source": [
        "set_.add(8.8)\n",
        "set_"
      ],
      "execution_count": null,
      "outputs": [
        {
          "output_type": "execute_result",
          "data": {
            "text/plain": [
              "{1, 5, 5.3, 6.6, 8.8, 'item0', 'item4'}"
            ]
          },
          "metadata": {
            "tags": []
          },
          "execution_count": 21
        }
      ]
    },
    {
      "cell_type": "markdown",
      "metadata": {
        "id": "k27XyYeRh0Of"
      },
      "source": [
        "Se puede añadir otro set mediante el método `update()`"
      ]
    },
    {
      "cell_type": "code",
      "metadata": {
        "colab": {
          "base_uri": "https://localhost:8080/"
        },
        "id": "IKYJLJxYh5op",
        "outputId": "1cdcbaf7-a8b5-43fe-b2f4-ef489bf03631"
      },
      "source": [
        "set2 = {\"item5\", \"item6\", 7}\n",
        "set_.update(set2)\n",
        "set_"
      ],
      "execution_count": null,
      "outputs": [
        {
          "output_type": "execute_result",
          "data": {
            "text/plain": [
              "{1, 5, 5.3, 6.6, 7, 8.8, 'item0', 'item4', 'item5', 'item6'}"
            ]
          },
          "metadata": {
            "tags": []
          },
          "execution_count": 22
        }
      ]
    },
    {
      "cell_type": "markdown",
      "metadata": {
        "id": "hm751MNciHHZ"
      },
      "source": [
        "También se pueden añadir items de tipos de datos iterables de Python"
      ]
    },
    {
      "cell_type": "code",
      "metadata": {
        "colab": {
          "base_uri": "https://localhost:8080/"
        },
        "id": "_iHUUiPziL75",
        "outputId": "c0494a91-00dc-4c77-cba7-88fb446bef65"
      },
      "source": [
        "lista = [\"item9\", 10, 11.2]\n",
        "set_.update(lista)\n",
        "set_"
      ],
      "execution_count": null,
      "outputs": [
        {
          "output_type": "execute_result",
          "data": {
            "text/plain": [
              "{1, 10, 11.2, 5, 5.3, 6.6, 7, 8.8, 'item0', 'item4', 'item5', 'item6', 'item9'}"
            ]
          },
          "metadata": {
            "tags": []
          },
          "execution_count": 23
        }
      ]
    },
    {
      "cell_type": "markdown",
      "metadata": {
        "id": "1TGlcKL8iZVa"
      },
      "source": [
        "##### 2.5.1.2. Eliminar items"
      ]
    },
    {
      "cell_type": "markdown",
      "metadata": {
        "id": "uF65tWYDif1v"
      },
      "source": [
        "Se puede eliminar un item determinado mediante el método `remove()`"
      ]
    },
    {
      "cell_type": "code",
      "metadata": {
        "colab": {
          "base_uri": "https://localhost:8080/"
        },
        "id": "Kx8DKpXvikMr",
        "outputId": "ae16cdd6-876a-4524-a8ac-19f962245ce8"
      },
      "source": [
        "set_.remove('item9')\n",
        "set_"
      ],
      "execution_count": null,
      "outputs": [
        {
          "output_type": "execute_result",
          "data": {
            "text/plain": [
              "{1, 10, 11.2, 5, 5.3, 6.6, 7, 8.8, 'item0', 'item4', 'item5', 'item6'}"
            ]
          },
          "metadata": {
            "tags": []
          },
          "execution_count": 24
        }
      ]
    },
    {
      "cell_type": "markdown",
      "metadata": {
        "id": "TtCod3sQirg7"
      },
      "source": [
        "O mediante el método `discard()`"
      ]
    },
    {
      "cell_type": "code",
      "metadata": {
        "colab": {
          "base_uri": "https://localhost:8080/"
        },
        "id": "4UXQN0EpivKn",
        "outputId": "7923d3e3-27c9-43e8-9bc3-660373e68875"
      },
      "source": [
        "set_.discard('item6')\n",
        "set_"
      ],
      "execution_count": null,
      "outputs": [
        {
          "output_type": "execute_result",
          "data": {
            "text/plain": [
              "{1, 10, 11.2, 5, 5.3, 6.6, 7, 8.8, 'item0', 'item4', 'item5'}"
            ]
          },
          "metadata": {
            "tags": []
          },
          "execution_count": 25
        }
      ]
    },
    {
      "cell_type": "markdown",
      "metadata": {
        "id": "UG0QOHrji3qn"
      },
      "source": [
        "Mediante el método `pop()` se puede eliminar el último item, pero como los `set`s no son ordenados no hay manera de saber cúal es el último item. El método `pop()` devuelve el item eliminado"
      ]
    },
    {
      "cell_type": "code",
      "metadata": {
        "colab": {
          "base_uri": "https://localhost:8080/"
        },
        "id": "X9LmVBZ2i_EC",
        "outputId": "b2960c2b-7e43-4b47-e890-59c27db836dd"
      },
      "source": [
        "print(f\"set antes de pop(): {set_}\")\n",
        "eliminado = set_.pop()\n",
        "print(f\"Se ha eliminado {eliminado}\")"
      ],
      "execution_count": null,
      "outputs": [
        {
          "output_type": "stream",
          "text": [
            "set antes de pop(): {1, 5, 5.3, 6.6, 8.8, 7, 10, 11.2, 'item4', 'item0', 'item5'}\n",
            "Se ha eliminado 1\n"
          ],
          "name": "stdout"
        }
      ]
    },
    {
      "cell_type": "markdown",
      "metadata": {
        "id": "HnrDwpZmjxK0"
      },
      "source": [
        "Mediante el método `clear()` se puede vaciar el set"
      ]
    },
    {
      "cell_type": "code",
      "metadata": {
        "colab": {
          "base_uri": "https://localhost:8080/"
        },
        "id": "z0NlBUFdj0sx",
        "outputId": "716cc094-f69e-4b26-f994-bd5640116c4d"
      },
      "source": [
        "set_.clear()\n",
        "set_"
      ],
      "execution_count": null,
      "outputs": [
        {
          "output_type": "execute_result",
          "data": {
            "text/plain": [
              "set()"
            ]
          },
          "metadata": {
            "tags": []
          },
          "execution_count": 27
        }
      ]
    },
    {
      "cell_type": "markdown",
      "metadata": {
        "id": "coI1XsJhj7Hj"
      },
      "source": [
        "Por úlitmo, con `del` se puede eliminar el set"
      ]
    },
    {
      "cell_type": "code",
      "metadata": {
        "colab": {
          "base_uri": "https://localhost:8080/"
        },
        "id": "_xB5qAUqkRA8",
        "outputId": "a92f6f58-605a-4071-d20b-0c62de702236"
      },
      "source": [
        "del set_\n",
        "\n",
        "if 'set_' not in locals():\n",
        "  print(\"set eliminado\")"
      ],
      "execution_count": null,
      "outputs": [
        {
          "output_type": "stream",
          "text": [
            "set eliminado\n"
          ],
          "name": "stdout"
        }
      ]
    },
    {
      "cell_type": "markdown",
      "metadata": {
        "id": "qvBqEGDzkgGP"
      },
      "source": [
        "##### 2.5.1.3. Unir items"
      ]
    },
    {
      "cell_type": "markdown",
      "metadata": {
        "id": "8jgM0iNSkhtS"
      },
      "source": [
        "Una forma de unir sets es mediante el método `union()`"
      ]
    },
    {
      "cell_type": "code",
      "metadata": {
        "colab": {
          "base_uri": "https://localhost:8080/"
        },
        "id": "AsLR8ixJkpV-",
        "outputId": "8f343074-a669-4b57-f874-6c0478e49f17"
      },
      "source": [
        "set1 = {\"a\", \"b\" , \"c\"}\n",
        "set2 = {1, 2, 3}\n",
        "set3 = set1.union(set2)\n",
        "set3"
      ],
      "execution_count": null,
      "outputs": [
        {
          "output_type": "execute_result",
          "data": {
            "text/plain": [
              "{1, 2, 3, 'a', 'b', 'c'}"
            ]
          },
          "metadata": {
            "tags": []
          },
          "execution_count": 29
        }
      ]
    },
    {
      "cell_type": "markdown",
      "metadata": {
        "id": "XtIU61J7ktFe"
      },
      "source": [
        "Otra forma es mediante el método `update()`, pero de esta manera se añade un set en otro, no se crea uno nuevo"
      ]
    },
    {
      "cell_type": "code",
      "metadata": {
        "colab": {
          "base_uri": "https://localhost:8080/"
        },
        "id": "cckwqzDvk0AE",
        "outputId": "45f9373e-e0a6-48f8-9eb9-8213cc488d06"
      },
      "source": [
        "set1 = {\"a\", \"b\" , \"c\"}\n",
        "set2 = {1, 2, 3}\n",
        "set1.update(set2)\n",
        "set1"
      ],
      "execution_count": null,
      "outputs": [
        {
          "output_type": "execute_result",
          "data": {
            "text/plain": [
              "{1, 2, 3, 'a', 'b', 'c'}"
            ]
          },
          "metadata": {
            "tags": []
          },
          "execution_count": 30
        }
      ]
    },
    {
      "cell_type": "markdown",
      "metadata": {
        "id": "ZlTpvJ8WlTQU"
      },
      "source": [
        "Estos métodos de union elimina los duplicados, pero si queremos obtener los items duplicados en dos sets usamos el método `intersection()`"
      ]
    },
    {
      "cell_type": "code",
      "metadata": {
        "colab": {
          "base_uri": "https://localhost:8080/"
        },
        "id": "iGu6yzoVlWj3",
        "outputId": "bc78d5a8-13b9-4f1f-e96f-1e0c14eb579a"
      },
      "source": [
        "set1 = {\"apple\", \"banana\", \"cherry\"}\n",
        "set2 = {\"google\", \"microsoft\", \"apple\"}\n",
        "\n",
        "set3 = set1.intersection(set2)\n",
        "set3"
      ],
      "execution_count": null,
      "outputs": [
        {
          "output_type": "execute_result",
          "data": {
            "text/plain": [
              "{'apple'}"
            ]
          },
          "metadata": {
            "tags": []
          },
          "execution_count": 35
        }
      ]
    },
    {
      "cell_type": "markdown",
      "metadata": {
        "id": "odcY0EgUk7wF"
      },
      "source": [
        "Si queremos obtener los items duplicados en dos sets, pero sin crear un set nuevo, usamos el método `intersection_update()`"
      ]
    },
    {
      "cell_type": "code",
      "metadata": {
        "colab": {
          "base_uri": "https://localhost:8080/"
        },
        "id": "gZGuaYoLlFgR",
        "outputId": "0677ebaa-7279-4247-d8f7-2e2857c6f49a"
      },
      "source": [
        "set1 = {\"apple\", \"banana\", \"cherry\"}\n",
        "set2 = {\"google\", \"microsoft\", \"apple\"}\n",
        "\n",
        "set1.intersection_update(set2)\n",
        "set1"
      ],
      "execution_count": null,
      "outputs": [
        {
          "output_type": "execute_result",
          "data": {
            "text/plain": [
              "{'apple'}"
            ]
          },
          "metadata": {
            "tags": []
          },
          "execution_count": 36
        }
      ]
    },
    {
      "cell_type": "markdown",
      "metadata": {
        "id": "fTt6Pe8aluGm"
      },
      "source": [
        "Ahora al revés, si queremos quedarnos con los no duplicados usamos el método `symmetric_difference()`. \n",
        "\n",
        "La diferencia entre eso y la unión entre dos sets es que en la unión se queda con todos los items, pero los que están duplicados solo los coge una vez. Ahora nos quedamos con los que no están duplicados"
      ]
    },
    {
      "cell_type": "code",
      "metadata": {
        "colab": {
          "base_uri": "https://localhost:8080/"
        },
        "id": "GLUjkTVGmGxN",
        "outputId": "aebefa2d-ef05-4628-c8f8-bb43acb72190"
      },
      "source": [
        "set1 = {\"apple\", \"banana\", \"cherry\"}\n",
        "set2 = {\"google\", \"microsoft\", \"apple\"}\n",
        "\n",
        "set3 = set1.symmetric_difference(set2)\n",
        "set3"
      ],
      "execution_count": null,
      "outputs": [
        {
          "output_type": "execute_result",
          "data": {
            "text/plain": [
              "{'banana', 'cherry', 'google', 'microsoft'}"
            ]
          },
          "metadata": {
            "tags": []
          },
          "execution_count": 37
        }
      ]
    },
    {
      "cell_type": "markdown",
      "metadata": {
        "id": "nxaXg1lvmOfX"
      },
      "source": [
        "Si queremos quedarnos con los no duplicados sin crear un set nuevo usamos el método `symmetric_difference_update()`"
      ]
    },
    {
      "cell_type": "code",
      "metadata": {
        "colab": {
          "base_uri": "https://localhost:8080/"
        },
        "id": "UPbfYh2PmX6O",
        "outputId": "2ace457d-d6e4-4a29-f554-694883ffbee1"
      },
      "source": [
        "set1 = {\"apple\", \"banana\", \"cherry\"}\n",
        "set2 = {\"google\", \"microsoft\", \"apple\"}\n",
        "\n",
        "set1.symmetric_difference_update(set2)\n",
        "set1"
      ],
      "execution_count": null,
      "outputs": [
        {
          "output_type": "execute_result",
          "data": {
            "text/plain": [
              "{'banana', 'cherry', 'google', 'microsoft'}"
            ]
          },
          "metadata": {
            "tags": []
          },
          "execution_count": 38
        }
      ]
    },
    {
      "cell_type": "markdown",
      "metadata": {
        "id": "f-1-LgWpmf-c"
      },
      "source": [
        "##### 2.5.1.4. Métodos de los sets"
      ]
    },
    {
      "cell_type": "markdown",
      "metadata": {
        "id": "4Rh2tGnkmlbs"
      },
      "source": [
        "Estos son los [métodos](https://www.w3schools.com/python/python_sets_methods.asp) que se pueden usar en los sets"
      ]
    },
    {
      "cell_type": "markdown",
      "metadata": {
        "id": "ijxIwaxraDFO"
      },
      "source": [
        "#### 2.5.2. Frozenset"
      ]
    },
    {
      "cell_type": "markdown",
      "metadata": {
        "id": "lU8UdGoimsox"
      },
      "source": [
        "Los `frozenset`s son como los `set`s pero con la salvedad de que son inmutables, al igual que las `tupla`s son como las `list`s pero inmutables. Por lo que no podremos añadir o eliminar items\n"
      ]
    },
    {
      "cell_type": "markdown",
      "metadata": {
        "id": "hfBghjhuZdYY"
      },
      "source": [
        "### 2.6. Booleanos"
      ]
    },
    {
      "cell_type": "markdown",
      "metadata": {
        "id": "gYwAWhEKnH0H"
      },
      "source": [
        "Hay solo dos booleanos en Python: `True` y `False`\n",
        "\n"
      ]
    },
    {
      "cell_type": "markdown",
      "metadata": {
        "id": "EOZvJFErnZmu"
      },
      "source": [
        "Mediante la función `bool()` se puede evaluar si cualquier cosa es `True` o `False`"
      ]
    },
    {
      "cell_type": "code",
      "metadata": {
        "colab": {
          "base_uri": "https://localhost:8080/"
        },
        "id": "1REXUQOxnfZ1",
        "outputId": "d03afe8f-3110-4d66-9c5e-9878d9c5a8f0"
      },
      "source": [
        "print(bool(\"Hello\"))\n",
        "print(bool(15))\n",
        "print(bool(0))"
      ],
      "execution_count": null,
      "outputs": [
        {
          "output_type": "stream",
          "text": [
            "True\n",
            "True\n",
            "False\n"
          ],
          "name": "stdout"
        }
      ]
    },
    {
      "cell_type": "markdown",
      "metadata": {
        "id": "of8HDP7jnmrU"
      },
      "source": [
        "#### 2.6.1. Otros tipos de datos True o False"
      ]
    },
    {
      "cell_type": "markdown",
      "metadata": {
        "id": "1iYLFhQEnp4U"
      },
      "source": [
        "Los siguientes datos son `True`:\n",
        "*   Cualquier string que no esté vacío\n",
        "*   Cualquier número escepto el 0\n",
        "*   Cualquier lista, tupla, diccionario o set que no esté vacío\n",
        "\n"
      ]
    },
    {
      "cell_type": "code",
      "metadata": {
        "colab": {
          "base_uri": "https://localhost:8080/"
        },
        "id": "tmd1Ji_RoBuH",
        "outputId": "bc47f37f-bfbe-4dc9-d63e-54eb1f8b670c"
      },
      "source": [
        "print(bool(\"Hola\"))\n",
        "print(bool(\"\"))"
      ],
      "execution_count": null,
      "outputs": [
        {
          "output_type": "stream",
          "text": [
            "True\n",
            "False\n"
          ],
          "name": "stdout"
        }
      ]
    },
    {
      "cell_type": "code",
      "metadata": {
        "colab": {
          "base_uri": "https://localhost:8080/"
        },
        "id": "HDyk6bOuoJo-",
        "outputId": "27a86d97-00b1-46ce-c62b-eea2802f5936"
      },
      "source": [
        "print(bool(3))\n",
        "print(bool(0))"
      ],
      "execution_count": null,
      "outputs": [
        {
          "output_type": "stream",
          "text": [
            "True\n",
            "False\n"
          ],
          "name": "stdout"
        }
      ]
    },
    {
      "cell_type": "code",
      "metadata": {
        "colab": {
          "base_uri": "https://localhost:8080/"
        },
        "id": "op-NW-f5oKrU",
        "outputId": "2be281c2-5231-4c6e-b051-b2db2ba838bc"
      },
      "source": [
        "lista = [1, 2, 3]\n",
        "print(bool(lista))\n",
        "\n",
        "lista = []\n",
        "print(bool(lista))"
      ],
      "execution_count": null,
      "outputs": [
        {
          "output_type": "stream",
          "text": [
            "True\n",
            "False\n"
          ],
          "name": "stdout"
        }
      ]
    },
    {
      "cell_type": "code",
      "metadata": {
        "colab": {
          "base_uri": "https://localhost:8080/"
        },
        "id": "w03mKZc3oR6v",
        "outputId": "50450c4e-49f0-405c-d780-dd52ccc4f987"
      },
      "source": [
        "tupla = (1, 2, 3)\n",
        "print(bool(tupla))\n",
        "\n",
        "tupla = ()\n",
        "print(bool(tupla))"
      ],
      "execution_count": null,
      "outputs": [
        {
          "output_type": "stream",
          "text": [
            "True\n",
            "False\n"
          ],
          "name": "stdout"
        }
      ]
    },
    {
      "cell_type": "code",
      "metadata": {
        "colab": {
          "base_uri": "https://localhost:8080/"
        },
        "id": "dJfUya7goYJV",
        "outputId": "55082d43-c54f-47f5-e87f-2f85d82c3695"
      },
      "source": [
        "diccionario = {\n",
        "  \"brand\": \"Ford\",\n",
        "  \"model\": \"Mustang\",\n",
        "  \"year\": 1964,\n",
        "  \"colors\": [\"red\", \"white\", \"blue\"]\n",
        "}\n",
        "print(bool(diccionario))\n",
        "\n",
        "diccionario.clear()\n",
        "print(bool(diccionario))"
      ],
      "execution_count": null,
      "outputs": [
        {
          "output_type": "stream",
          "text": [
            "True\n",
            "False\n"
          ],
          "name": "stdout"
        }
      ]
    },
    {
      "cell_type": "code",
      "metadata": {
        "colab": {
          "base_uri": "https://localhost:8080/"
        },
        "id": "P-b0a-rEoqlc",
        "outputId": "ede8991f-5e35-4b00-f4e8-0d92b2ed5e7c"
      },
      "source": [
        "set_ = {'item0', 1, 5.3, \"item4\", 5, 6.6}\n",
        "print(bool(set_))\n",
        "\n",
        "set_.clear()\n",
        "print(bool(set_))"
      ],
      "execution_count": null,
      "outputs": [
        {
          "output_type": "stream",
          "text": [
            "True\n",
            "False\n"
          ],
          "name": "stdout"
        }
      ]
    },
    {
      "cell_type": "markdown",
      "metadata": {
        "id": "BgT3Hnc0ZfjL"
      },
      "source": [
        "### 2.7. Binarios"
      ]
    },
    {
      "cell_type": "markdown",
      "metadata": {
        "id": "MfU4l6OCaMUA"
      },
      "source": [
        "#### 2.7.1. Bytes"
      ]
    },
    {
      "cell_type": "markdown",
      "metadata": {
        "id": "JUqLiO5xqWV3"
      },
      "source": [
        "El tipo `bytes` es una secuencia inmutable de bytes. Solo admiten caracteres ASCII. También se pueden representar los bytes mediante números enteros cuyo valores deben cumplir `0 <= x < 256`"
      ]
    },
    {
      "cell_type": "markdown",
      "metadata": {
        "id": "I9hYBQzeqpD-"
      },
      "source": [
        "Para crear un tipo byte debemos introducir antes el caracter `b`"
      ]
    },
    {
      "cell_type": "code",
      "metadata": {
        "colab": {
          "base_uri": "https://localhost:8080/"
        },
        "id": "NIuckty4qha0",
        "outputId": "a3850a91-82a0-473e-860e-d25103ce742c"
      },
      "source": [
        "byte = b\"DeepMaxFN\"\n",
        "byte"
      ],
      "execution_count": null,
      "outputs": [
        {
          "output_type": "execute_result",
          "data": {
            "text/plain": [
              "b'DeepMaxFN'"
            ]
          },
          "metadata": {
            "tags": []
          },
          "execution_count": 6
        }
      ]
    },
    {
      "cell_type": "markdown",
      "metadata": {
        "id": "FGv6Ac6TrB2Z"
      },
      "source": [
        "También se pueden crear mediante su contructor `bytes()`"
      ]
    },
    {
      "cell_type": "code",
      "metadata": {
        "colab": {
          "base_uri": "https://localhost:8080/"
        },
        "id": "8iPqaAuHrG5e",
        "outputId": "bab25a8d-8420-4ff5-8493-7e8e59083e72"
      },
      "source": [
        "byte = bytes(10)\n",
        "byte"
      ],
      "execution_count": null,
      "outputs": [
        {
          "output_type": "execute_result",
          "data": {
            "text/plain": [
              "b'\\x00\\x00\\x00\\x00\\x00\\x00\\x00\\x00\\x00\\x00'"
            ]
          },
          "metadata": {
            "tags": []
          },
          "execution_count": 3
        }
      ]
    },
    {
      "cell_type": "code",
      "metadata": {
        "colab": {
          "base_uri": "https://localhost:8080/"
        },
        "id": "aKak5c2drKd1",
        "outputId": "4287689e-b8d0-4f98-c66f-ef73d8e00731"
      },
      "source": [
        "byte = bytes(range(10))\n",
        "byte"
      ],
      "execution_count": null,
      "outputs": [
        {
          "output_type": "execute_result",
          "data": {
            "text/plain": [
              "b'\\x00\\x01\\x02\\x03\\x04\\x05\\x06\\x07\\x08\\t'"
            ]
          },
          "metadata": {
            "tags": []
          },
          "execution_count": 5
        }
      ]
    },
    {
      "cell_type": "markdown",
      "metadata": {
        "id": "w4xkSSgyrZ7p"
      },
      "source": [
        "Se pueden concatenar bytes mediante el operador `+`"
      ]
    },
    {
      "cell_type": "code",
      "metadata": {
        "colab": {
          "base_uri": "https://localhost:8080/"
        },
        "id": "IZUgQAfrrgHn",
        "outputId": "6930039f-9069-4cf5-f26a-9a01a8be7b65"
      },
      "source": [
        "byte1 = b'DeepMax'\n",
        "byte2 = b'FN'\n",
        "byte3 = byte1 + byte2\n",
        "byte3"
      ],
      "execution_count": null,
      "outputs": [
        {
          "output_type": "execute_result",
          "data": {
            "text/plain": [
              "b'DeepMaxFN'"
            ]
          },
          "metadata": {
            "tags": []
          },
          "execution_count": 7
        }
      ]
    },
    {
      "cell_type": "markdown",
      "metadata": {
        "id": "wyYc2mcprqEW"
      },
      "source": [
        "O medainte la repetición con el operador `*`"
      ]
    },
    {
      "cell_type": "code",
      "metadata": {
        "colab": {
          "base_uri": "https://localhost:8080/"
        },
        "id": "jUCDHJYJruvJ",
        "outputId": "b86a7fab-0800-4293-903e-3dd0207d6a32"
      },
      "source": [
        "byte1 = b'DeepMaxFN '\n",
        "byte2 = byte1 * 3\n",
        "byte2"
      ],
      "execution_count": null,
      "outputs": [
        {
          "output_type": "execute_result",
          "data": {
            "text/plain": [
              "b'DeepMaxFN DeepMaxFN DeepMaxFN '"
            ]
          },
          "metadata": {
            "tags": []
          },
          "execution_count": 8
        }
      ]
    },
    {
      "cell_type": "markdown",
      "metadata": {
        "id": "vJjLkW3wr26q"
      },
      "source": [
        "Podemos comprobar si un caracter está dentro de la cadena"
      ]
    },
    {
      "cell_type": "code",
      "metadata": {
        "colab": {
          "base_uri": "https://localhost:8080/"
        },
        "id": "xR9URN4Wr5-5",
        "outputId": "847fcf75-c67d-40fb-db58-f328e031cf5c"
      },
      "source": [
        "b'D' in byte1"
      ],
      "execution_count": null,
      "outputs": [
        {
          "output_type": "execute_result",
          "data": {
            "text/plain": [
              "True"
            ]
          },
          "metadata": {
            "tags": []
          },
          "execution_count": 10
        }
      ]
    },
    {
      "cell_type": "markdown",
      "metadata": {
        "id": "tuTA8gSqsk-0"
      },
      "source": [
        "Estos son los [métodos](https://plataforma.josedomingo.org/pledin/cursos/python3/curso/u30/#m%C3%A9todos-de-bytes-y-bytearray) que se pueden usar en los `bytes`"
      ]
    },
    {
      "cell_type": "markdown",
      "metadata": {
        "id": "4ZoLmGbDaPVF"
      },
      "source": [
        "#### 2.7.2. Bytearray"
      ]
    },
    {
      "cell_type": "markdown",
      "metadata": {
        "id": "GSzWgym0s0RC"
      },
      "source": [
        "Los `bytearray`s son igual que los `bytes` solo que son mutables"
      ]
    },
    {
      "cell_type": "code",
      "metadata": {
        "colab": {
          "base_uri": "https://localhost:8080/"
        },
        "id": "2_edjY5OtCNM",
        "outputId": "dde9f3f9-2f45-4bb4-b86d-dea3d0e9f5be"
      },
      "source": [
        "byte_array = bytearray(b'DeepMaxFN')\n",
        "byte_array"
      ],
      "execution_count": null,
      "outputs": [
        {
          "output_type": "execute_result",
          "data": {
            "text/plain": [
              "bytearray(b'DeepMaxFN')"
            ]
          },
          "metadata": {
            "tags": []
          },
          "execution_count": 12
        }
      ]
    },
    {
      "cell_type": "markdown",
      "metadata": {
        "id": "-Ypi8660aST-"
      },
      "source": [
        "#### 2.7.3. Memoryview"
      ]
    },
    {
      "cell_type": "markdown",
      "metadata": {
        "id": "XEjNAeSqv0U2"
      },
      "source": [
        "Los objetos `memoryview` permiten que el código Python acceda a los datos internos de un objeto que admite el protocolo de búfer sin realizar copias.\n",
        "\n",
        "La función `memoryview()` permite el acceso directo de lectura y escritura a los datos orientados a bytes de un objeto sin necesidad de copiarlos primero. Eso puede generar grandes ganancias de rendimiento cuando se opera con objetos grandes, ya que no crea una copia al cortar.\n",
        "\n",
        "Protocolo de búfer, puede crear otro objeto de acceso para modificar los datos grandes sin copiarlos. Esto hace que el programa utilice menos memoria y aumenta la velocidad de ejecución."
      ]
    },
    {
      "cell_type": "code",
      "metadata": {
        "id": "yr8pc6-2WNdO",
        "colab": {
          "base_uri": "https://localhost:8080/"
        },
        "outputId": "4e06c6b6-2f03-4238-911b-8ef4a01a2f3c"
      },
      "source": [
        "byte_array = bytearray('XYZ', 'utf-8')\n",
        "print(f'Antes de acceder a la memoria: {byte_array}')\n",
        "\n",
        "mem_view = memoryview(byte_array)\n",
        "\n",
        "mem_view[2]= 74\n",
        "print(f'Después de acceder a la memoria: {byte_array}')"
      ],
      "execution_count": null,
      "outputs": [
        {
          "output_type": "stream",
          "text": [
            "Antes de acceder a la memoria: bytearray(b'XYZ')\n",
            "Después de acceder a la memoria: bytearray(b'XYJ')\n"
          ],
          "name": "stdout"
        }
      ]
    },
    {
      "cell_type": "markdown",
      "metadata": {
        "id": "MqIT1jh3rCkh"
      },
      "source": [
        "## 3. Operadores"
      ]
    },
    {
      "cell_type": "markdown",
      "metadata": {
        "id": "q_edgveKrRao"
      },
      "source": [
        "### 3.1. Operadores aritméticos"
      ]
    },
    {
      "cell_type": "markdown",
      "metadata": {
        "id": "32jbjk3qsqO4"
      },
      "source": [
        "Operador suma `+`"
      ]
    },
    {
      "cell_type": "code",
      "metadata": {
        "colab": {
          "base_uri": "https://localhost:8080/"
        },
        "id": "Lh2wv7aQrAUT",
        "outputId": "708f589e-0bb2-475d-90cd-f3290938995a"
      },
      "source": [
        "3 + 5"
      ],
      "execution_count": null,
      "outputs": [
        {
          "output_type": "execute_result",
          "data": {
            "text/plain": [
              "8"
            ]
          },
          "metadata": {
            "tags": []
          },
          "execution_count": 1
        }
      ]
    },
    {
      "cell_type": "markdown",
      "metadata": {
        "id": "OOk15PWJswRo"
      },
      "source": [
        "Oeprador resta `-`"
      ]
    },
    {
      "cell_type": "code",
      "metadata": {
        "colab": {
          "base_uri": "https://localhost:8080/"
        },
        "id": "7BEVydS8syKU",
        "outputId": "853b1cc1-765a-44b2-824c-dcd5cf7b1dab"
      },
      "source": [
        "3 - 5"
      ],
      "execution_count": null,
      "outputs": [
        {
          "output_type": "execute_result",
          "data": {
            "text/plain": [
              "-2"
            ]
          },
          "metadata": {
            "tags": []
          },
          "execution_count": 2
        }
      ]
    },
    {
      "cell_type": "markdown",
      "metadata": {
        "id": "8tRCgcJdszz7"
      },
      "source": [
        "Operador multiplicación `*`"
      ]
    },
    {
      "cell_type": "code",
      "metadata": {
        "colab": {
          "base_uri": "https://localhost:8080/"
        },
        "id": "PH74tGZus4E8",
        "outputId": "39d635f2-06d7-4c91-9847-4e477068248a"
      },
      "source": [
        "3 * 5"
      ],
      "execution_count": null,
      "outputs": [
        {
          "output_type": "execute_result",
          "data": {
            "text/plain": [
              "15"
            ]
          },
          "metadata": {
            "tags": []
          },
          "execution_count": 3
        }
      ]
    },
    {
      "cell_type": "markdown",
      "metadata": {
        "id": "P-MY-k_Gs5XA"
      },
      "source": [
        "Operador división `/`"
      ]
    },
    {
      "cell_type": "code",
      "metadata": {
        "colab": {
          "base_uri": "https://localhost:8080/"
        },
        "id": "4azKrfHms7Pi",
        "outputId": "830e29a3-8491-4be8-e37e-ccb5d1ce389a"
      },
      "source": [
        "3 / 5"
      ],
      "execution_count": null,
      "outputs": [
        {
          "output_type": "execute_result",
          "data": {
            "text/plain": [
              "0.6"
            ]
          },
          "metadata": {
            "tags": []
          },
          "execution_count": 4
        }
      ]
    },
    {
      "cell_type": "markdown",
      "metadata": {
        "id": "ZT0UEm55s8XV"
      },
      "source": [
        "Operador módulo `%`. Devuelve el resto de una división"
      ]
    },
    {
      "cell_type": "code",
      "metadata": {
        "colab": {
          "base_uri": "https://localhost:8080/"
        },
        "id": "PTADqQTytGF2",
        "outputId": "f8ef508f-62d3-4a97-a021-3aa63f6d4af2"
      },
      "source": [
        "25 % 2"
      ],
      "execution_count": null,
      "outputs": [
        {
          "output_type": "execute_result",
          "data": {
            "text/plain": [
              "1"
            ]
          },
          "metadata": {
            "tags": []
          },
          "execution_count": 25
        }
      ]
    },
    {
      "cell_type": "markdown",
      "metadata": {
        "id": "2hJnK9JQtbOL"
      },
      "source": [
        "Operador exponente `**`"
      ]
    },
    {
      "cell_type": "code",
      "metadata": {
        "colab": {
          "base_uri": "https://localhost:8080/"
        },
        "id": "_2VCd8IWtVAa",
        "outputId": "1c234914-c581-42e3-d8d1-a00130db4fd1"
      },
      "source": [
        "5 ** 2"
      ],
      "execution_count": null,
      "outputs": [
        {
          "output_type": "execute_result",
          "data": {
            "text/plain": [
              "25"
            ]
          },
          "metadata": {
            "tags": []
          },
          "execution_count": 7
        }
      ]
    },
    {
      "cell_type": "markdown",
      "metadata": {
        "id": "KdfWFSgntgV8"
      },
      "source": [
        "Operador división entera `//`"
      ]
    },
    {
      "cell_type": "code",
      "metadata": {
        "colab": {
          "base_uri": "https://localhost:8080/"
        },
        "id": "hfVRm9rAtZX9",
        "outputId": "ec7643d8-b81c-42bc-b581-5a85f78f3d86"
      },
      "source": [
        "25 // 2"
      ],
      "execution_count": null,
      "outputs": [
        {
          "output_type": "execute_result",
          "data": {
            "text/plain": [
              "12"
            ]
          },
          "metadata": {
            "tags": []
          },
          "execution_count": 8
        }
      ]
    },
    {
      "cell_type": "markdown",
      "metadata": {
        "id": "Tr9OttU3t86K"
      },
      "source": [
        "### 3.2. Operadores de comparación"
      ]
    },
    {
      "cell_type": "markdown",
      "metadata": {
        "id": "TJseZwsKxV1P"
      },
      "source": [
        "Operador es igual `==`"
      ]
    },
    {
      "cell_type": "code",
      "metadata": {
        "colab": {
          "base_uri": "https://localhost:8080/"
        },
        "id": "W3L7NhJwxnFJ",
        "outputId": "b9da42e2-d108-460a-9f22-0075f7faa041"
      },
      "source": [
        "1 == 1"
      ],
      "execution_count": null,
      "outputs": [
        {
          "output_type": "execute_result",
          "data": {
            "text/plain": [
              "True"
            ]
          },
          "metadata": {
            "tags": []
          },
          "execution_count": 30
        }
      ]
    },
    {
      "cell_type": "markdown",
      "metadata": {
        "id": "jsEs0b7xxY9u"
      },
      "source": [
        "Operador es distinto `!=`"
      ]
    },
    {
      "cell_type": "code",
      "metadata": {
        "colab": {
          "base_uri": "https://localhost:8080/"
        },
        "id": "_dDNqXs4xo4e",
        "outputId": "46ae46ac-f7d5-4be6-aba2-c231c65b756c"
      },
      "source": [
        "1 != 2"
      ],
      "execution_count": null,
      "outputs": [
        {
          "output_type": "execute_result",
          "data": {
            "text/plain": [
              "True"
            ]
          },
          "metadata": {
            "tags": []
          },
          "execution_count": 31
        }
      ]
    },
    {
      "cell_type": "markdown",
      "metadata": {
        "id": "BrnU8TRSxbcX"
      },
      "source": [
        "Operador es mayor que `>`"
      ]
    },
    {
      "cell_type": "code",
      "metadata": {
        "colab": {
          "base_uri": "https://localhost:8080/"
        },
        "id": "8gTAl8pIxqoh",
        "outputId": "0a46204d-8c8c-407c-ba44-a34e22915510"
      },
      "source": [
        "3 > 2"
      ],
      "execution_count": null,
      "outputs": [
        {
          "output_type": "execute_result",
          "data": {
            "text/plain": [
              "True"
            ]
          },
          "metadata": {
            "tags": []
          },
          "execution_count": 32
        }
      ]
    },
    {
      "cell_type": "markdown",
      "metadata": {
        "id": "7ESopsXHxeHC"
      },
      "source": [
        "Operador es menor que `<`"
      ]
    },
    {
      "cell_type": "code",
      "metadata": {
        "colab": {
          "base_uri": "https://localhost:8080/"
        },
        "id": "5ehDwFuuxsMT",
        "outputId": "3cd11748-e7db-4f17-bda4-12549b7bac9f"
      },
      "source": [
        "2 < 3"
      ],
      "execution_count": null,
      "outputs": [
        {
          "output_type": "execute_result",
          "data": {
            "text/plain": [
              "True"
            ]
          },
          "metadata": {
            "tags": []
          },
          "execution_count": 33
        }
      ]
    },
    {
      "cell_type": "markdown",
      "metadata": {
        "id": "rqVRFgVdxgCQ"
      },
      "source": [
        "Operador es mayor o igual que `>=`"
      ]
    },
    {
      "cell_type": "code",
      "metadata": {
        "colab": {
          "base_uri": "https://localhost:8080/"
        },
        "id": "u2ggu-DaxttS",
        "outputId": "bc937d86-84f3-4ab4-d1d0-500930b2b3f4"
      },
      "source": [
        "3 >= 3"
      ],
      "execution_count": null,
      "outputs": [
        {
          "output_type": "execute_result",
          "data": {
            "text/plain": [
              "True"
            ]
          },
          "metadata": {
            "tags": []
          },
          "execution_count": 34
        }
      ]
    },
    {
      "cell_type": "markdown",
      "metadata": {
        "id": "KRzXWVsBxitV"
      },
      "source": [
        "Operador es menor o igual que `<=`"
      ]
    },
    {
      "cell_type": "code",
      "metadata": {
        "colab": {
          "base_uri": "https://localhost:8080/"
        },
        "id": "Dm54xKJTxvoX",
        "outputId": "65d96a49-475c-402d-a0d0-6e3ceca99441"
      },
      "source": [
        "3 <= 3"
      ],
      "execution_count": null,
      "outputs": [
        {
          "output_type": "execute_result",
          "data": {
            "text/plain": [
              "True"
            ]
          },
          "metadata": {
            "tags": []
          },
          "execution_count": 35
        }
      ]
    },
    {
      "cell_type": "markdown",
      "metadata": {
        "id": "89HReqhquAWK"
      },
      "source": [
        "### 3.3. Operadores lógicos"
      ]
    },
    {
      "cell_type": "markdown",
      "metadata": {
        "id": "7TKizwzox18T"
      },
      "source": [
        "Operador `and`"
      ]
    },
    {
      "cell_type": "code",
      "metadata": {
        "colab": {
          "base_uri": "https://localhost:8080/"
        },
        "id": "HSpIvV9Mx96Z",
        "outputId": "b981cda0-2dbb-4ea5-95d2-ca48eb094064"
      },
      "source": [
        "True and True"
      ],
      "execution_count": null,
      "outputs": [
        {
          "output_type": "execute_result",
          "data": {
            "text/plain": [
              "True"
            ]
          },
          "metadata": {
            "tags": []
          },
          "execution_count": 37
        }
      ]
    },
    {
      "cell_type": "markdown",
      "metadata": {
        "id": "wSqCNRqIx4Bv"
      },
      "source": [
        "Operador `or`"
      ]
    },
    {
      "cell_type": "code",
      "metadata": {
        "colab": {
          "base_uri": "https://localhost:8080/"
        },
        "id": "xupikh-UyD-P",
        "outputId": "b682bb37-a7f0-4d2f-d129-4a2acac51eff"
      },
      "source": [
        "True or False"
      ],
      "execution_count": null,
      "outputs": [
        {
          "output_type": "execute_result",
          "data": {
            "text/plain": [
              "True"
            ]
          },
          "metadata": {
            "tags": []
          },
          "execution_count": 38
        }
      ]
    },
    {
      "cell_type": "markdown",
      "metadata": {
        "id": "QUWQb9tix6Ce"
      },
      "source": [
        "Operador `not`"
      ]
    },
    {
      "cell_type": "code",
      "metadata": {
        "colab": {
          "base_uri": "https://localhost:8080/"
        },
        "id": "ODrOHFudxy_d",
        "outputId": "dda5acca-837a-4841-ba9c-613d10671a7b"
      },
      "source": [
        "not False"
      ],
      "execution_count": null,
      "outputs": [
        {
          "output_type": "execute_result",
          "data": {
            "text/plain": [
              "True"
            ]
          },
          "metadata": {
            "tags": []
          },
          "execution_count": 39
        }
      ]
    },
    {
      "cell_type": "markdown",
      "metadata": {
        "id": "ThyfQI50uDnE"
      },
      "source": [
        "### 3.4. Operadores de identidad"
      ]
    },
    {
      "cell_type": "markdown",
      "metadata": {
        "id": "MU0MwA3AyJY5"
      },
      "source": [
        "Operador `is`"
      ]
    },
    {
      "cell_type": "code",
      "metadata": {
        "colab": {
          "base_uri": "https://localhost:8080/"
        },
        "id": "-ka0S7I1yNlh",
        "outputId": "42c74e75-f88f-40a6-bf17-b63ae0db7c96"
      },
      "source": [
        "5.3 is 5.3"
      ],
      "execution_count": null,
      "outputs": [
        {
          "output_type": "execute_result",
          "data": {
            "text/plain": [
              "True"
            ]
          },
          "metadata": {
            "tags": []
          },
          "execution_count": 45
        }
      ]
    },
    {
      "cell_type": "markdown",
      "metadata": {
        "id": "LcCurV5NyK3q"
      },
      "source": [
        "Operador `is not`"
      ]
    },
    {
      "cell_type": "code",
      "metadata": {
        "colab": {
          "base_uri": "https://localhost:8080/"
        },
        "id": "0cC6EIiUyd3a",
        "outputId": "6c6e4dda-cc03-4de4-b512-e416aa23c4e9"
      },
      "source": [
        "5.3 is not 5"
      ],
      "execution_count": null,
      "outputs": [
        {
          "output_type": "execute_result",
          "data": {
            "text/plain": [
              "True"
            ]
          },
          "metadata": {
            "tags": []
          },
          "execution_count": 47
        }
      ]
    },
    {
      "cell_type": "markdown",
      "metadata": {
        "id": "oLNcVJqEuHXk"
      },
      "source": [
        "### 3.5. Operadores de pertenencia"
      ]
    },
    {
      "cell_type": "markdown",
      "metadata": {
        "id": "fKt0uBgMylP2"
      },
      "source": [
        "Operador `in`"
      ]
    },
    {
      "cell_type": "code",
      "metadata": {
        "colab": {
          "base_uri": "https://localhost:8080/"
        },
        "id": "RshpaBvryqqJ",
        "outputId": "6061d943-b814-4be7-9129-a1972e1466cd"
      },
      "source": [
        "x = [\"apple\", \"banana\"]\n",
        "\n",
        "\"banana\" in x"
      ],
      "execution_count": null,
      "outputs": [
        {
          "output_type": "execute_result",
          "data": {
            "text/plain": [
              "True"
            ]
          },
          "metadata": {
            "tags": []
          },
          "execution_count": 48
        }
      ]
    },
    {
      "cell_type": "markdown",
      "metadata": {
        "id": "BULVssyHynUU"
      },
      "source": [
        "Operador `not in`"
      ]
    },
    {
      "cell_type": "code",
      "metadata": {
        "colab": {
          "base_uri": "https://localhost:8080/"
        },
        "id": "_VIZymwxywwV",
        "outputId": "556633db-944c-4e25-df53-6b951f3bb797"
      },
      "source": [
        "x = [\"apple\", \"banana\"]\n",
        "\n",
        "\"orange\" not in x"
      ],
      "execution_count": null,
      "outputs": [
        {
          "output_type": "execute_result",
          "data": {
            "text/plain": [
              "True"
            ]
          },
          "metadata": {
            "tags": []
          },
          "execution_count": 49
        }
      ]
    },
    {
      "cell_type": "markdown",
      "metadata": {
        "id": "kRYEIRWquK5d"
      },
      "source": [
        "### 3.6. Operadores bit a bit"
      ]
    },
    {
      "cell_type": "markdown",
      "metadata": {
        "id": "EFiz7ZKfy2YT"
      },
      "source": [
        "Operador AND `&`"
      ]
    },
    {
      "cell_type": "code",
      "metadata": {
        "colab": {
          "base_uri": "https://localhost:8080/"
        },
        "id": "6bCMRTYBzLcY",
        "outputId": "0cf98b66-f41c-4c48-850c-def8baebbdb5"
      },
      "source": [
        "a = 60            # 60 = 0011 1100 \n",
        "b = 13            # 13 = 0000 1101 \n",
        "\n",
        "c = a & b;        # 12 = 0000 1100\n",
        "c"
      ],
      "execution_count": null,
      "outputs": [
        {
          "output_type": "execute_result",
          "data": {
            "text/plain": [
              "12"
            ]
          },
          "metadata": {
            "tags": []
          },
          "execution_count": 53
        }
      ]
    },
    {
      "cell_type": "markdown",
      "metadata": {
        "id": "kI3vvywOy4kH"
      },
      "source": [
        "Operador OR `|`"
      ]
    },
    {
      "cell_type": "code",
      "metadata": {
        "colab": {
          "base_uri": "https://localhost:8080/"
        },
        "id": "qXcqP6mjzsZA",
        "outputId": "ffec3d6d-8a35-46ca-dad7-3e636ece037f"
      },
      "source": [
        "a = 60            # 60 = 0011 1100 \n",
        "b = 13            # 13 = 0000 1101 \n",
        "\n",
        "c = a | b;        # 61 = 0011 1101\n",
        "c"
      ],
      "execution_count": null,
      "outputs": [
        {
          "output_type": "execute_result",
          "data": {
            "text/plain": [
              "61"
            ]
          },
          "metadata": {
            "tags": []
          },
          "execution_count": 54
        }
      ]
    },
    {
      "cell_type": "markdown",
      "metadata": {
        "id": "iZzLkRrky6rI"
      },
      "source": [
        "Operador XOR `^`"
      ]
    },
    {
      "cell_type": "code",
      "metadata": {
        "colab": {
          "base_uri": "https://localhost:8080/"
        },
        "id": "4szncxddzvUr",
        "outputId": "b987e718-c507-41ee-8df0-57a7b0d68f87"
      },
      "source": [
        "a = 60            # 60 = 0011 1100 \n",
        "b = 13            # 13 = 0000 1101 \n",
        "\n",
        "c = a ^ b;        # 49 = 0011 0001\n",
        "c"
      ],
      "execution_count": null,
      "outputs": [
        {
          "output_type": "execute_result",
          "data": {
            "text/plain": [
              "49"
            ]
          },
          "metadata": {
            "tags": []
          },
          "execution_count": 55
        }
      ]
    },
    {
      "cell_type": "markdown",
      "metadata": {
        "id": "i43n4Rzsy-ft"
      },
      "source": [
        "Operador NOT `~`"
      ]
    },
    {
      "cell_type": "code",
      "metadata": {
        "colab": {
          "base_uri": "https://localhost:8080/"
        },
        "id": "zcZYXPagzur4",
        "outputId": "b3e984ca-efd1-4a47-89d9-21a7f69ad8e3"
      },
      "source": [
        "a = 60            # 60 = 0011 1100 \n",
        "\n",
        "c = ~a;           # -61 = 1100 0011\n",
        "c"
      ],
      "execution_count": null,
      "outputs": [
        {
          "output_type": "execute_result",
          "data": {
            "text/plain": [
              "-61"
            ]
          },
          "metadata": {
            "tags": []
          },
          "execution_count": 56
        }
      ]
    },
    {
      "cell_type": "markdown",
      "metadata": {
        "id": "jktO-L9kzA6y"
      },
      "source": [
        "Operador desplazamiento hacia la izquierda `<<`"
      ]
    },
    {
      "cell_type": "code",
      "metadata": {
        "colab": {
          "base_uri": "https://localhost:8080/"
        },
        "id": "DsBR5isfzuDr",
        "outputId": "6df6f5eb-c3bf-4321-c261-8b0ab018d3de"
      },
      "source": [
        "a = 60            # 60 = 0011 1100 \n",
        "\n",
        "c = a << 2;       # 240 = 1111 0000\n",
        "c"
      ],
      "execution_count": null,
      "outputs": [
        {
          "output_type": "execute_result",
          "data": {
            "text/plain": [
              "240"
            ]
          },
          "metadata": {
            "tags": []
          },
          "execution_count": 57
        }
      ]
    },
    {
      "cell_type": "markdown",
      "metadata": {
        "id": "nII23s0bzHsM"
      },
      "source": [
        "Operador desplazamiento hacia la derecha `>>`"
      ]
    },
    {
      "cell_type": "code",
      "metadata": {
        "colab": {
          "base_uri": "https://localhost:8080/"
        },
        "id": "XuY-4lUWztaU",
        "outputId": "369526d8-50f0-46c9-e670-6add247678c5"
      },
      "source": [
        "a = 60            # 60 = 0011 1100 \n",
        "\n",
        "c = a >> 2;       # 15 = 0000 1111\n",
        "c"
      ],
      "execution_count": null,
      "outputs": [
        {
          "output_type": "execute_result",
          "data": {
            "text/plain": [
              "15"
            ]
          },
          "metadata": {
            "tags": []
          },
          "execution_count": 58
        }
      ]
    },
    {
      "cell_type": "markdown",
      "metadata": {
        "id": "tbchfMJFt3JO"
      },
      "source": [
        "### 3.7. Operadores de asignación"
      ]
    },
    {
      "cell_type": "markdown",
      "metadata": {
        "id": "0YBqstYPuZw5"
      },
      "source": [
        "Operador `=`"
      ]
    },
    {
      "cell_type": "code",
      "metadata": {
        "colab": {
          "base_uri": "https://localhost:8080/"
        },
        "id": "zbpGo3A9ue-H",
        "outputId": "d3f435ce-fd1e-420b-f707-5a36069e53e4"
      },
      "source": [
        "a = 5\n",
        "a"
      ],
      "execution_count": null,
      "outputs": [
        {
          "output_type": "execute_result",
          "data": {
            "text/plain": [
              "5"
            ]
          },
          "metadata": {
            "tags": []
          },
          "execution_count": 9
        }
      ]
    },
    {
      "cell_type": "markdown",
      "metadata": {
        "id": "nbAAEkGkugjw"
      },
      "source": [
        "Operador `+=`. `x += y` es equivalente a `x = x + y`"
      ]
    },
    {
      "cell_type": "code",
      "metadata": {
        "colab": {
          "base_uri": "https://localhost:8080/"
        },
        "id": "SupBJeJWumGp",
        "outputId": "ccbf94a5-2ae9-44e4-d2de-c7f326ea91bb"
      },
      "source": [
        "a += 5\n",
        "a"
      ],
      "execution_count": null,
      "outputs": [
        {
          "output_type": "execute_result",
          "data": {
            "text/plain": [
              "10"
            ]
          },
          "metadata": {
            "tags": []
          },
          "execution_count": 10
        }
      ]
    },
    {
      "cell_type": "markdown",
      "metadata": {
        "id": "S7HpkWqQuifz"
      },
      "source": [
        "Operador `-=`. `x -= y` es equivalente a `x = x - y"
      ]
    },
    {
      "cell_type": "code",
      "metadata": {
        "colab": {
          "base_uri": "https://localhost:8080/"
        },
        "id": "GYJvDYvxvef6",
        "outputId": "7b63f274-f353-41ff-aadb-8cb3b77ce941"
      },
      "source": [
        "a -= 5\n",
        "a"
      ],
      "execution_count": null,
      "outputs": [
        {
          "output_type": "execute_result",
          "data": {
            "text/plain": [
              "5"
            ]
          },
          "metadata": {
            "tags": []
          },
          "execution_count": 11
        }
      ]
    },
    {
      "cell_type": "markdown",
      "metadata": {
        "id": "4heIrWGSu6r4"
      },
      "source": [
        "Operador `*=`. `x *= y` es equivalente a `x = x * y"
      ]
    },
    {
      "cell_type": "code",
      "metadata": {
        "colab": {
          "base_uri": "https://localhost:8080/"
        },
        "id": "Y--p1iJavhgt",
        "outputId": "8e71dc7b-1b68-4af1-e17b-e08350a0688b"
      },
      "source": [
        "a *= 3\n",
        "a"
      ],
      "execution_count": null,
      "outputs": [
        {
          "output_type": "execute_result",
          "data": {
            "text/plain": [
              "15"
            ]
          },
          "metadata": {
            "tags": []
          },
          "execution_count": 12
        }
      ]
    },
    {
      "cell_type": "markdown",
      "metadata": {
        "id": "z59mp5bxu-SM"
      },
      "source": [
        "Operador `/=`. `x /= y` es equivalente a `x = x / y"
      ]
    },
    {
      "cell_type": "code",
      "metadata": {
        "colab": {
          "base_uri": "https://localhost:8080/"
        },
        "id": "J2Qv78XMvlpf",
        "outputId": "24da7d86-be15-4690-cfd7-aeea3de4ea26"
      },
      "source": [
        "a /= 3\n",
        "a"
      ],
      "execution_count": null,
      "outputs": [
        {
          "output_type": "execute_result",
          "data": {
            "text/plain": [
              "5.0"
            ]
          },
          "metadata": {
            "tags": []
          },
          "execution_count": 13
        }
      ]
    },
    {
      "cell_type": "markdown",
      "metadata": {
        "id": "KPfdWix7vB3A"
      },
      "source": [
        "Operador `%=`. `x %= y` es equivalente a `x = x % y"
      ]
    },
    {
      "cell_type": "code",
      "metadata": {
        "colab": {
          "base_uri": "https://localhost:8080/"
        },
        "id": "JNeUrUpuvngI",
        "outputId": "4aae4955-fbf7-47c0-d774-0cd6e8810dc6"
      },
      "source": [
        "a = 25\n",
        "a %= 2\n",
        "a"
      ],
      "execution_count": null,
      "outputs": [
        {
          "output_type": "execute_result",
          "data": {
            "text/plain": [
              "1"
            ]
          },
          "metadata": {
            "tags": []
          },
          "execution_count": 26
        }
      ]
    },
    {
      "cell_type": "markdown",
      "metadata": {
        "id": "VzPKQ8SyvFJg"
      },
      "source": [
        "Operador `//=`. `x //= y` es equivalente a `x = x // y"
      ]
    },
    {
      "cell_type": "code",
      "metadata": {
        "colab": {
          "base_uri": "https://localhost:8080/"
        },
        "id": "OX92ZSS8wDo2",
        "outputId": "c1d46225-184f-474f-ad8e-d9b4bd1f857a"
      },
      "source": [
        "a = 25\n",
        "a //= 2\n",
        "a"
      ],
      "execution_count": null,
      "outputs": [
        {
          "output_type": "execute_result",
          "data": {
            "text/plain": [
              "12"
            ]
          },
          "metadata": {
            "tags": []
          },
          "execution_count": 22
        }
      ]
    },
    {
      "cell_type": "markdown",
      "metadata": {
        "id": "Pj9RCY-fvIId"
      },
      "source": [
        "Operador `**=`. `x **= y` es equivalente a `x = x ** y"
      ]
    },
    {
      "cell_type": "code",
      "metadata": {
        "colab": {
          "base_uri": "https://localhost:8080/"
        },
        "id": "7Zz5e_fCw1DB",
        "outputId": "d9978386-e87f-4989-c44d-7a508bb083a2"
      },
      "source": [
        "a = 5\n",
        "a **= 2\n",
        "a"
      ],
      "execution_count": null,
      "outputs": [
        {
          "output_type": "execute_result",
          "data": {
            "text/plain": [
              "25"
            ]
          },
          "metadata": {
            "tags": []
          },
          "execution_count": 28
        }
      ]
    },
    {
      "cell_type": "markdown",
      "metadata": {
        "id": "d0GRAhc7vLW_"
      },
      "source": [
        "Operador `&=`. `x &= y` es equivalente a `x = x & y"
      ]
    },
    {
      "cell_type": "code",
      "metadata": {
        "colab": {
          "base_uri": "https://localhost:8080/"
        },
        "id": "q9GQwVsK0RLo",
        "outputId": "fe78c743-04ad-4ef9-aaa8-d530b1c8f0a6"
      },
      "source": [
        "a = 60            # 60 = 0011 1100 \n",
        "b = 13            # 13 = 0000 1101 \n",
        "\n",
        "a &= b;           # 12 = 0000 1100\n",
        "a"
      ],
      "execution_count": null,
      "outputs": [
        {
          "output_type": "execute_result",
          "data": {
            "text/plain": [
              "12"
            ]
          },
          "metadata": {
            "tags": []
          },
          "execution_count": 59
        }
      ]
    },
    {
      "cell_type": "markdown",
      "metadata": {
        "id": "LkNCMsnNvO67"
      },
      "source": [
        "Operador `|=`. `x |= y` es equivalente a `x = x | y"
      ]
    },
    {
      "cell_type": "code",
      "metadata": {
        "colab": {
          "base_uri": "https://localhost:8080/"
        },
        "id": "nK-Xuh0z0QnL",
        "outputId": "ef40d032-7897-4274-a828-a01ce5cf04b2"
      },
      "source": [
        "a = 60            # 60 = 0011 1100 \n",
        "b = 13            # 13 = 0000 1101 \n",
        "\n",
        "a |= b;           # 61 = 0011 1101\n",
        "a"
      ],
      "execution_count": null,
      "outputs": [
        {
          "output_type": "execute_result",
          "data": {
            "text/plain": [
              "61"
            ]
          },
          "metadata": {
            "tags": []
          },
          "execution_count": 60
        }
      ]
    },
    {
      "cell_type": "markdown",
      "metadata": {
        "id": "pTSdD1bzvSwg"
      },
      "source": [
        "Operador `^=`. `x ^= y` es equivalente a `x = x ^ y"
      ]
    },
    {
      "cell_type": "code",
      "metadata": {
        "colab": {
          "base_uri": "https://localhost:8080/"
        },
        "id": "oI_xsjuK0P9m",
        "outputId": "c0be8224-bc0e-49cd-b817-1610a6746df9"
      },
      "source": [
        "a = 60            # 60 = 0011 1100 \n",
        "b = 13            # 13 = 0000 1101 \n",
        "\n",
        "a ^= b;           # 49 = 0011 0001\n",
        "a"
      ],
      "execution_count": null,
      "outputs": [
        {
          "output_type": "execute_result",
          "data": {
            "text/plain": [
              "49"
            ]
          },
          "metadata": {
            "tags": []
          },
          "execution_count": 61
        }
      ]
    },
    {
      "cell_type": "markdown",
      "metadata": {
        "id": "ipj1qJJvvWK8"
      },
      "source": [
        "Operador `>>=`. `x >>= y` es equivalente a `x = x >> y"
      ]
    },
    {
      "cell_type": "code",
      "metadata": {
        "colab": {
          "base_uri": "https://localhost:8080/"
        },
        "id": "53-spEhO0Onq",
        "outputId": "efa64af1-b6c7-49dc-b50a-02e3192dc4c0"
      },
      "source": [
        "a = 60            # 60 = 0011 1100 \n",
        "\n",
        "a <<= 2;          # 240 = 1111 0000\n",
        "a"
      ],
      "execution_count": null,
      "outputs": [
        {
          "output_type": "execute_result",
          "data": {
            "text/plain": [
              "240"
            ]
          },
          "metadata": {
            "tags": []
          },
          "execution_count": 62
        }
      ]
    },
    {
      "cell_type": "markdown",
      "metadata": {
        "id": "wECGrhZGvZ0B"
      },
      "source": [
        "Operador `<<=`. `x <<= y` es equivalente a `x = x << y"
      ]
    },
    {
      "cell_type": "code",
      "metadata": {
        "colab": {
          "base_uri": "https://localhost:8080/"
        },
        "id": "L9S5biOt0OCF",
        "outputId": "dd88839a-b9a8-46ab-a626-99d9a5eafb3f"
      },
      "source": [
        "a = 60            # 60 = 0011 1100 \n",
        "\n",
        "a >>= 2;          # 15 = 0000 1111\n",
        "a"
      ],
      "execution_count": null,
      "outputs": [
        {
          "output_type": "execute_result",
          "data": {
            "text/plain": [
              "15"
            ]
          },
          "metadata": {
            "tags": []
          },
          "execution_count": 63
        }
      ]
    },
    {
      "cell_type": "markdown",
      "metadata": {
        "id": "QOH-RrDjZuEr"
      },
      "source": [
        "## 4. Control de flujo"
      ]
    },
    {
      "cell_type": "markdown",
      "metadata": {
        "id": "EDzHsH7-Z90h"
      },
      "source": [
        "Para poder utilizar las herramientas de control de flujo es necesario añadir la sentencia, dos puntos `:` y en una nueva línea escribir el códgo con indentación\n",
        "\n",
        "A diferencia de otros lenguajes, Python necesita la indentación (añadir un espacio en blanco) para definir el código de dentro de una herramienta de control de flujo"
      ]
    },
    {
      "cell_type": "markdown",
      "metadata": {
        "id": "QTOb_c5aZwmk"
      },
      "source": [
        "### 4.1. If"
      ]
    },
    {
      "cell_type": "markdown",
      "metadata": {
        "id": "qalWwH9Pa4qk"
      },
      "source": [
        "Mediante `if` podemos crear condiciones"
      ]
    },
    {
      "cell_type": "code",
      "metadata": {
        "colab": {
          "base_uri": "https://localhost:8080/"
        },
        "id": "PqhUf6WnaVmf",
        "outputId": "493e92f1-6862-4014-9568-fb79cfdc6c62"
      },
      "source": [
        "if len('DeepMaxFN') == 9:\n",
        "  print('DeepMaxFN tiene 9 caracteres')"
      ],
      "execution_count": null,
      "outputs": [
        {
          "output_type": "stream",
          "text": [
            "DeepMaxFN tiene 9 caracteres\n"
          ],
          "name": "stdout"
        }
      ]
    },
    {
      "cell_type": "markdown",
      "metadata": {
        "id": "vTRpeT4sa_ec"
      },
      "source": [
        "Si queremos crear más de una condición podemos usar `elif`"
      ]
    },
    {
      "cell_type": "code",
      "metadata": {
        "colab": {
          "base_uri": "https://localhost:8080/"
        },
        "id": "ZnfmkpFBbEjx",
        "outputId": "606566c9-7e83-4c03-bdae-a96ba6bd4bed"
      },
      "source": [
        "if len('DeepMaxFN') < 9:\n",
        "  print('DeepMaxFN tiene menos de 9 caracteres')\n",
        "elif len('DeepMaxFN') == 9:\n",
        "  print('DeepMaxFN tiene 9 caracteres')"
      ],
      "execution_count": null,
      "outputs": [
        {
          "output_type": "stream",
          "text": [
            "DeepMaxFN tiene 9 caracteres\n"
          ],
          "name": "stdout"
        }
      ]
    },
    {
      "cell_type": "markdown",
      "metadata": {
        "id": "veULXu-TbZdv"
      },
      "source": [
        "Si lo que queremos es que se ejecute algo en caso de que no se cumpla ninguna de las condiciones indicadas podemos usar `else`"
      ]
    },
    {
      "cell_type": "code",
      "metadata": {
        "colab": {
          "base_uri": "https://localhost:8080/"
        },
        "id": "SKQaoloibiDh",
        "outputId": "72e2103c-d3eb-4920-c7dc-8d6daeaf65a9"
      },
      "source": [
        "if len('DeepMaxFN') < 9:\n",
        "  print('DeepMaxFN tiene menos de 9 caracteres')\n",
        "elif len('DeepMaxFN') > 9:\n",
        "  print('DeepMaxFN tiene más de 9 caracteres')\n",
        "else:\n",
        "  print('DeepMaxFN tiene 9 caracteres')"
      ],
      "execution_count": null,
      "outputs": [
        {
          "output_type": "stream",
          "text": [
            "DeepMaxFN tiene 9 caracteres\n"
          ],
          "name": "stdout"
        }
      ]
    },
    {
      "cell_type": "markdown",
      "metadata": {
        "id": "OPjkQIyhbrGt"
      },
      "source": [
        "Si queremos escribir todo en una sola línea"
      ]
    },
    {
      "cell_type": "code",
      "metadata": {
        "colab": {
          "base_uri": "https://localhost:8080/"
        },
        "id": "3T9-EVDRbtvW",
        "outputId": "8fd6c022-b2b3-4386-c630-68f6d5cd5f53"
      },
      "source": [
        "if len('DeepMaxFN') == 9: print('DeepMaxFN tiene 9 caracteres')"
      ],
      "execution_count": null,
      "outputs": [
        {
          "output_type": "stream",
          "text": [
            "DeepMaxFN tiene 9 caracteres\n"
          ],
          "name": "stdout"
        }
      ]
    },
    {
      "cell_type": "markdown",
      "metadata": {
        "id": "vMEhu5-ab4_y"
      },
      "source": [
        "Igual, si queremos escribir todo en una línea, pero con varias condiciones"
      ]
    },
    {
      "cell_type": "code",
      "metadata": {
        "colab": {
          "base_uri": "https://localhost:8080/"
        },
        "id": "1KMjzKK2b091",
        "outputId": "db4de765-b938-4749-b330-a93eebad870c"
      },
      "source": [
        "print('DeepMaxFN tiene menos de 9 caracteres') if len('DeepMaxFN') < 9 else print('DeepMaxFN tiene más de 9 caracteres') if len('DeepMaxFN') > 9 else print('DeepMaxFN tiene 9 caracteres')"
      ],
      "execution_count": null,
      "outputs": [
        {
          "output_type": "stream",
          "text": [
            "DeepMaxFN tiene 9 caracteres\n"
          ],
          "name": "stdout"
        }
      ]
    },
    {
      "cell_type": "markdown",
      "metadata": {
        "id": "l66bX7VrcWc2"
      },
      "source": [
        "Si por ejemplo queremos hacer la estructura del `if` pero no queremos, de momento, codificar una de las condiciones podemos usar `pass`"
      ]
    },
    {
      "cell_type": "code",
      "metadata": {
        "colab": {
          "base_uri": "https://localhost:8080/"
        },
        "id": "ZvqLk_k5chCC",
        "outputId": "82ead928-73ff-4c53-e457-e9dad27930d1"
      },
      "source": [
        "if len('DeepMaxFN') < 9:\n",
        "  print('DeepMaxFN tiene menos de 9 caracteres')\n",
        "elif len('DeepMaxFN') > 9:\n",
        "  pass\n",
        "else:\n",
        "  print('DeepMaxFN tiene 9 caracteres')"
      ],
      "execution_count": null,
      "outputs": [
        {
          "output_type": "stream",
          "text": [
            "DeepMaxFN tiene 9 caracteres\n"
          ],
          "name": "stdout"
        }
      ]
    },
    {
      "cell_type": "markdown",
      "metadata": {
        "id": "LLoPj-f7Z093"
      },
      "source": [
        "### 4.2. While"
      ]
    },
    {
      "cell_type": "markdown",
      "metadata": {
        "id": "JHdX0cK0ctyI"
      },
      "source": [
        "El bucle `while` se ejecuta mientras la condición sea `True`"
      ]
    },
    {
      "cell_type": "code",
      "metadata": {
        "colab": {
          "base_uri": "https://localhost:8080/"
        },
        "id": "YWwukpwkcy4Q",
        "outputId": "1f02631f-31c7-4597-d533-694adc07ef86"
      },
      "source": [
        "i = 0\n",
        "string = 'DeepMaxFN'\n",
        "while len(string) > i:\n",
        "  print(string[i], end='')\n",
        "  i += 1"
      ],
      "execution_count": null,
      "outputs": [
        {
          "output_type": "stream",
          "text": [
            "DeepMaxFN"
          ],
          "name": "stdout"
        }
      ]
    },
    {
      "cell_type": "markdown",
      "metadata": {
        "id": "QbnR8uuDdK7s"
      },
      "source": [
        "Si queremos que el bucle pare por alguna condición usamos `break`"
      ]
    },
    {
      "cell_type": "code",
      "metadata": {
        "colab": {
          "base_uri": "https://localhost:8080/"
        },
        "id": "daXSXQG4dR97",
        "outputId": "c125ab51-a4a8-4428-93f4-b70827a4d84a"
      },
      "source": [
        "i = 0\n",
        "string = 'DeepMaxFN'\n",
        "while len(string) > i:\n",
        "  if string[i] == 'F':\n",
        "    break\n",
        "  print(string[i], end='')\n",
        "  i += 1"
      ],
      "execution_count": null,
      "outputs": [
        {
          "output_type": "stream",
          "text": [
            "DeepMax"
          ],
          "name": "stdout"
        }
      ]
    },
    {
      "cell_type": "markdown",
      "metadata": {
        "id": "pb9bZ6umdZlr"
      },
      "source": [
        "Si queremos que una de las iteracciones no se ejecute por alguna razón usamos `continue`"
      ]
    },
    {
      "cell_type": "code",
      "metadata": {
        "colab": {
          "base_uri": "https://localhost:8080/"
        },
        "id": "KLHCVq1tdgyc",
        "outputId": "e13fc5b0-dbcb-45a8-8337-4d7a1e8fd4cf"
      },
      "source": [
        "i = 0\n",
        "string = 'Deep Max FN'\n",
        "while len(string) > i:\n",
        "  if string[i] == ' ':\n",
        "    i += 1\n",
        "    continue\n",
        "  print(string[i], end='')\n",
        "  i += 1"
      ],
      "execution_count": null,
      "outputs": [
        {
          "output_type": "stream",
          "text": [
            "DeepMaxFN"
          ],
          "name": "stdout"
        }
      ]
    },
    {
      "cell_type": "markdown",
      "metadata": {
        "id": "48l85ovid1hp"
      },
      "source": [
        "Mediante `else` se puede ejecutar un bloque de código si la condición del `while` no es `True`"
      ]
    },
    {
      "cell_type": "code",
      "metadata": {
        "colab": {
          "base_uri": "https://localhost:8080/"
        },
        "id": "z8qEsPBtd-3l",
        "outputId": "55756351-4506-4764-a9fb-c2c803533d02"
      },
      "source": [
        "i = 0\n",
        "string = 'DeepMaxFN'\n",
        "\n",
        "while len(string) > i:\n",
        "  print(string[i], end='')\n",
        "  i += 1\n",
        "else:\n",
        "  print(\"\\nSe ha terminado el while\")"
      ],
      "execution_count": null,
      "outputs": [
        {
          "output_type": "stream",
          "text": [
            "DeepMaxFN\n",
            "Se ha terminado el while\n"
          ],
          "name": "stdout"
        }
      ]
    },
    {
      "cell_type": "markdown",
      "metadata": {
        "id": "0MFWhiEHZ223"
      },
      "source": [
        "### 4.3. For"
      ]
    },
    {
      "cell_type": "markdown",
      "metadata": {
        "id": "iAMEsYgZeW6_"
      },
      "source": [
        "El bucle `for` se usa para ejecutar código mientras se itera por una secuencia, esta secuencia puede ser un cualquir elemento iterable de Python (`string`, `lista`, `tupla`, `range`, `diccionario`, `set`)"
      ]
    },
    {
      "cell_type": "code",
      "metadata": {
        "colab": {
          "base_uri": "https://localhost:8080/"
        },
        "id": "mCNq1IjwfI0F",
        "outputId": "bab8c066-9051-4c50-cdbd-9934c701698b"
      },
      "source": [
        "string = 'DeepMaxFN'\n",
        "\n",
        "for x in string:\n",
        "  print(x, end='')"
      ],
      "execution_count": null,
      "outputs": [
        {
          "output_type": "stream",
          "text": [
            "DeepMaxFN"
          ],
          "name": "stdout"
        }
      ]
    },
    {
      "cell_type": "code",
      "metadata": {
        "colab": {
          "base_uri": "https://localhost:8080/"
        },
        "id": "wyt2WUU_e4lf",
        "outputId": "de87801b-f8e5-421e-bd7e-0d5f0840b909"
      },
      "source": [
        "lista = ['D', 'e', 'e', 'p', 'M', 'a', 'x', 'F', 'N']\n",
        "\n",
        "for x in lista:\n",
        "  print(x, end='')"
      ],
      "execution_count": null,
      "outputs": [
        {
          "output_type": "stream",
          "text": [
            "DeepMaxFN"
          ],
          "name": "stdout"
        }
      ]
    },
    {
      "cell_type": "code",
      "metadata": {
        "colab": {
          "base_uri": "https://localhost:8080/"
        },
        "id": "xbCc1sL9fRO0",
        "outputId": "0a468ad5-36eb-4dd3-fb6d-b3ea77504089"
      },
      "source": [
        "tupla = ('D', 'e', 'e', 'p', 'M', 'a', 'x', 'F', 'N')\n",
        "\n",
        "for x in tupla:\n",
        "  print(x, end='')"
      ],
      "execution_count": null,
      "outputs": [
        {
          "output_type": "stream",
          "text": [
            "DeepMaxFN"
          ],
          "name": "stdout"
        }
      ]
    },
    {
      "cell_type": "code",
      "metadata": {
        "colab": {
          "base_uri": "https://localhost:8080/"
        },
        "id": "vX4CBt2KfYD3",
        "outputId": "6cc80670-5f86-498b-82ed-df4b7ea23be1"
      },
      "source": [
        "string = 'DeepMaxFN'\n",
        "\n",
        "for i in range(len(string)):\n",
        "  print(string[i], end='')"
      ],
      "execution_count": null,
      "outputs": [
        {
          "output_type": "stream",
          "text": [
            "DeepMaxFN"
          ],
          "name": "stdout"
        }
      ]
    },
    {
      "cell_type": "code",
      "metadata": {
        "colab": {
          "base_uri": "https://localhost:8080/"
        },
        "id": "MCFdgRgBfi10",
        "outputId": "cabc25de-45ab-4e5a-de57-37b0d58d79e5"
      },
      "source": [
        "diccionario = {\n",
        "  \"letra1\": \"D\",\n",
        "  \"letra2\": \"e\",\n",
        "  \"letra3\": \"e\",\n",
        "  \"letra4\": \"p\",\n",
        "  \"letra5\": \"M\",\n",
        "  \"letra6\": \"a\",\n",
        "  \"letra7\": \"x\",\n",
        "  \"letra8\": \"F\",\n",
        "  \"letra9\": \"N\"\n",
        "}\n",
        "\n",
        "for x in diccionario.values():\n",
        "  print(x, end='')"
      ],
      "execution_count": null,
      "outputs": [
        {
          "output_type": "stream",
          "text": [
            "DeepMaxFN"
          ],
          "name": "stdout"
        }
      ]
    },
    {
      "cell_type": "markdown",
      "metadata": {
        "id": "XAg9KX5vgaVA"
      },
      "source": [
        "También se puede iterar por los `set`s, pero como son elementos no ordenados, no tendremos control del orden de ejecución"
      ]
    },
    {
      "cell_type": "code",
      "metadata": {
        "colab": {
          "base_uri": "https://localhost:8080/"
        },
        "id": "gYyR7T37gOBv",
        "outputId": "04e726b8-93be-495f-e716-ca7bfa041377"
      },
      "source": [
        "set_ = {'D', 'e', 'e', 'p', 'M', 'a', 'x', 'F', 'N'}\n",
        "\n",
        "for x in set_:\n",
        "  print(x, end='')"
      ],
      "execution_count": null,
      "outputs": [
        {
          "output_type": "stream",
          "text": [
            "epaFDxNM"
          ],
          "name": "stdout"
        }
      ]
    },
    {
      "cell_type": "markdown",
      "metadata": {
        "id": "tkHBu5pxgxRQ"
      },
      "source": [
        "Si queremos que el bucle pare por alguna condición usamos `break`"
      ]
    },
    {
      "cell_type": "code",
      "metadata": {
        "colab": {
          "base_uri": "https://localhost:8080/"
        },
        "id": "ktqx0m-_gxRd",
        "outputId": "c9c990f7-e6a9-4d01-8981-55ff0e372485"
      },
      "source": [
        "string = 'DeepMaxFN'\n",
        "\n",
        "for x in string:\n",
        "  if x == 'F':\n",
        "    break\n",
        "  print(x, end='') "
      ],
      "execution_count": null,
      "outputs": [
        {
          "output_type": "stream",
          "text": [
            "DeepMax"
          ],
          "name": "stdout"
        }
      ]
    },
    {
      "cell_type": "markdown",
      "metadata": {
        "id": "FkM94omrgxRe"
      },
      "source": [
        "Si queremos que una de las iteracciones no se ejecute por alguna razón usamos `continue`"
      ]
    },
    {
      "cell_type": "code",
      "metadata": {
        "colab": {
          "base_uri": "https://localhost:8080/"
        },
        "id": "sdz0CUPygxRe",
        "outputId": "a386c183-b571-4e86-c078-097ef979acb6"
      },
      "source": [
        "string = 'Deep Max FN'\n",
        "\n",
        "for x in string:\n",
        "  if x == ' ':\n",
        "    continue\n",
        "  print(x, end='') "
      ],
      "execution_count": null,
      "outputs": [
        {
          "output_type": "stream",
          "text": [
            "DeepMaxFN"
          ],
          "name": "stdout"
        }
      ]
    },
    {
      "cell_type": "markdown",
      "metadata": {
        "id": "oQPpFfcigxRf"
      },
      "source": [
        "Mediante `else` se puede ejecutar un bloque de código si la condición del `while` no es `True`"
      ]
    },
    {
      "cell_type": "code",
      "metadata": {
        "colab": {
          "base_uri": "https://localhost:8080/"
        },
        "id": "xPMNbavBgxRf",
        "outputId": "54a091ec-5d89-4e32-8306-a34618067d8c"
      },
      "source": [
        "string = 'DeepMaxFN'\n",
        "\n",
        "for x in string:\n",
        "  print(x, end='') \n",
        "else:\n",
        "  print(\"\\nSe ha terminado el for\")"
      ],
      "execution_count": null,
      "outputs": [
        {
          "output_type": "stream",
          "text": [
            "DeepMaxFN\n",
            "Se ha terminado el for\n"
          ],
          "name": "stdout"
        }
      ]
    },
    {
      "cell_type": "markdown",
      "metadata": {
        "id": "GOAARgsbhtow"
      },
      "source": [
        "Si por ejemplo queremos hacer la estructura del `for` pero no queremos, de momento, codificar el interior podemos usar `pass`"
      ]
    },
    {
      "cell_type": "code",
      "metadata": {
        "colab": {
          "base_uri": "https://localhost:8080/"
        },
        "id": "V_TbRtiWh46X",
        "outputId": "a7e58e16-443c-4e3d-dee9-74b0675433e9"
      },
      "source": [
        "string = 'DeepMaxFN'\n",
        "for x in string:\n",
        "  pass\n",
        "print('Interior del for no codificado')"
      ],
      "execution_count": null,
      "outputs": [
        {
          "output_type": "stream",
          "text": [
            "Interior del for no codificado\n"
          ],
          "name": "stdout"
        }
      ]
    },
    {
      "cell_type": "markdown",
      "metadata": {
        "id": "pCNPtPT5BOP0"
      },
      "source": [
        "## 5. Funciones"
      ]
    },
    {
      "cell_type": "markdown",
      "metadata": {
        "id": "OuJatWa2BQXS"
      },
      "source": [
        "Una función es una porción de código que se puede ejecutar tantas veces como quieras. Se le puede pasar argumentos y puede devolver datos como resultado"
      ]
    },
    {
      "cell_type": "markdown",
      "metadata": {
        "id": "BKlCFeBGB_H1"
      },
      "source": [
        "Para definir una función se comienza con la palabra reservada `def` seguido del nombre de la función, paréntesis `()`, dos puntos `:` y a continuación en una nueva línea indentado el código de la función"
      ]
    },
    {
      "cell_type": "code",
      "metadata": {
        "id": "3kfdBDyiCl3y"
      },
      "source": [
        "def funcion():\n",
        "  print('DeepmaxFN')"
      ],
      "execution_count": null,
      "outputs": []
    },
    {
      "cell_type": "markdown",
      "metadata": {
        "id": "EAD6Iv5yCrmO"
      },
      "source": [
        "Para llamar a la función solo es necesario escribir su nombre"
      ]
    },
    {
      "cell_type": "code",
      "metadata": {
        "colab": {
          "base_uri": "https://localhost:8080/"
        },
        "id": "Lt-SVKrrCvMJ",
        "outputId": "8e29623e-329a-4d25-8d65-e0897ed78960"
      },
      "source": [
        "funcion()"
      ],
      "execution_count": null,
      "outputs": [
        {
          "output_type": "stream",
          "text": [
            "DeepmaxFN\n"
          ],
          "name": "stdout"
        }
      ]
    },
    {
      "cell_type": "markdown",
      "metadata": {
        "id": "MTBYpEBtC2T8"
      },
      "source": [
        "A las funciones se le pueden pasar todos los argumentos que se quiera, dentro de los paréntesis y separados por comas"
      ]
    },
    {
      "cell_type": "code",
      "metadata": {
        "colab": {
          "base_uri": "https://localhost:8080/"
        },
        "id": "UqGulwMZC9tR",
        "outputId": "2f7a720d-5b17-4a39-e641-23cf6d0fbd0a"
      },
      "source": [
        "def funcion(string1, string2):\n",
        "  print(string1 + ' ' + string2)\n",
        "\n",
        "funcion(\"Hola\", \"DeepMaxFN\")"
      ],
      "execution_count": null,
      "outputs": [
        {
          "output_type": "stream",
          "text": [
            "Hola DeepMaxFN\n"
          ],
          "name": "stdout"
        }
      ]
    },
    {
      "cell_type": "markdown",
      "metadata": {
        "id": "Qwam2TmkDfHL"
      },
      "source": [
        "Cuando se llama a la función hay que pasarle el mismo número de argumentos que se han declarado, si se pasan más o menos obtendremos un error.\n",
        "\n",
        "Si no sabemos los argumentos que va a recibir la función se puede usar `*args`, es decir, poniendo un `*` antes de los argumentos se indica que el número de argumentos es libre.\n",
        "\n",
        "Al hacer esto se le pasa una `tupla` (recordemos que es inmutable) con los argumentos"
      ]
    },
    {
      "cell_type": "code",
      "metadata": {
        "colab": {
          "base_uri": "https://localhost:8080/"
        },
        "id": "JIPtIiuXDv3t",
        "outputId": "244c8c83-6d7d-47b4-d42c-bd5f372357ce"
      },
      "source": [
        "def funcion(*argumentos):\n",
        "  numero_argumentos = len(argumentos)\n",
        "\n",
        "  for i in range(numero_argumentos):\n",
        "    print(argumentos[i], end=' ')\n",
        "\n",
        "funcion(\"funcion\", \"con\", \"varios\", \"argumentos\", \"sin\", \"especificar\", \"cuantos\")"
      ],
      "execution_count": null,
      "outputs": [
        {
          "output_type": "stream",
          "text": [
            "funcion con varios argumentos sin especificar cuantos "
          ],
          "name": "stdout"
        }
      ]
    },
    {
      "cell_type": "markdown",
      "metadata": {
        "id": "AiPVp2EgEpIQ"
      },
      "source": [
        "En caso de no saber el orden de los argumentos de una función, podemos indicar el argumento que le queremos pasar indicando su nombre"
      ]
    },
    {
      "cell_type": "code",
      "metadata": {
        "colab": {
          "base_uri": "https://localhost:8080/"
        },
        "id": "LYp8ThCcEv-Y",
        "outputId": "59c9dc60-0129-455e-b10f-3345d32a44db"
      },
      "source": [
        "def funcion(argumento1, argumento2, argumento3):\n",
        "  print(argumento1 + ' '+ argumento2 + ' ' + argumento3)\n",
        "\n",
        "funcion(argumento3 = \"DeepmaxFN\", argumento1 = \"Blog\", argumento2 = \"de\")"
      ],
      "execution_count": null,
      "outputs": [
        {
          "output_type": "stream",
          "text": [
            "Blog de DeepmaxFN\n"
          ],
          "name": "stdout"
        }
      ]
    },
    {
      "cell_type": "markdown",
      "metadata": {
        "id": "cK_QT3NUFTTs"
      },
      "source": [
        "En caso de querer pasar los argumentos con su nombre, pero en caso de no saber cuantos argumentos se van a pasar se puede usar `**kargs`. En este caso se le pasará un diccionario con los argumentos"
      ]
    },
    {
      "cell_type": "code",
      "metadata": {
        "colab": {
          "base_uri": "https://localhost:8080/"
        },
        "id": "Pk8Wl3cnFbiL",
        "outputId": "59dd51b1-7366-40e7-e1e9-5c3c8380da70"
      },
      "source": [
        "def funcion(**kargumentos):\n",
        "  print(\"Autor del blog: \" + kargumentos[\"autor\"])\n",
        "\n",
        "funcion(blog = \"Blog\", pertenencia = \"de\", autor = \"DeepMaxFN\")"
      ],
      "execution_count": null,
      "outputs": [
        {
          "output_type": "stream",
          "text": [
            "Autor del blog: DeepMaxFN\n"
          ],
          "name": "stdout"
        }
      ]
    },
    {
      "cell_type": "markdown",
      "metadata": {
        "id": "w0IKy3ebGYu4"
      },
      "source": [
        "Si queremos que algún argumento tenga un valor por defecto lo podemos indicar entre los paréntesis de la función. De esta manera si a la hora de llamar a la función no se pasa dicho argumento, este en la función tendrá el valor por defecto"
      ]
    },
    {
      "cell_type": "code",
      "metadata": {
        "colab": {
          "base_uri": "https://localhost:8080/"
        },
        "id": "q2YlW7hLGsCL",
        "outputId": "79b96307-dbd2-4e2f-b015-7c5a40b8a6ab"
      },
      "source": [
        "def funcion(argumento1, argumento2, argumento3 = \"DeepMaxFN\"):\n",
        "  print(argumento1 + ' '+ argumento2 + ' ' + argumento3)\n",
        "\n",
        "funcion(\"Blog\", \"de\")"
      ],
      "execution_count": null,
      "outputs": [
        {
          "output_type": "stream",
          "text": [
            "Blog de DeepMaxFN\n"
          ],
          "name": "stdout"
        }
      ]
    },
    {
      "cell_type": "markdown",
      "metadata": {
        "id": "8N6v55GcG5EM"
      },
      "source": [
        "Se puede pasar cualquier tipo de dato como argumento, por ejemplo si se pasa un `lista` como argumento, dentro de la función, dicho argumento será tratado como una `lista`"
      ]
    },
    {
      "cell_type": "code",
      "metadata": {
        "colab": {
          "base_uri": "https://localhost:8080/"
        },
        "id": "diibPVvAHEve",
        "outputId": "270699c8-16c4-4900-a0a1-9492938f5f4c"
      },
      "source": [
        "def funcion(argumento):\n",
        "  longitud_lista = len(argumento)\n",
        "\n",
        "  for i in range(longitud_lista):\n",
        "    print(argumento[i], end=' ')\n",
        "\n",
        "funcion([\"Blog\", \"de\", \"DeepMaxFN\"])"
      ],
      "execution_count": null,
      "outputs": [
        {
          "output_type": "stream",
          "text": [
            "Blog de DeepMaxFN "
          ],
          "name": "stdout"
        }
      ]
    },
    {
      "cell_type": "markdown",
      "metadata": {
        "id": "sk_l_UOoHW2I"
      },
      "source": [
        "Las funciones pueden devolver datos, esto se hace mediante la palabra reservada `return`"
      ]
    },
    {
      "cell_type": "code",
      "metadata": {
        "colab": {
          "base_uri": "https://localhost:8080/"
        },
        "id": "7phXlIznHcV3",
        "outputId": "3e8a85b3-aad2-456e-d7ae-d0eee396ecca"
      },
      "source": [
        "def funcion(argumento):\n",
        "  longitud_lista = len(argumento)\n",
        "  string = \"\"\n",
        "\n",
        "  for i in range(longitud_lista):\n",
        "    string = string + argumento[i] + ' '\n",
        "\n",
        "  return string\n",
        "\n",
        "print(funcion([\"Blog\", \"de\", \"DeepMaxFN\"]))"
      ],
      "execution_count": null,
      "outputs": [
        {
          "output_type": "stream",
          "text": [
            "Blog de DeepMaxFN \n"
          ],
          "name": "stdout"
        }
      ]
    },
    {
      "cell_type": "markdown",
      "metadata": {
        "id": "xHikwJ8-HxGq"
      },
      "source": [
        "Pueden devolver más de un dato"
      ]
    },
    {
      "cell_type": "code",
      "metadata": {
        "colab": {
          "base_uri": "https://localhost:8080/"
        },
        "id": "OAouETiPH1H5",
        "outputId": "4b8cba56-9557-46dd-d679-f5a8832e062a"
      },
      "source": [
        "def funcion(argumento):\n",
        "  longitud_lista = len(argumento)\n",
        "  string0 = argumento[0]\n",
        "  string1 = argumento[1]\n",
        "  string2 = argumento[2]\n",
        "\n",
        "  return string0, string1, string2\n",
        "\n",
        "dato0, dato1, dato2 = funcion([\"Blog\", \"de\", \"DeepMaxFN\"])\n",
        "\n",
        "print(dato0 + ' ' + dato1 + ' ' + dato2)"
      ],
      "execution_count": null,
      "outputs": [
        {
          "output_type": "stream",
          "text": [
            "Blog de DeepMaxFN\n"
          ],
          "name": "stdout"
        }
      ]
    },
    {
      "cell_type": "markdown",
      "metadata": {
        "id": "ze5_shQBIIGn"
      },
      "source": [
        "Si uno de los datos devueltos no nos interesa podemos pasar de el mediante `_`"
      ]
    },
    {
      "cell_type": "code",
      "metadata": {
        "colab": {
          "base_uri": "https://localhost:8080/"
        },
        "id": "flwkPfpbIPcv",
        "outputId": "fc8cfb44-4c16-477c-b797-868908dac345"
      },
      "source": [
        "def funcion(argumento):\n",
        "  longitud_lista = len(argumento)\n",
        "  string0 = argumento[0]\n",
        "  string1 = argumento[1]\n",
        "  string2 = argumento[2]\n",
        "\n",
        "  return string0, string1, string2\n",
        "\n",
        "_, _, dato_de_interes = funcion([\"Blog\", \"de\", \"DeepMaxFN\"])\n",
        "\n",
        "print(dato_de_interes)"
      ],
      "execution_count": null,
      "outputs": [
        {
          "output_type": "stream",
          "text": [
            "DeepMaxFN\n"
          ],
          "name": "stdout"
        }
      ]
    },
    {
      "cell_type": "markdown",
      "metadata": {
        "id": "nKIk8SAsIbBc"
      },
      "source": [
        "Si por ejemplo queremos hacer la estructura de la función pero no queremos, de momento, codificar el interior podemos usar `pass`"
      ]
    },
    {
      "cell_type": "code",
      "metadata": {
        "id": "KOKW0lAnIbBm"
      },
      "source": [
        "def funcion():\n",
        "  pass\n",
        "\n",
        "funcion()"
      ],
      "execution_count": null,
      "outputs": []
    },
    {
      "cell_type": "markdown",
      "metadata": {
        "id": "4Pt5sn7_Io0h"
      },
      "source": [
        "Una función puede llamarse a si misma, a esto se le llama recursión o recursividad de la función.\n",
        "\n",
        "Por ejemplo podemos usar esta cualidad para calcular el factorial de un número"
      ]
    },
    {
      "cell_type": "code",
      "metadata": {
        "colab": {
          "base_uri": "https://localhost:8080/"
        },
        "id": "lCDGjGLVI1Jr",
        "outputId": "f128964a-981e-484e-b575-3b9730b1cf4f"
      },
      "source": [
        "def factorial(n):\n",
        "  if n == 0 or n == 1:\n",
        "    return 1\n",
        "  else:\n",
        "    return n * factorial(n-1)\n",
        "\n",
        "factorial(5)"
      ],
      "execution_count": null,
      "outputs": [
        {
          "output_type": "execute_result",
          "data": {
            "text/plain": [
              "120"
            ]
          },
          "metadata": {
            "tags": []
          },
          "execution_count": 33
        }
      ]
    },
    {
      "cell_type": "markdown",
      "metadata": {
        "id": "-Vm2cGOWsYy9"
      },
      "source": [
        "### 5.1. Built in functions"
      ]
    },
    {
      "cell_type": "markdown",
      "metadata": {
        "id": "pBTdRHQksb99"
      },
      "source": [
        "Hay una serie de funciones ya definidas en Python que se pueden usar, como por ejemplo la función `abs()`, que devuelve el valor absoluto"
      ]
    },
    {
      "cell_type": "code",
      "metadata": {
        "colab": {
          "base_uri": "https://localhost:8080/"
        },
        "id": "3yZQyVm6sxuO",
        "outputId": "8dbfb1c9-d84a-476c-c1cd-098a1a139886"
      },
      "source": [
        "abs(-5)"
      ],
      "execution_count": null,
      "outputs": [
        {
          "output_type": "execute_result",
          "data": {
            "text/plain": [
              "5"
            ]
          },
          "metadata": {
            "tags": []
          },
          "execution_count": 3
        }
      ]
    },
    {
      "cell_type": "markdown",
      "metadata": {
        "id": "_J8DUqsDszIh"
      },
      "source": [
        "A continuación se muestra una lista de estas funciones"
      ]
    },
    {
      "cell_type": "code",
      "metadata": {
        "colab": {
          "base_uri": "https://localhost:8080/"
        },
        "id": "TkTqNjH8sVYa",
        "outputId": "35df212f-a0ea-4065-c535-9a0a5f1459b5"
      },
      "source": [
        "import builtins\n",
        "\n",
        "dir(builtins)"
      ],
      "execution_count": null,
      "outputs": [
        {
          "output_type": "execute_result",
          "data": {
            "text/plain": [
              "['ArithmeticError',\n",
              " 'AssertionError',\n",
              " 'AttributeError',\n",
              " 'BaseException',\n",
              " 'BlockingIOError',\n",
              " 'BrokenPipeError',\n",
              " 'BufferError',\n",
              " 'BytesWarning',\n",
              " 'ChildProcessError',\n",
              " 'ConnectionAbortedError',\n",
              " 'ConnectionError',\n",
              " 'ConnectionRefusedError',\n",
              " 'ConnectionResetError',\n",
              " 'DeprecationWarning',\n",
              " 'EOFError',\n",
              " 'Ellipsis',\n",
              " 'EnvironmentError',\n",
              " 'Exception',\n",
              " 'False',\n",
              " 'FileExistsError',\n",
              " 'FileNotFoundError',\n",
              " 'FloatingPointError',\n",
              " 'FutureWarning',\n",
              " 'GeneratorExit',\n",
              " 'IOError',\n",
              " 'ImportError',\n",
              " 'ImportWarning',\n",
              " 'IndentationError',\n",
              " 'IndexError',\n",
              " 'InterruptedError',\n",
              " 'IsADirectoryError',\n",
              " 'KeyError',\n",
              " 'KeyboardInterrupt',\n",
              " 'LookupError',\n",
              " 'MemoryError',\n",
              " 'ModuleNotFoundError',\n",
              " 'NameError',\n",
              " 'None',\n",
              " 'NotADirectoryError',\n",
              " 'NotImplemented',\n",
              " 'NotImplementedError',\n",
              " 'OSError',\n",
              " 'OverflowError',\n",
              " 'PendingDeprecationWarning',\n",
              " 'PermissionError',\n",
              " 'ProcessLookupError',\n",
              " 'RecursionError',\n",
              " 'ReferenceError',\n",
              " 'ResourceWarning',\n",
              " 'RuntimeError',\n",
              " 'RuntimeWarning',\n",
              " 'StopAsyncIteration',\n",
              " 'StopIteration',\n",
              " 'SyntaxError',\n",
              " 'SyntaxWarning',\n",
              " 'SystemError',\n",
              " 'SystemExit',\n",
              " 'TabError',\n",
              " 'TimeoutError',\n",
              " 'True',\n",
              " 'TypeError',\n",
              " 'UnboundLocalError',\n",
              " 'UnicodeDecodeError',\n",
              " 'UnicodeEncodeError',\n",
              " 'UnicodeError',\n",
              " 'UnicodeTranslateError',\n",
              " 'UnicodeWarning',\n",
              " 'UserWarning',\n",
              " 'ValueError',\n",
              " 'Warning',\n",
              " 'ZeroDivisionError',\n",
              " '__IPYTHON__',\n",
              " '__build_class__',\n",
              " '__debug__',\n",
              " '__doc__',\n",
              " '__import__',\n",
              " '__loader__',\n",
              " '__name__',\n",
              " '__package__',\n",
              " '__spec__',\n",
              " 'abs',\n",
              " 'all',\n",
              " 'any',\n",
              " 'ascii',\n",
              " 'bin',\n",
              " 'bool',\n",
              " 'bytearray',\n",
              " 'bytes',\n",
              " 'callable',\n",
              " 'chr',\n",
              " 'classmethod',\n",
              " 'compile',\n",
              " 'complex',\n",
              " 'copyright',\n",
              " 'credits',\n",
              " 'delattr',\n",
              " 'dict',\n",
              " 'dir',\n",
              " 'display',\n",
              " 'divmod',\n",
              " 'dreload',\n",
              " 'enumerate',\n",
              " 'eval',\n",
              " 'exec',\n",
              " 'filter',\n",
              " 'float',\n",
              " 'format',\n",
              " 'frozenset',\n",
              " 'get_ipython',\n",
              " 'getattr',\n",
              " 'globals',\n",
              " 'hasattr',\n",
              " 'hash',\n",
              " 'help',\n",
              " 'hex',\n",
              " 'id',\n",
              " 'input',\n",
              " 'int',\n",
              " 'isinstance',\n",
              " 'issubclass',\n",
              " 'iter',\n",
              " 'len',\n",
              " 'license',\n",
              " 'list',\n",
              " 'locals',\n",
              " 'map',\n",
              " 'max',\n",
              " 'memoryview',\n",
              " 'min',\n",
              " 'next',\n",
              " 'object',\n",
              " 'oct',\n",
              " 'open',\n",
              " 'ord',\n",
              " 'pow',\n",
              " 'print',\n",
              " 'property',\n",
              " 'range',\n",
              " 'repr',\n",
              " 'reversed',\n",
              " 'round',\n",
              " 'set',\n",
              " 'setattr',\n",
              " 'slice',\n",
              " 'sorted',\n",
              " 'staticmethod',\n",
              " 'str',\n",
              " 'sum',\n",
              " 'super',\n",
              " 'tuple',\n",
              " 'type',\n",
              " 'vars',\n",
              " 'zip']"
            ]
          },
          "metadata": {
            "tags": []
          },
          "execution_count": 2
        }
      ]
    },
    {
      "cell_type": "markdown",
      "metadata": {
        "id": "LkqAoYW7_hrv"
      },
      "source": [
        "### 5.2. Documentación de una función"
      ]
    },
    {
      "cell_type": "markdown",
      "metadata": {
        "id": "7KbzGqSc_rnQ"
      },
      "source": [
        "Se puede añadir una explicación de una fucnión que creemos mediante un comentario al inicio de la función, de esta manera cuando llamemos a la `built in function` `help()` nos mostrará dicha explicación."
      ]
    },
    {
      "cell_type": "code",
      "metadata": {
        "colab": {
          "base_uri": "https://localhost:8080/"
        },
        "id": "no1eypO4_9UW",
        "outputId": "71a7ccc8-80f0-48f1-804a-cbe48454de2d"
      },
      "source": [
        "def funcion():\n",
        "  \"Esta es la explicación de la función\"\n",
        "\n",
        "  None\n",
        "\n",
        "help(funcion)"
      ],
      "execution_count": null,
      "outputs": [
        {
          "output_type": "stream",
          "text": [
            "Help on function funcion in module __main__:\n",
            "\n",
            "funcion()\n",
            "    Esta es la explicación de la función\n",
            "\n"
          ],
          "name": "stdout"
        }
      ]
    },
    {
      "cell_type": "markdown",
      "metadata": {
        "id": "EcbRNHttBJ4T"
      },
      "source": [
        "Otra opción para ver la explicación de la función es usar el método `__doc__` de la función"
      ]
    },
    {
      "cell_type": "code",
      "metadata": {
        "colab": {
          "base_uri": "https://localhost:8080/",
          "height": 35
        },
        "id": "-aXkZWGDAJ2R",
        "outputId": "7c703e56-d93e-49e6-9a8e-e98bcf888d8d"
      },
      "source": [
        "funcion.__doc__"
      ],
      "execution_count": null,
      "outputs": [
        {
          "output_type": "execute_result",
          "data": {
            "application/vnd.google.colaboratory.intrinsic+json": {
              "type": "string"
            },
            "text/plain": [
              "'Esta es la explicación de la función'"
            ]
          },
          "metadata": {
            "tags": []
          },
          "execution_count": 21
        }
      ]
    },
    {
      "cell_type": "markdown",
      "metadata": {
        "id": "APm67o4fBcSB"
      },
      "source": [
        "### 5.3. Decoradores"
      ]
    },
    {
      "cell_type": "markdown",
      "metadata": {
        "id": "MvYoPky0BekS"
      },
      "source": [
        "Los decoradores son una funcionalidad de Python que premiten añadir características nuevas a una función\n",
        "\n",
        "Se crea una función decorador que tiene como parámetro otra función. Entonces la función decorador añade la característica nueva a la función que recibe"
      ]
    },
    {
      "cell_type": "code",
      "metadata": {
        "colab": {
          "base_uri": "https://localhost:8080/"
        },
        "id": "NDM1S8-DDt3l",
        "outputId": "706f5370-90f2-4d91-e0bf-4b9025b49b23"
      },
      "source": [
        "def decorador(parametro_funcion):\n",
        "  \"\"\"Agrega barritas arriba y abajo de la funcion\"\"\"\n",
        "\n",
        "  def envoltorio():\n",
        "    \"\"\"Aplica las barritas al texto\"\"\"\n",
        "\n",
        "    print(\"==================\")\n",
        "    parametro_funcion()\n",
        "    print(\"==================\")\n",
        "      \n",
        "  return envoltorio\n",
        "\n",
        "def funcion():\n",
        "  print(\"DeepMaxFN\")\n",
        "\n",
        "funcion_envoltorio = decorador(funcion)\n",
        "\n",
        "print('Función sin decoradores: ')\n",
        "funcion()\n",
        "\n",
        "print('\\nFunción con decoradores: ')\n",
        "funcion_envoltorio()"
      ],
      "execution_count": null,
      "outputs": [
        {
          "output_type": "stream",
          "text": [
            "Función sin decoradores: \n",
            "DeepMaxFN\n",
            "\n",
            "Función con decoradores: \n",
            "==================\n",
            "DeepMaxFN\n",
            "==================\n"
          ],
          "name": "stdout"
        }
      ]
    },
    {
      "cell_type": "markdown",
      "metadata": {
        "id": "9jcsg8GVFXPA"
      },
      "source": [
        "Pero otra manera más potente de usar los decoradores es mediante el uso de `@` y el nombre del decorador antes de la función.\n",
        "\n",
        "Es decir, primero se define el decorador y a continuación se llama a una función con el decorador definido"
      ]
    },
    {
      "cell_type": "code",
      "metadata": {
        "colab": {
          "base_uri": "https://localhost:8080/"
        },
        "id": "tAfU4G9OE3ZV",
        "outputId": "da32ee61-579f-45aa-eed1-3625bd84d7ab"
      },
      "source": [
        "def decorador2(parametro_funcion2):\n",
        "  \"\"\"Agrega barritas arriba y abajo de la funcion\"\"\"\n",
        "\n",
        "  def envoltorio2():\n",
        "    \"\"\"Aplica las barritas al texto\"\"\"\n",
        "\n",
        "    print(\"==================\")\n",
        "    parametro_funcion2()\n",
        "    print(\"==================\")\n",
        "      \n",
        "  return envoltorio2\n",
        "\n",
        "@decorador2\n",
        "def funcion2():\n",
        "  print(\"DeepMaxFN\")\n",
        "\n",
        "print('Función con decoradores: ')\n",
        "funcion2()"
      ],
      "execution_count": null,
      "outputs": [
        {
          "output_type": "stream",
          "text": [
            "Función con decoradores: \n",
            "==================\n",
            "DeepMaxFN\n",
            "==================\n"
          ],
          "name": "stdout"
        }
      ]
    },
    {
      "cell_type": "markdown",
      "metadata": {
        "id": "gEKN43NjLHAW"
      },
      "source": [
        "## 6. Funciones adicionales"
      ]
    },
    {
      "cell_type": "markdown",
      "metadata": {
        "id": "VnJXtarMKVWG"
      },
      "source": [
        "### 6.1. Funciones *lambda*"
      ]
    },
    {
      "cell_type": "markdown",
      "metadata": {
        "id": "saj3-zTjKav4"
      },
      "source": [
        "Una función *lambda* es una pequeña función anónima.\n",
        "\n",
        "Una función *lambda* puede tomar cualquier número de argumentos, pero solo puede tener una expresión.\n",
        "\n",
        "Las funciones *lambda* se definen de la siguiente manera:\n",
        "```\n",
        "    lambda arguments : expression\n",
        "```\n",
        "\n"
      ]
    },
    {
      "cell_type": "code",
      "metadata": {
        "colab": {
          "base_uri": "https://localhost:8080/"
        },
        "id": "tt_Cb5BEK3Qh",
        "outputId": "014cc622-80c8-4b96-f79a-be4355085d06"
      },
      "source": [
        "x = lambda a : a + 10\n",
        "print(x(5))"
      ],
      "execution_count": null,
      "outputs": [
        {
          "output_type": "stream",
          "text": [
            "15\n"
          ],
          "name": "stdout"
        }
      ]
    },
    {
      "cell_type": "code",
      "metadata": {
        "colab": {
          "base_uri": "https://localhost:8080/"
        },
        "id": "pU9w0mR-K7Op",
        "outputId": "13f23537-35a9-4380-9151-d34d431bcba3"
      },
      "source": [
        "x = lambda a, b, c : a + b + c\n",
        "print(x(5, 6, 2))"
      ],
      "execution_count": null,
      "outputs": [
        {
          "output_type": "stream",
          "text": [
            "13\n"
          ],
          "name": "stdout"
        }
      ]
    },
    {
      "cell_type": "markdown",
      "metadata": {
        "id": "HXgSPNkWLP7k"
      },
      "source": [
        "El poder de *lambda* se muestra mejor cuando los usa como una función anónima dentro de otra función."
      ]
    },
    {
      "cell_type": "code",
      "metadata": {
        "colab": {
          "base_uri": "https://localhost:8080/"
        },
        "id": "2P6KmOcSLTLr",
        "outputId": "65cb208b-aba9-4a27-ca59-575eb64c5a7d"
      },
      "source": [
        "def myfunc(n):\n",
        "  return lambda a : a * n\n",
        "\n",
        "mydoubler = myfunc(2)\n",
        "mytripler = myfunc(3)\n",
        "\n",
        "print(f\"mydoubler: {mydoubler(11)}\")\n",
        "print(f\"mytripler: {mytripler(11)}\")"
      ],
      "execution_count": null,
      "outputs": [
        {
          "output_type": "stream",
          "text": [
            "mydoubler: 22\n",
            "mytripler: 33\n"
          ],
          "name": "stdout"
        }
      ]
    },
    {
      "cell_type": "markdown",
      "metadata": {
        "id": "wyEFlVh2LPP4"
      },
      "source": [
        "### 6.2. Función `map`"
      ]
    },
    {
      "cell_type": "markdown",
      "metadata": {
        "id": "KHciIh-1LlD5"
      },
      "source": [
        "La función `map` permite aplicar a cada elemento de una estructura iterable una función"
      ]
    },
    {
      "cell_type": "code",
      "metadata": {
        "colab": {
          "base_uri": "https://localhost:8080/"
        },
        "id": "GzM0f0y-L9kv",
        "outputId": "71db22cf-fff0-458e-f590-9a96d9c0ab86"
      },
      "source": [
        "lista = [1, 2, 3]\n",
        "\n",
        "def funcion_mas_1(valor):\n",
        "  return valor + 1\n",
        "\n",
        "lista_modificada = list(map(funcion_mas_1, lista))\n",
        "lista_modificada"
      ],
      "execution_count": null,
      "outputs": [
        {
          "output_type": "execute_result",
          "data": {
            "text/plain": [
              "[2, 3, 4]"
            ]
          },
          "metadata": {
            "tags": []
          },
          "execution_count": 2
        }
      ]
    },
    {
      "cell_type": "markdown",
      "metadata": {
        "id": "9_QMQcIyMQY8"
      },
      "source": [
        "Esto es equivalente a usar `list comprehension`"
      ]
    },
    {
      "cell_type": "code",
      "metadata": {
        "colab": {
          "base_uri": "https://localhost:8080/"
        },
        "id": "KXgwS1NQMYJ2",
        "outputId": "f7acb8d3-5d35-4930-e1e0-a70d0cfe9f58"
      },
      "source": [
        "lista_modificada = [funcion_mas_1(x) for x in lista]\n",
        "lista_modificada"
      ],
      "execution_count": null,
      "outputs": [
        {
          "output_type": "execute_result",
          "data": {
            "text/plain": [
              "[2, 3, 4]"
            ]
          },
          "metadata": {
            "tags": []
          },
          "execution_count": 3
        }
      ]
    },
    {
      "cell_type": "markdown",
      "metadata": {
        "id": "llVV5hwMLUvE"
      },
      "source": [
        "### 6.3. Función `filter`"
      ]
    },
    {
      "cell_type": "markdown",
      "metadata": {
        "id": "_dDM6WUNNnZS"
      },
      "source": [
        "La función `filter` permite seleccionar los elementos de una estructura iterable que cumplan con una característica"
      ]
    },
    {
      "cell_type": "code",
      "metadata": {
        "colab": {
          "base_uri": "https://localhost:8080/"
        },
        "id": "3ejgy3nxNsm1",
        "outputId": "98629ea1-5ec1-4bee-e378-c5a4d43f67c3"
      },
      "source": [
        "lista = [1, 2, 3, 4, 5, 6, 7]\n",
        "\n",
        "def esPar(valor):\n",
        "  return valor % 2 == 0\n",
        "\n",
        "lista_filtrada = list(filter(esPar, lista))\n",
        "lista_filtrada"
      ],
      "execution_count": null,
      "outputs": [
        {
          "output_type": "execute_result",
          "data": {
            "text/plain": [
              "[2, 4, 6]"
            ]
          },
          "metadata": {
            "tags": []
          },
          "execution_count": 7
        }
      ]
    },
    {
      "cell_type": "markdown",
      "metadata": {
        "id": "083gUvqbN66g"
      },
      "source": [
        "Esto es equivalente a usar `list comprehension`"
      ]
    },
    {
      "cell_type": "code",
      "metadata": {
        "colab": {
          "base_uri": "https://localhost:8080/"
        },
        "id": "cNTRx4TWN66r",
        "outputId": "0eedbff1-51df-4781-b81a-db2d5f8c5a8f"
      },
      "source": [
        "lista_filtrada = [x for x in lista if esPar(x)]\n",
        "lista_filtrada"
      ],
      "execution_count": null,
      "outputs": [
        {
          "output_type": "execute_result",
          "data": {
            "text/plain": [
              "[2, 4, 6]"
            ]
          },
          "metadata": {
            "tags": []
          },
          "execution_count": 8
        }
      ]
    },
    {
      "cell_type": "markdown",
      "metadata": {
        "id": "6AODprTvLZx3"
      },
      "source": [
        "### 6.4. Función `reduce`"
      ]
    },
    {
      "cell_type": "markdown",
      "metadata": {
        "id": "XL3eoZBIOLJ5"
      },
      "source": [
        "La función `reduce` permite realizar tareas acumulativas en estructuras iterables"
      ]
    },
    {
      "cell_type": "code",
      "metadata": {
        "colab": {
          "base_uri": "https://localhost:8080/"
        },
        "id": "YwJbwkXHOSXa",
        "outputId": "104acf9a-80ca-4981-e26a-7748b547bc59"
      },
      "source": [
        "from functools import reduce\n",
        "\n",
        "lista = [1, 2, 3]\n",
        "\n",
        "def acumular(valor, acumulador):\n",
        "  print(f'valor = {valor}, acumulador = {acumulador}, acumulacion = {valor + acumulador}')\n",
        "  return valor + acumulador\n",
        "\n",
        "acumulacion = reduce(acumular, lista)\n",
        "print(f'\\nacumulacion = {acumulacion}')"
      ],
      "execution_count": null,
      "outputs": [
        {
          "output_type": "stream",
          "text": [
            "valor = 1, acumulador = 2, acumulacion = 3\n",
            "valor = 3, acumulador = 3, acumulacion = 6\n",
            "\n",
            "acumulacion = 6\n"
          ],
          "name": "stdout"
        }
      ]
    },
    {
      "cell_type": "code",
      "metadata": {
        "colab": {
          "base_uri": "https://localhost:8080/"
        },
        "id": "82VXTxDJO3Og",
        "outputId": "18478965-03c1-4971-9e2d-42c465e8f85e"
      },
      "source": [
        "2+3+4+5+6+7"
      ],
      "execution_count": null,
      "outputs": [
        {
          "output_type": "execute_result",
          "data": {
            "text/plain": [
              "27"
            ]
          },
          "metadata": {
            "tags": []
          },
          "execution_count": 14
        }
      ]
    },
    {
      "cell_type": "markdown",
      "metadata": {
        "id": "cpsx2Zy0LdmQ"
      },
      "source": [
        "### 6.5. Función `zip`"
      ]
    },
    {
      "cell_type": "markdown",
      "metadata": {
        "id": "Iki87gNZPu8z"
      },
      "source": [
        "Con la función `zip` se puede compibar varias estructuras iterables en una sola, es decir permite agrupar varias estructuras *A<sub>x</sub>*  en una sola estructura *B*. La estructura *B* está formada por tuplas de los elementos de las estructuras *A<sub>x</sub>*"
      ]
    },
    {
      "cell_type": "code",
      "metadata": {
        "colab": {
          "base_uri": "https://localhost:8080/"
        },
        "id": "g4XUGuspP3oC",
        "outputId": "395e1aec-a4bf-4045-d89d-86bd0e0ebd99"
      },
      "source": [
        "nombres = [\"Manolo\", \"Andres\", \"Fernando\"]\n",
        "altura = [181, 178, 180]\n",
        "\n",
        "my_zip = list(zip(nombres, altura))\n",
        "my_zip"
      ],
      "execution_count": null,
      "outputs": [
        {
          "output_type": "execute_result",
          "data": {
            "text/plain": [
              "[('Manolo', 181), ('Andres', 178), ('Fernando', 180)]"
            ]
          },
          "metadata": {
            "tags": []
          },
          "execution_count": 19
        }
      ]
    },
    {
      "cell_type": "markdown",
      "metadata": {
        "id": "2QtUt7g1iA7-"
      },
      "source": [
        "## 7. Clases y objetos"
      ]
    },
    {
      "cell_type": "markdown",
      "metadata": {
        "id": "5Wp5MErXiFtG"
      },
      "source": [
        "Python es un lenguaje de programación orientado a objetos. Casi todo en Python es un objeto, con sus propiedades y métodos.\n",
        "\n",
        "Una clase es como un constructor de objetos o un \"plano\" para crear objetos.\n",
        "\n",
        "Para crear una clase se usa la palabra reservada `class`"
      ]
    },
    {
      "cell_type": "code",
      "metadata": {
        "id": "8u7K7TwEs-yM"
      },
      "source": [
        "class Clase:\n",
        "  variable = 'DeepMaxFN'"
      ],
      "execution_count": null,
      "outputs": []
    },
    {
      "cell_type": "markdown",
      "metadata": {
        "id": "mEVAoSdRtQJd"
      },
      "source": [
        "Una vez creada la clase se puede crear un objeto de dicha clase"
      ]
    },
    {
      "cell_type": "code",
      "metadata": {
        "colab": {
          "base_uri": "https://localhost:8080/",
          "height": 35
        },
        "id": "RMTp1mkJtNew",
        "outputId": "1392a0cf-3a02-4f17-bf69-ada58b962122"
      },
      "source": [
        "objeto = Clase()\n",
        "Clase.variable"
      ],
      "execution_count": null,
      "outputs": [
        {
          "output_type": "execute_result",
          "data": {
            "application/vnd.google.colaboratory.intrinsic+json": {
              "type": "string"
            },
            "text/plain": [
              "'DeepMaxFN'"
            ]
          },
          "metadata": {
            "tags": []
          },
          "execution_count": 3
        }
      ]
    },
    {
      "cell_type": "markdown",
      "metadata": {
        "id": "xjdBKjlutcOY"
      },
      "source": [
        "Normalmente las clases tienen una función inicial, que se ejecuta cuando se crea un objeto de la clase. Esta función se denomina *dunder init* y se escribe `__init__()`. A la función *dunder init* se le tiene que pasar siempre la variable `self`, que indica la propia clase, y a continuación, las variables que se quiera\n",
        "\n",
        "Con esta función se suelen inicializar las variables de las clases, o se ejecuta el código que se necesite cuando se crea un objeto de la clase"
      ]
    },
    {
      "cell_type": "code",
      "metadata": {
        "colab": {
          "base_uri": "https://localhost:8080/"
        },
        "id": "hpnd8T9Lt_4Q",
        "outputId": "b349d501-d1d2-4151-d5d5-4f65e8ed156e"
      },
      "source": [
        "class Persona:\n",
        "  def __init__(self, nombre, edad):\n",
        "    self.nombre = nombre\n",
        "    self.edad = edad\n",
        "\n",
        "objeto_persona = Persona(\"Miguel\", 36)\n",
        "\n",
        "print(objeto_persona.nombre)\n",
        "print(objeto_persona.edad)"
      ],
      "execution_count": null,
      "outputs": [
        {
          "output_type": "stream",
          "text": [
            "Miguel\n",
            "36\n"
          ],
          "name": "stdout"
        }
      ]
    },
    {
      "cell_type": "markdown",
      "metadata": {
        "id": "OZ_TMTwhuxP4"
      },
      "source": [
        "Además de la función inicial *dunder init*, se pueden crear más funciones. A estas funciones se les llama *métodos* de la clase. A estos *métodos* siempre hay que pasarles la variable `self`"
      ]
    },
    {
      "cell_type": "code",
      "metadata": {
        "colab": {
          "base_uri": "https://localhost:8080/"
        },
        "id": "bP3l3RtAu-iS",
        "outputId": "9da8f032-26e1-4300-f283-9ba4049fd45f"
      },
      "source": [
        "class Persona:\n",
        "  def __init__(self, nombre, edad):\n",
        "    self.nombre = nombre\n",
        "    self.edad = edad\n",
        "\n",
        "  def saludar(self):\n",
        "    print(f'Hola mi nombre es {self.nombre} y tengo {self.edad} años')\n",
        "\n",
        "objeto_persona = Persona(\"Miguel\", 36)\n",
        "\n",
        "objeto_persona.saludar()"
      ],
      "execution_count": null,
      "outputs": [
        {
          "output_type": "stream",
          "text": [
            "Hola mi nombre es Miguel y tengo 36 años\n"
          ],
          "name": "stdout"
        }
      ]
    },
    {
      "cell_type": "markdown",
      "metadata": {
        "id": "_1qO0OgXv8HR"
      },
      "source": [
        "La variable `self` no tiene por qué ser llamada `self`, puede tener cualquier nombre, pero dentro de cada clase tiene que ser siempre el mismo. Pero por convenio se suele usar `self`"
      ]
    },
    {
      "cell_type": "code",
      "metadata": {
        "colab": {
          "base_uri": "https://localhost:8080/"
        },
        "id": "dzw_CBe1wH4Q",
        "outputId": "0d356bea-280b-41cc-bc79-f91d34899097"
      },
      "source": [
        "class Persona:\n",
        "  def __init__(yo_mismo, nombre, edad):\n",
        "    yo_mismo.nombre = nombre\n",
        "    yo_mismo.edad = edad\n",
        "\n",
        "  def saludar(yo_mismo):\n",
        "    print(f'Hola mi nombre es {yo_mismo.nombre} y tengo {yo_mismo.edad} años')\n",
        "\n",
        "objeto_persona = Persona(\"Miguel\", 36)\n",
        "\n",
        "objeto_persona.saludar()"
      ],
      "execution_count": null,
      "outputs": [
        {
          "output_type": "stream",
          "text": [
            "Hola mi nombre es Miguel y tengo 36 años\n"
          ],
          "name": "stdout"
        }
      ]
    },
    {
      "cell_type": "markdown",
      "metadata": {
        "id": "sRLdwQKEwVk7"
      },
      "source": [
        "Se pueden modificar las variables de los objetos"
      ]
    },
    {
      "cell_type": "code",
      "metadata": {
        "colab": {
          "base_uri": "https://localhost:8080/"
        },
        "id": "lT-_6s4CwPLz",
        "outputId": "73a00297-a7c3-4015-bd29-af62c7754280"
      },
      "source": [
        "objeto_persona.nombre = 'Marta'\n",
        "objeto_persona.saludar()"
      ],
      "execution_count": null,
      "outputs": [
        {
          "output_type": "stream",
          "text": [
            "Hola mi nombre es Marta y tengo 36 años\n"
          ],
          "name": "stdout"
        }
      ]
    },
    {
      "cell_type": "markdown",
      "metadata": {
        "id": "SG891_e4wbtV"
      },
      "source": [
        "Incluso eliminarlas"
      ]
    },
    {
      "cell_type": "code",
      "metadata": {
        "id": "0YB_eAOwweDN"
      },
      "source": [
        "del objeto_persona.nombre"
      ],
      "execution_count": null,
      "outputs": []
    },
    {
      "cell_type": "markdown",
      "metadata": {
        "id": "OCx92PMWxYN4"
      },
      "source": [
        "También se puede eliminar el objeto entero"
      ]
    },
    {
      "cell_type": "code",
      "metadata": {
        "id": "9Qja1pntxa3X"
      },
      "source": [
        "del objeto_persona"
      ],
      "execution_count": null,
      "outputs": []
    },
    {
      "cell_type": "markdown",
      "metadata": {
        "id": "YRbOlYSHxjIM"
      },
      "source": [
        "Si por ejemplo queremos hacer la estructura de la clase pero no queremos, de momento, codificar el interior podemos usar `pass`"
      ]
    },
    {
      "cell_type": "code",
      "metadata": {
        "id": "qjRPnZnPxjIM"
      },
      "source": [
        "class Persona:\n",
        "  pass\n",
        "\n",
        "objeto_persona = Persona()"
      ],
      "execution_count": null,
      "outputs": []
    },
    {
      "cell_type": "markdown",
      "metadata": {
        "id": "T1k1wZ7Xx8nm"
      },
      "source": [
        "### 7.1. Herencia"
      ]
    },
    {
      "cell_type": "markdown",
      "metadata": {
        "id": "5xcwaUTwybE-"
      },
      "source": [
        "La herencia nos permite definir una clase que hereda todos los métodos y propiedades de otra clase.\n",
        "\n",
        "La **clase padre** es la clase de la que se hereda, también llamada **clase base**.\n",
        "\n",
        "La **clase hija** es la clase que hereda de otra clase, también llamada **clase derivada**."
      ]
    },
    {
      "cell_type": "markdown",
      "metadata": {
        "id": "QBUcMYm0yqiF"
      },
      "source": [
        "Creamos una clase padre"
      ]
    },
    {
      "cell_type": "code",
      "metadata": {
        "colab": {
          "base_uri": "https://localhost:8080/"
        },
        "id": "pYGRlphtysc-",
        "outputId": "4850058a-bc29-478e-bae1-053fe9398f51"
      },
      "source": [
        "class Persona:\n",
        "  def __init__(self, nombre, apellido):\n",
        "    self.nombre = nombre\n",
        "    self.apellido = apellido\n",
        "\n",
        "  def imprimir_nombre(self):\n",
        "    print(f'Me llamo {self.nombre} {self.apellido}')\n",
        "\n",
        "objeto_padre = Persona(\"Laura\", \"Perez\")\n",
        "objeto_padre.imprimir_nombre()"
      ],
      "execution_count": null,
      "outputs": [
        {
          "output_type": "stream",
          "text": [
            "Me llamo Laura Perez\n"
          ],
          "name": "stdout"
        }
      ]
    },
    {
      "cell_type": "markdown",
      "metadata": {
        "id": "F4jVM-vZzMR_"
      },
      "source": [
        "Para crear la clase hija hay que indicar entre paréntesis, a la hora de declarar la clase, de qué clase hereda"
      ]
    },
    {
      "cell_type": "code",
      "metadata": {
        "id": "ok8qkdiHzTef"
      },
      "source": [
        "class Estudiante(Persona):\n",
        "  pass"
      ],
      "execution_count": null,
      "outputs": []
    },
    {
      "cell_type": "markdown",
      "metadata": {
        "id": "FWW_gIkxzak0"
      },
      "source": [
        "Y a la hora de crear el objeto de la clase hija, se le pasan los parámetros que la clase padre necesita"
      ]
    },
    {
      "cell_type": "code",
      "metadata": {
        "colab": {
          "base_uri": "https://localhost:8080/"
        },
        "id": "YqvocMKkzgPe",
        "outputId": "638b085a-adbe-4b05-81f4-a2024d108538"
      },
      "source": [
        "objeto_hijo = Estudiante(\"Mariano\", \"Sanz\")\n",
        "objeto_hijo.imprimir_nombre()"
      ],
      "execution_count": null,
      "outputs": [
        {
          "output_type": "stream",
          "text": [
            "Me llamo Mariano Sanz\n"
          ],
          "name": "stdout"
        }
      ]
    },
    {
      "cell_type": "markdown",
      "metadata": {
        "id": "hLhl8XSXz2Bj"
      },
      "source": [
        "Hasta ahora la clase hija ha heredado las funciones de la clase padre, pero podemos modificarlas reescribiéndolas. Por ejemplo reescribiendo la función *duder init*.\n",
        "\n",
        "Si se reescribe la función *dunder init*, si queremos que se llame a la función *dunder init* de la clase padre hay que llamarla.\n",
        "\n",
        "Para esto hay dos maneras, una es mediante el nombre de la clase padre, en este caso hay que pasarle la variable `self`"
      ]
    },
    {
      "cell_type": "code",
      "metadata": {
        "colab": {
          "base_uri": "https://localhost:8080/"
        },
        "id": "MpwOeFlK0VbI",
        "outputId": "75ef5ae0-fda8-4f8a-b8f1-2f11840c79c2"
      },
      "source": [
        "class Estudiante(Persona):\n",
        "  def __init__(self, nombre, apellido):\n",
        "    Persona.__init__(self, nombre, apellido)\n",
        "\n",
        "objeto_hijo = Estudiante(\"Mariano\", \"Sanz\")\n",
        "objeto_hijo.imprimir_nombre()"
      ],
      "execution_count": null,
      "outputs": [
        {
          "output_type": "stream",
          "text": [
            "Me llamo Mariano Sanz\n"
          ],
          "name": "stdout"
        }
      ]
    },
    {
      "cell_type": "markdown",
      "metadata": {
        "id": "kqpJggUR0kZu"
      },
      "source": [
        "Otra forma es mediante `super()`, en este caso no hace falta pasarle la variable `self`"
      ]
    },
    {
      "cell_type": "code",
      "metadata": {
        "colab": {
          "base_uri": "https://localhost:8080/"
        },
        "id": "AF45jz0w0x16",
        "outputId": "bbbd8a1d-00b4-4685-931a-d13d9d801a58"
      },
      "source": [
        "class Estudiante(Persona):\n",
        "  def __init__(self, nombre, apellido):\n",
        "    super().__init__(nombre, apellido)\n",
        "\n",
        "objeto_hijo = Estudiante(\"Mariano\", \"Sanz\")\n",
        "objeto_hijo.imprimir_nombre()"
      ],
      "execution_count": null,
      "outputs": [
        {
          "output_type": "stream",
          "text": [
            "Me llamo Mariano Sanz\n"
          ],
          "name": "stdout"
        }
      ]
    },
    {
      "cell_type": "markdown",
      "metadata": {
        "id": "KXvCmbAr0qvh"
      },
      "source": [
        "Al modificar las funciones se puede añadir código nuevo"
      ]
    },
    {
      "cell_type": "code",
      "metadata": {
        "colab": {
          "base_uri": "https://localhost:8080/"
        },
        "id": "L1KfYuBu1RLH",
        "outputId": "ac96ca98-21db-49e2-b81e-be525e368f26"
      },
      "source": [
        "class Estudiante(Persona):\n",
        "  def __init__(self, nombre, apellido, curso):\n",
        "    Persona.__init__(self, nombre, apellido)\n",
        "    self.curso = curso\n",
        "\n",
        "  def imprimir_nombre(self):\n",
        "    Persona.imprimir_nombre(self)\n",
        "    print(f'Estoy en el curso número {self.curso}')\n",
        "\n",
        "objeto_hijo = Estudiante(\"Mariano\", \"Sanz\", 4)\n",
        "objeto_hijo.imprimir_nombre()"
      ],
      "execution_count": null,
      "outputs": [
        {
          "output_type": "stream",
          "text": [
            "Me llamo Mariano Sanz\n",
            "Estoy en el curso número 4\n"
          ],
          "name": "stdout"
        }
      ]
    },
    {
      "cell_type": "markdown",
      "metadata": {
        "id": "J6PLe2_b2Dl7"
      },
      "source": [
        "Por último se pueden añadir nuevos métodos"
      ]
    },
    {
      "cell_type": "code",
      "metadata": {
        "colab": {
          "base_uri": "https://localhost:8080/"
        },
        "id": "AigP3Gip2Hmn",
        "outputId": "6b04fb17-43c0-4fb4-b5a5-348b2a350707"
      },
      "source": [
        "class Estudiante(Persona):\n",
        "  def __init__(self, nombre, apellido, curso):\n",
        "    Persona.__init__(self, nombre, apellido)\n",
        "    self.curso = curso\n",
        "\n",
        "  def imprimir_nombre(self):\n",
        "    Persona.imprimir_nombre(self)\n",
        "    print(f'Estoy en el curso número {self.curso}')\n",
        "\n",
        "  def imprimir_estudiante(self):\n",
        "    print(\"Soy un estudiante del curso número {self.curso}\")\n",
        "\n",
        "objeto_hijo = Estudiante(\"Mariano\", \"Sanz\", 4)\n",
        "objeto_hijo.imprimir_nombre()\n",
        "objeto_hijo.imprimir_estudiante()"
      ],
      "execution_count": null,
      "outputs": [
        {
          "output_type": "stream",
          "text": [
            "Me llamo Mariano Sanz\n",
            "Estoy en el curso número 4\n",
            "Soy un estudiante del curso número {self.curso}\n"
          ],
          "name": "stdout"
        }
      ]
    },
    {
      "cell_type": "markdown",
      "metadata": {
        "id": "bM0Kf9Cxo_Qt"
      },
      "source": [
        "## 8. Iteradores"
      ]
    },
    {
      "cell_type": "markdown",
      "metadata": {
        "id": "u7Ba3ITcpB97"
      },
      "source": [
        "Un iterador es un objeto que contiene un número contable de valores.\n",
        "\n",
        "Un iterador es un objeto sobre el que se puede iterar, lo que significa que puede atravesar todos los valores.\n",
        "\n",
        "Técnicamente, en Python, un iterador es un objeto que implementa el protocolo del iterador, que consta de los métodos `__iter__()` y `__next__()`."
      ]
    },
    {
      "cell_type": "markdown",
      "metadata": {
        "id": "xdLfGIulpW6F"
      },
      "source": [
        "Las `listas`, `tuplas`, `diccionarios` y conjuntos son todos objetos iterables. Son contenedores iterables de los que puede obtener un iterador.\n",
        "\n",
        "Todos estos objetos tienen un método `iter()` que se usa para obtener un iterador:"
      ]
    },
    {
      "cell_type": "code",
      "metadata": {
        "colab": {
          "base_uri": "https://localhost:8080/"
        },
        "id": "2pcsVjVFphjp",
        "outputId": "ed9e5dcd-2777-4fcf-92d8-68deccfcb08c"
      },
      "source": [
        "tupla = (\"manzana\", \"plátano\", \"cereza\")\n",
        "iterable = iter(tupla)\n",
        "\n",
        "print(next(iterable))\n",
        "print(next(iterable))\n",
        "print(next(iterable))"
      ],
      "execution_count": null,
      "outputs": [
        {
          "output_type": "stream",
          "text": [
            "manzana\n",
            "plátano\n",
            "cereza\n"
          ],
          "name": "stdout"
        }
      ]
    },
    {
      "cell_type": "code",
      "metadata": {
        "colab": {
          "base_uri": "https://localhost:8080/"
        },
        "id": "HJDt-FLYqoDJ",
        "outputId": "7f80ec45-fc3e-43f9-a4e0-f98465cc0394"
      },
      "source": [
        "string = \"plátano\"\n",
        "iterable = iter(string)\n",
        "\n",
        "print(next(iterable), end=' ')\n",
        "print(next(iterable), end=' ')\n",
        "print(next(iterable), end=' ')\n",
        "print(next(iterable), end=' ')\n",
        "print(next(iterable), end=' ')\n",
        "print(next(iterable), end=' ')\n",
        "print(next(iterable), end=' ')"
      ],
      "execution_count": null,
      "outputs": [
        {
          "output_type": "stream",
          "text": [
            "p l á t a n o "
          ],
          "name": "stdout"
        }
      ]
    },
    {
      "cell_type": "markdown",
      "metadata": {
        "id": "NEogihP2rjqY"
      },
      "source": [
        "El bucle `for` en realidad crea un objeto iterador y ejecuta el método `next()` para cada bucle."
      ]
    },
    {
      "cell_type": "code",
      "metadata": {
        "colab": {
          "base_uri": "https://localhost:8080/"
        },
        "id": "2eYV8RZgrp04",
        "outputId": "385b75fb-a950-4600-e3d5-8fd58523cec0"
      },
      "source": [
        "tupla = (\"manzana\", \"plátano\", \"cereza\")\n",
        "\n",
        "for x in tupla:\n",
        "  print(x)"
      ],
      "execution_count": null,
      "outputs": [
        {
          "output_type": "stream",
          "text": [
            "manzana\n",
            "plátano\n",
            "cereza\n"
          ],
          "name": "stdout"
        }
      ]
    },
    {
      "cell_type": "code",
      "metadata": {
        "colab": {
          "base_uri": "https://localhost:8080/"
        },
        "id": "-Mu2T20Pr3b2",
        "outputId": "1df6b399-31c5-4fc4-f8af-d86c1060933c"
      },
      "source": [
        "string = \"plátano\"\n",
        "\n",
        "for x in string:\n",
        "  print(x, end=' ')"
      ],
      "execution_count": null,
      "outputs": [
        {
          "output_type": "stream",
          "text": [
            "p l á t a n o "
          ],
          "name": "stdout"
        }
      ]
    },
    {
      "cell_type": "markdown",
      "metadata": {
        "id": "DTyBSxv8sFml"
      },
      "source": [
        "### 8.1. Crear un objeto iterador"
      ]
    },
    {
      "cell_type": "markdown",
      "metadata": {
        "id": "rs4fNjqqsIfg"
      },
      "source": [
        "Para crear un objeto/clase como iterador, hay que implementar los métodos `__iter__()` y `__next__()`."
      ]
    },
    {
      "cell_type": "code",
      "metadata": {
        "colab": {
          "base_uri": "https://localhost:8080/"
        },
        "id": "zQf5Gji3seLE",
        "outputId": "3d16c1c9-ee10-49aa-8cf9-d701e6f056ad"
      },
      "source": [
        "class Numeros:\n",
        "  def __iter__(self):\n",
        "    self.a = 1\n",
        "    return self\n",
        "\n",
        "  def __next__(self):\n",
        "    x = self.a\n",
        "    self.a += 1\n",
        "    return x\n",
        "\n",
        "objeto_iterador = Numeros()\n",
        "iterador = iter(objeto_iterador)\n",
        "\n",
        "print(next(iterador), end=' ')\n",
        "print(next(iterador), end=' ')\n",
        "print(next(iterador), end=' ')\n",
        "print(next(iterador), end=' ')\n",
        "print(next(iterador), end=' ')"
      ],
      "execution_count": null,
      "outputs": [
        {
          "output_type": "stream",
          "text": [
            "1 2 3 4 5 "
          ],
          "name": "stdout"
        }
      ]
    },
    {
      "cell_type": "markdown",
      "metadata": {
        "id": "Buj1Nqs2s1du"
      },
      "source": [
        "El ejemplo anterior continuaría para siempre si tuviera suficientes llámadas a `next()`, o si se usara en un bucle `for`.\n",
        "\n",
        "Para evitar que la iteración continúe para siempre, podemos usar la declaración `StopIteration`.\n",
        "\n",
        "En el método `__next__()`, podemos agregar una condición de terminación para generar un error si la iteración se realiza un número específico de veces:"
      ]
    },
    {
      "cell_type": "code",
      "metadata": {
        "colab": {
          "base_uri": "https://localhost:8080/"
        },
        "id": "Ob3klF46tHhb",
        "outputId": "1d17b6a0-ea81-46ea-b4d6-5cfe1de8e07d"
      },
      "source": [
        "class Numeros:\n",
        "  def __iter__(self):\n",
        "    self.a = 1\n",
        "    return self\n",
        "\n",
        "  def __next__(self):\n",
        "    if self.a <= 20:\n",
        "      x = self.a\n",
        "      self.a += 1\n",
        "      return x\n",
        "    else:\n",
        "      raise StopIteration\n",
        "\n",
        "objeto_iterador = Numeros()\n",
        "iterador = iter(objeto_iterador)\n",
        "\n",
        "for x in iterador:\n",
        "  print(x, end=' ')"
      ],
      "execution_count": null,
      "outputs": [
        {
          "output_type": "stream",
          "text": [
            "1 2 3 4 5 6 7 8 9 10 11 12 13 14 15 16 17 18 19 20 "
          ],
          "name": "stdout"
        }
      ]
    },
    {
      "cell_type": "markdown",
      "metadata": {
        "id": "ChItoJ14uJLD"
      },
      "source": [
        "## 9. Alcance de variables"
      ]
    },
    {
      "cell_type": "markdown",
      "metadata": {
        "id": "jLQ0CzfMdM8e"
      },
      "source": [
        "Una variable solo está disponible dentro de la región en la que se crea. A esto se le llama *alcance*"
      ]
    },
    {
      "cell_type": "markdown",
      "metadata": {
        "id": "nD3lvw_KdUto"
      },
      "source": [
        "### 9.1. Alcance local"
      ]
    },
    {
      "cell_type": "markdown",
      "metadata": {
        "id": "jjjoC2BXdXPL"
      },
      "source": [
        "Una variable creada dentro de una función pertenece al ámbito local de esa función y solo se puede usar dentro de esa función."
      ]
    },
    {
      "cell_type": "code",
      "metadata": {
        "colab": {
          "base_uri": "https://localhost:8080/"
        },
        "id": "ytvvhxaPdbC_",
        "outputId": "bbd69c45-196c-4fb5-8814-19cd09f30c21"
      },
      "source": [
        "def funcion():\n",
        "  x = 300\n",
        "  print(x)\n",
        "\n",
        "funcion()"
      ],
      "execution_count": null,
      "outputs": [
        {
          "output_type": "stream",
          "text": [
            "300\n"
          ],
          "name": "stdout"
        }
      ]
    },
    {
      "cell_type": "markdown",
      "metadata": {
        "id": "QLS1FiPKdkgC"
      },
      "source": [
        "La variable `x` no está disponible fuera de la función, pero está disponible para cualquier función dentro de la función"
      ]
    },
    {
      "cell_type": "code",
      "metadata": {
        "colab": {
          "base_uri": "https://localhost:8080/"
        },
        "id": "tGTJnLUgdo9L",
        "outputId": "a5526610-b5c2-411d-a898-cecbe9501543"
      },
      "source": [
        "def funcion():\n",
        "  x = 300\n",
        "  def funcion_interna():\n",
        "    print(x)\n",
        "  funcion_interna()\n",
        "\n",
        "funcion()"
      ],
      "execution_count": null,
      "outputs": [
        {
          "output_type": "stream",
          "text": [
            "300\n"
          ],
          "name": "stdout"
        }
      ]
    },
    {
      "cell_type": "markdown",
      "metadata": {
        "id": "mZcSveaFdzjE"
      },
      "source": [
        "### 9.2. Alcance global"
      ]
    },
    {
      "cell_type": "markdown",
      "metadata": {
        "id": "B5ncU6had1Va"
      },
      "source": [
        "Una variable creada en el cuerpo principal del código Python es una variable global y pertenece al ámbito global.\n",
        "\n",
        "Las variables globales están disponibles desde cualquier ámbito, global y local."
      ]
    },
    {
      "cell_type": "code",
      "metadata": {
        "colab": {
          "base_uri": "https://localhost:8080/"
        },
        "id": "OuQW6Abdd7aw",
        "outputId": "19f49576-68db-4157-b31e-0caf98db5bad"
      },
      "source": [
        "x = 300\n",
        "\n",
        "def funcion():\n",
        "  print(f'Ámbito local: {x}')\n",
        "\n",
        "funcion()\n",
        "\n",
        "print(f'Ámbito global: {x}')"
      ],
      "execution_count": null,
      "outputs": [
        {
          "output_type": "stream",
          "text": [
            "Ámbito local: 300\n",
            "Ámbito global: 300\n"
          ],
          "name": "stdout"
        }
      ]
    },
    {
      "cell_type": "markdown",
      "metadata": {
        "id": "xr-cxf0TePEp"
      },
      "source": [
        "Si se crean dos variables, una global y otra local, las dos con el mismo nombre, Python las creará como dos variables distintas"
      ]
    },
    {
      "cell_type": "code",
      "metadata": {
        "colab": {
          "base_uri": "https://localhost:8080/"
        },
        "id": "OoQ5LRdCeWQJ",
        "outputId": "664584c5-6987-4be7-c949-5aec25a2e92f"
      },
      "source": [
        "x = 300\n",
        "\n",
        "def funcion():\n",
        "  x = 200\n",
        "  print(f'Variable local: {x}')\n",
        "\n",
        "funcion()\n",
        "\n",
        "print(f'Variable global: {x}')"
      ],
      "execution_count": null,
      "outputs": [
        {
          "output_type": "stream",
          "text": [
            "Variable local: 200\n",
            "Variable global: 300\n"
          ],
          "name": "stdout"
        }
      ]
    },
    {
      "cell_type": "markdown",
      "metadata": {
        "id": "4XW-fKAqekWk"
      },
      "source": [
        "Si se necesita crear una variable global, pero está declarada en el ámbito local, se puede usar la palabra clave `global`.\n",
        "\n",
        "La palabra clave `global` hace que la variable sea global."
      ]
    },
    {
      "cell_type": "code",
      "metadata": {
        "colab": {
          "base_uri": "https://localhost:8080/"
        },
        "id": "Yz4XH_XCeuvG",
        "outputId": "807c9b51-7be0-468b-c60b-c03ff3cfa635"
      },
      "source": [
        "def funcion():\n",
        "  global x\n",
        "  x = 300\n",
        "\n",
        "funcion()\n",
        "\n",
        "print(f'Variable global: {x}')"
      ],
      "execution_count": null,
      "outputs": [
        {
          "output_type": "stream",
          "text": [
            "Variable global: 300\n"
          ],
          "name": "stdout"
        }
      ]
    },
    {
      "cell_type": "markdown",
      "metadata": {
        "id": "MnidVps1e4aW"
      },
      "source": [
        "Además, el uso de la palabra clave `global` realizar un cambio en una variable global dentro de una función."
      ]
    },
    {
      "cell_type": "code",
      "metadata": {
        "colab": {
          "base_uri": "https://localhost:8080/"
        },
        "id": "aXRWze-8fBGe",
        "outputId": "4bb0acf7-fdc6-49df-8da9-68a11e55344a"
      },
      "source": [
        "x = 300\n",
        "\n",
        "def funcion():\n",
        "  global x\n",
        "  x = 200\n",
        "\n",
        "funcion()\n",
        "\n",
        "print(f'Variable global: {x}')"
      ],
      "execution_count": null,
      "outputs": [
        {
          "output_type": "stream",
          "text": [
            "Variable global: 200\n"
          ],
          "name": "stdout"
        }
      ]
    },
    {
      "cell_type": "markdown",
      "metadata": {
        "id": "tJPg51QvuMlU"
      },
      "source": [
        "## 10. Módulos"
      ]
    },
    {
      "cell_type": "markdown",
      "metadata": {
        "id": "yf23zam7t-Lg"
      },
      "source": [
        "Un módulo es un archivo que contiene un conjunto de funciones que desea incluir en su aplicación.\n",
        "\n",
        "Para crear un módulo, simplemente guarde el código que desea en un archivo con la extensión de archivo `.py`"
      ]
    },
    {
      "cell_type": "markdown",
      "metadata": {
        "id": "bodokLxQum9n"
      },
      "source": [
        "> Tip: En los cuadernos Jupyter (Colab es un cuaderno Jupyter en linea) si escribimos el caracter `!` antes de un comando podremos ejecutar comandos de consola"
      ]
    },
    {
      "cell_type": "markdown",
      "metadata": {
        "id": "f4MUnTfjveqG"
      },
      "source": [
        "Primero vamos a ver en qué directorio estamos, para eso usamos el comando `pwd` (*print working directory*)"
      ]
    },
    {
      "cell_type": "code",
      "metadata": {
        "colab": {
          "base_uri": "https://localhost:8080/"
        },
        "id": "XiIYMT1auMZA",
        "outputId": "6b781b64-d980-45b9-a179-aabaebda92e1"
      },
      "source": [
        "!pwd"
      ],
      "execution_count": null,
      "outputs": [
        {
          "output_type": "stream",
          "text": [
            "/content\n"
          ],
          "name": "stdout"
        }
      ]
    },
    {
      "cell_type": "markdown",
      "metadata": {
        "id": "I2cPPqW_vjSM"
      },
      "source": [
        "A continuación veamos qué archivos hay es nuestro directorio. Esto lo haremos mediante el comando `ls` (*list*)"
      ]
    },
    {
      "cell_type": "code",
      "metadata": {
        "colab": {
          "base_uri": "https://localhost:8080/"
        },
        "id": "QvfMOwOWv9yt",
        "outputId": "bb9da761-9f69-4cf2-b58d-f531c03bf342"
      },
      "source": [
        "!ls /content"
      ],
      "execution_count": null,
      "outputs": [
        {
          "output_type": "stream",
          "text": [
            "sample_data\n"
          ],
          "name": "stdout"
        }
      ]
    },
    {
      "cell_type": "markdown",
      "metadata": {
        "id": "XM9QMP40wAO7"
      },
      "source": [
        "Vemos que solo está la carpeta `sample_data`"
      ]
    },
    {
      "cell_type": "code",
      "metadata": {
        "colab": {
          "base_uri": "https://localhost:8080/"
        },
        "id": "lDigUFvzxJ7w",
        "outputId": "08260130-6b75-4926-b57b-b35868e5f3df"
      },
      "source": [
        "%%writefile modulo.py\n",
        "\n",
        "def funcion_del_modulo(nombre):\n",
        "  print(\"Hola, \" + nombre)"
      ],
      "execution_count": null,
      "outputs": [
        {
          "output_type": "stream",
          "text": [
            "Overwriting modulo.py\n"
          ],
          "name": "stdout"
        }
      ]
    },
    {
      "cell_type": "markdown",
      "metadata": {
        "id": "ycgmlAXYz5kB"
      },
      "source": [
        "Volvemos a ver qué archivos hay en nuestro directorio"
      ]
    },
    {
      "cell_type": "code",
      "metadata": {
        "colab": {
          "base_uri": "https://localhost:8080/"
        },
        "id": "lqNjN4P2z9xD",
        "outputId": "40c3b84d-a0cf-4db9-b346-8547414fed41"
      },
      "source": [
        "!ls /content"
      ],
      "execution_count": null,
      "outputs": [
        {
          "output_type": "stream",
          "text": [
            "modulo.py  sample_data\n"
          ],
          "name": "stdout"
        }
      ]
    },
    {
      "cell_type": "markdown",
      "metadata": {
        "id": "xL72_ziE0BHa"
      },
      "source": [
        "Vemos que se ha creado un archivo `modulo.py`. Ya podemos usarlo"
      ]
    },
    {
      "cell_type": "markdown",
      "metadata": {
        "id": "FXXq5RXm0Kim"
      },
      "source": [
        "Para usar un módulo externo hay que usar la palabra `import`. Para usar las funciones del módulo hay que poner primero el nombre del módulo, un `.` y a continuación el nombre de la función que se quiere usar"
      ]
    },
    {
      "cell_type": "code",
      "metadata": {
        "colab": {
          "base_uri": "https://localhost:8080/"
        },
        "id": "eCBEx9j-0rgT",
        "outputId": "4d4a3234-f746-4eca-f037-3c62178419d1"
      },
      "source": [
        "import modulo\n",
        "\n",
        "modulo.funcion_del_modulo('DeepMaxFN')"
      ],
      "execution_count": null,
      "outputs": [
        {
          "output_type": "stream",
          "text": [
            "Hola, DeepMaxFN\n"
          ],
          "name": "stdout"
        }
      ]
    },
    {
      "cell_type": "markdown",
      "metadata": {
        "id": "pcEpuVJB1H0k"
      },
      "source": [
        "Si queremos que dentro de nuestro código, el módulo tenga un nombre determinado podemos usar la palabra `as`"
      ]
    },
    {
      "cell_type": "code",
      "metadata": {
        "colab": {
          "base_uri": "https://localhost:8080/"
        },
        "id": "WvYwZXaR1bkE",
        "outputId": "da2386b8-6b7e-4527-8c4d-fa99c01918b7"
      },
      "source": [
        "import modulo as mod\n",
        "\n",
        "mod.funcion_del_modulo('DeepMaxFN')"
      ],
      "execution_count": null,
      "outputs": [
        {
          "output_type": "stream",
          "text": [
            "Hola, DeepMaxFN\n"
          ],
          "name": "stdout"
        }
      ]
    },
    {
      "cell_type": "markdown",
      "metadata": {
        "id": "F8cHWotd4tAb"
      },
      "source": [
        "Si el módulo tiene varias funciones, pero solo queremos importar una podemos mediante el uso de las palabras `from` e `import`. La forma sería\n",
        "\n",
        "```\n",
        "from <modulo> import <funcion>\n",
        "```\n",
        "\n",
        "En este caso no hace falta indicar el nombre del módulo al llamar a la función"
      ]
    },
    {
      "cell_type": "code",
      "metadata": {
        "colab": {
          "base_uri": "https://localhost:8080/"
        },
        "id": "QG7YdKOL5c_x",
        "outputId": "def97bb2-024b-47f4-f4a8-9e8bd8ca1663"
      },
      "source": [
        "%%writefile modulo.py\n",
        "\n",
        "def funcion1_del_modulo(nombre):\n",
        "  print(\"Hola, \" + nombre + \", funcion 1\")\n",
        "\n",
        "def funcion2_del_modulo(nombre):\n",
        "  print(\"Hola, \" + nombre + \", funcion 2\")\n",
        "\n",
        "def funcion3_del_modulo(nombre):\n",
        "  print(\"Hola, \" + nombre + \", funcion 3\")"
      ],
      "execution_count": null,
      "outputs": [
        {
          "output_type": "stream",
          "text": [
            "Writing modulo.py\n"
          ],
          "name": "stdout"
        }
      ]
    },
    {
      "cell_type": "code",
      "metadata": {
        "colab": {
          "base_uri": "https://localhost:8080/"
        },
        "id": "NqDFiqTQ7GH2",
        "outputId": "1f7da96c-f04f-4d5a-86b2-a02c03ba87ca"
      },
      "source": [
        "from modulo import funcion2_del_modulo\n",
        "\n",
        "funcion2_del_modulo('DeepMaxFN')"
      ],
      "execution_count": null,
      "outputs": [
        {
          "output_type": "stream",
          "text": [
            "Hola, DeepMaxFN, funcion 2\n"
          ],
          "name": "stdout"
        }
      ]
    },
    {
      "cell_type": "markdown",
      "metadata": {
        "id": "oZHJEo131ibE"
      },
      "source": [
        "No solo podemos usar módulos creados por nosotros, sino módulos ya instalados (`built-in modules`)\n",
        "\n",
        "Por ejemplo podemos usar el módulo `platform`"
      ]
    },
    {
      "cell_type": "code",
      "metadata": {
        "colab": {
          "base_uri": "https://localhost:8080/",
          "height": 35
        },
        "id": "2JsbuJSE1q6y",
        "outputId": "f321713c-cd7b-4685-91af-14b73297089a"
      },
      "source": [
        "import platform\n",
        "\n",
        "x = platform.system()\n",
        "x"
      ],
      "execution_count": null,
      "outputs": [
        {
          "output_type": "execute_result",
          "data": {
            "application/vnd.google.colaboratory.intrinsic+json": {
              "type": "string"
            },
            "text/plain": [
              "'Linux'"
            ]
          },
          "metadata": {
            "tags": []
          },
          "execution_count": 22
        }
      ]
    },
    {
      "cell_type": "markdown",
      "metadata": {
        "id": "fC9B6IWauYAw"
      },
      "source": [
        "## 11. Try... Except"
      ]
    },
    {
      "cell_type": "markdown",
      "metadata": {
        "id": "owAlWRD1ZtCO"
      },
      "source": [
        "Cuando ocurre un error, o una excepción como se llama realmente, Python normalmente se detendrá y generará un mensaje de error.\n",
        "\n",
        "Estas excepciones se pueden manejar usando las declaraciones `try` y `except`"
      ]
    },
    {
      "cell_type": "code",
      "metadata": {
        "colab": {
          "base_uri": "https://localhost:8080/"
        },
        "id": "AUI6Qg3aaKYP",
        "outputId": "ef604c6d-9095-48a4-f9ee-db87ac8eac8d"
      },
      "source": [
        "try:\n",
        "  print(variable_no_declarada)\n",
        "except:\n",
        "  print(\"Ha ocurrido una excepción\")"
      ],
      "execution_count": null,
      "outputs": [
        {
          "output_type": "stream",
          "text": [
            "Ha ocurrido una excepción\n"
          ],
          "name": "stdout"
        }
      ]
    },
    {
      "cell_type": "markdown",
      "metadata": {
        "id": "KsKuO-jtaU2_"
      },
      "source": [
        "Dado que el bloque `try` genera un error, entonces se ejecutará el bloque `except`\n",
        "\n",
        "Sin el bloque `try`, el programa se bloquearía y generaría un error"
      ]
    },
    {
      "cell_type": "markdown",
      "metadata": {
        "id": "BQZ9DUTQamEy"
      },
      "source": [
        "Se pueden definir tantos bloques de excepción como se desee, por ejemplo, si se quiere ejecutar un bloque de código especial para un tipo de error especial"
      ]
    },
    {
      "cell_type": "code",
      "metadata": {
        "colab": {
          "base_uri": "https://localhost:8080/"
        },
        "id": "qCKpdIovaRi6",
        "outputId": "7c7cf3ba-4417-4ea4-b051-5bafa6c8fb35"
      },
      "source": [
        "try:\n",
        "  print(x)\n",
        "except NameError:\n",
        "  print(\"La variable \\'x\\' no está definida\")\n",
        "except:\n",
        "  print(\"Algo inesperado ha ocurrido\")"
      ],
      "execution_count": null,
      "outputs": [
        {
          "output_type": "stream",
          "text": [
            "La variable 'x' no está definida\n"
          ],
          "name": "stdout"
        }
      ]
    },
    {
      "cell_type": "markdown",
      "metadata": {
        "id": "FsVphNKRCWwR"
      },
      "source": [
        "Se puede usar la palabra `else` para indicar el caso en el que no haya ocurrido un error"
      ]
    },
    {
      "cell_type": "code",
      "metadata": {
        "colab": {
          "base_uri": "https://localhost:8080/"
        },
        "id": "6dpskcTUCd_i",
        "outputId": "b63ae903-6d0d-4d2a-d0f2-61fc2b853691"
      },
      "source": [
        "try:\n",
        "  print('DeepMaxFN')\n",
        "except NameError:\n",
        "  print(\"Ha ocurrido una excepción\")\n",
        "else:\n",
        "  print('Todo OK')"
      ],
      "execution_count": null,
      "outputs": [
        {
          "output_type": "stream",
          "text": [
            "DeepMaxFN\n",
            "Todo OK\n"
          ],
          "name": "stdout"
        }
      ]
    },
    {
      "cell_type": "markdown",
      "metadata": {
        "id": "IkJNvojBCvuP"
      },
      "source": [
        "con la palabra `finally` se ejecutará un codigo al final haya ocurrido una excepción o no"
      ]
    },
    {
      "cell_type": "code",
      "metadata": {
        "colab": {
          "base_uri": "https://localhost:8080/"
        },
        "id": "sLpwfN93DAB4",
        "outputId": "1c8906a6-e333-4dec-931f-442dd7ae0dc0"
      },
      "source": [
        "try:\n",
        "  print(x)\n",
        "except:\n",
        "  print(\"Ha ocurrido una excepción\")\n",
        "finally:\n",
        "  print(\"'try except' finallizado\")"
      ],
      "execution_count": null,
      "outputs": [
        {
          "output_type": "stream",
          "text": [
            "Ha ocurrido una excepción\n",
            "'try except' finallizado\n"
          ],
          "name": "stdout"
        }
      ]
    },
    {
      "cell_type": "markdown",
      "metadata": {
        "id": "FT61HhaVDON9"
      },
      "source": [
        "Esto puede resultar útil para cerrar objetos y limpiar recursos"
      ]
    },
    {
      "cell_type": "code",
      "metadata": {
        "colab": {
          "base_uri": "https://localhost:8080/"
        },
        "id": "stmcP5MrDPIK",
        "outputId": "2a3f3b4a-9757-449b-d200-eddf889f24bb"
      },
      "source": [
        "class Clase:\n",
        "  variable = 'DeepMaxFN'\n",
        "\n",
        "objeto = Clase()\n",
        "\n",
        "try:\n",
        "  print(Clase.mi_variable)\n",
        "except:\n",
        "  print(\"Ha ocurrido una excepción\")\n",
        "finally:\n",
        "  del objeto"
      ],
      "execution_count": null,
      "outputs": [
        {
          "output_type": "stream",
          "text": [
            "Ha ocurrido una excepción\n"
          ],
          "name": "stdout"
        }
      ]
    },
    {
      "cell_type": "markdown",
      "metadata": {
        "id": "iUsJ8hjXD3UF"
      },
      "source": [
        "### 11.1. Crear una excepción"
      ]
    },
    {
      "cell_type": "markdown",
      "metadata": {
        "id": "X8OBlS5CD-n4"
      },
      "source": [
        "Como desarrollador de Python, se puede elegir lanzar una excepción si ocurre una condición.\n",
        "\n",
        "Para lanzar (o generar) una excepción, hay que usar la palabra clave `raise`"
      ]
    },
    {
      "cell_type": "code",
      "metadata": {
        "colab": {
          "base_uri": "https://localhost:8080/",
          "height": 313
        },
        "id": "E-_UwgAyEHga",
        "outputId": "b3e915bf-f32e-4361-bb2b-af7c2679cddc"
      },
      "source": [
        "def division(numerador, denominador):\n",
        "  if denominador == 0:\n",
        "    raise Exception(\"El denominador no puede ser 0\")\n",
        "  \n",
        "  return numerador/denominador\n",
        "\n",
        "print(division(10, 0))"
      ],
      "execution_count": null,
      "outputs": [
        {
          "output_type": "error",
          "ename": "Exception",
          "evalue": "ignored",
          "traceback": [
            "\u001b[0;31m---------------------------------------------------------------------------\u001b[0m",
            "\u001b[0;31mException\u001b[0m                                 Traceback (most recent call last)",
            "\u001b[0;32m<ipython-input-9-33fb6066fa78>\u001b[0m in \u001b[0;36m<module>\u001b[0;34m()\u001b[0m\n\u001b[1;32m      5\u001b[0m   \u001b[0;32mreturn\u001b[0m \u001b[0mnumerador\u001b[0m\u001b[0;34m/\u001b[0m\u001b[0mdenominador\u001b[0m\u001b[0;34m\u001b[0m\u001b[0;34m\u001b[0m\u001b[0m\n\u001b[1;32m      6\u001b[0m \u001b[0;34m\u001b[0m\u001b[0m\n\u001b[0;32m----> 7\u001b[0;31m \u001b[0mprint\u001b[0m\u001b[0;34m(\u001b[0m\u001b[0mdivision\u001b[0m\u001b[0;34m(\u001b[0m\u001b[0;36m10\u001b[0m\u001b[0;34m,\u001b[0m \u001b[0;36m0\u001b[0m\u001b[0;34m)\u001b[0m\u001b[0;34m)\u001b[0m\u001b[0;34m\u001b[0m\u001b[0;34m\u001b[0m\u001b[0m\n\u001b[0m",
            "\u001b[0;32m<ipython-input-9-33fb6066fa78>\u001b[0m in \u001b[0;36mdivision\u001b[0;34m(numerador, denominador)\u001b[0m\n\u001b[1;32m      1\u001b[0m \u001b[0;32mdef\u001b[0m \u001b[0mdivision\u001b[0m\u001b[0;34m(\u001b[0m\u001b[0mnumerador\u001b[0m\u001b[0;34m,\u001b[0m \u001b[0mdenominador\u001b[0m\u001b[0;34m)\u001b[0m\u001b[0;34m:\u001b[0m\u001b[0;34m\u001b[0m\u001b[0;34m\u001b[0m\u001b[0m\n\u001b[1;32m      2\u001b[0m   \u001b[0;32mif\u001b[0m \u001b[0mdenominador\u001b[0m \u001b[0;34m==\u001b[0m \u001b[0;36m0\u001b[0m\u001b[0;34m:\u001b[0m\u001b[0;34m\u001b[0m\u001b[0;34m\u001b[0m\u001b[0m\n\u001b[0;32m----> 3\u001b[0;31m     \u001b[0;32mraise\u001b[0m \u001b[0mException\u001b[0m\u001b[0;34m(\u001b[0m\u001b[0;34m\"El denominador no puede ser 0\"\u001b[0m\u001b[0;34m)\u001b[0m\u001b[0;34m\u001b[0m\u001b[0;34m\u001b[0m\u001b[0m\n\u001b[0m\u001b[1;32m      4\u001b[0m \u001b[0;34m\u001b[0m\u001b[0m\n\u001b[1;32m      5\u001b[0m   \u001b[0;32mreturn\u001b[0m \u001b[0mnumerador\u001b[0m\u001b[0;34m/\u001b[0m\u001b[0mdenominador\u001b[0m\u001b[0;34m\u001b[0m\u001b[0;34m\u001b[0m\u001b[0m\n",
            "\u001b[0;31mException\u001b[0m: El denominador no puede ser 0"
          ]
        }
      ]
    },
    {
      "cell_type": "markdown",
      "metadata": {
        "id": "AQI9R9XHEj8T"
      },
      "source": [
        "Se puede definir qué tipo de error generar y el texto que se imprimirá al usuario"
      ]
    },
    {
      "cell_type": "code",
      "metadata": {
        "colab": {
          "base_uri": "https://localhost:8080/",
          "height": 313
        },
        "id": "uGsrokRdEoiY",
        "outputId": "5b03435f-91d5-4810-a89b-160c1739527a"
      },
      "source": [
        "def division(numerador, denominador):\n",
        "  if denominador == 0:\n",
        "    raise TypeError(\"El denominador no puede ser 0\")\n",
        "  \n",
        "  return numerador/denominador\n",
        "\n",
        "print(division(10, 0))"
      ],
      "execution_count": null,
      "outputs": [
        {
          "output_type": "error",
          "ename": "TypeError",
          "evalue": "ignored",
          "traceback": [
            "\u001b[0;31m---------------------------------------------------------------------------\u001b[0m",
            "\u001b[0;31mTypeError\u001b[0m                                 Traceback (most recent call last)",
            "\u001b[0;32m<ipython-input-10-26bfa63ae44c>\u001b[0m in \u001b[0;36m<module>\u001b[0;34m()\u001b[0m\n\u001b[1;32m      5\u001b[0m   \u001b[0;32mreturn\u001b[0m \u001b[0mnumerador\u001b[0m\u001b[0;34m/\u001b[0m\u001b[0mdenominador\u001b[0m\u001b[0;34m\u001b[0m\u001b[0;34m\u001b[0m\u001b[0m\n\u001b[1;32m      6\u001b[0m \u001b[0;34m\u001b[0m\u001b[0m\n\u001b[0;32m----> 7\u001b[0;31m \u001b[0mprint\u001b[0m\u001b[0;34m(\u001b[0m\u001b[0mdivision\u001b[0m\u001b[0;34m(\u001b[0m\u001b[0;36m10\u001b[0m\u001b[0;34m,\u001b[0m \u001b[0;36m0\u001b[0m\u001b[0;34m)\u001b[0m\u001b[0;34m)\u001b[0m\u001b[0;34m\u001b[0m\u001b[0;34m\u001b[0m\u001b[0m\n\u001b[0m",
            "\u001b[0;32m<ipython-input-10-26bfa63ae44c>\u001b[0m in \u001b[0;36mdivision\u001b[0;34m(numerador, denominador)\u001b[0m\n\u001b[1;32m      1\u001b[0m \u001b[0;32mdef\u001b[0m \u001b[0mdivision\u001b[0m\u001b[0;34m(\u001b[0m\u001b[0mnumerador\u001b[0m\u001b[0;34m,\u001b[0m \u001b[0mdenominador\u001b[0m\u001b[0;34m)\u001b[0m\u001b[0;34m:\u001b[0m\u001b[0;34m\u001b[0m\u001b[0;34m\u001b[0m\u001b[0m\n\u001b[1;32m      2\u001b[0m   \u001b[0;32mif\u001b[0m \u001b[0mdenominador\u001b[0m \u001b[0;34m==\u001b[0m \u001b[0;36m0\u001b[0m\u001b[0;34m:\u001b[0m\u001b[0;34m\u001b[0m\u001b[0;34m\u001b[0m\u001b[0m\n\u001b[0;32m----> 3\u001b[0;31m     \u001b[0;32mraise\u001b[0m \u001b[0mTypeError\u001b[0m\u001b[0;34m(\u001b[0m\u001b[0;34m\"El denominador no puede ser 0\"\u001b[0m\u001b[0;34m)\u001b[0m\u001b[0;34m\u001b[0m\u001b[0;34m\u001b[0m\u001b[0m\n\u001b[0m\u001b[1;32m      4\u001b[0m \u001b[0;34m\u001b[0m\u001b[0m\n\u001b[1;32m      5\u001b[0m   \u001b[0;32mreturn\u001b[0m \u001b[0mnumerador\u001b[0m\u001b[0;34m/\u001b[0m\u001b[0mdenominador\u001b[0m\u001b[0;34m\u001b[0m\u001b[0;34m\u001b[0m\u001b[0m\n",
            "\u001b[0;31mTypeError\u001b[0m: El denominador no puede ser 0"
          ]
        }
      ]
    },
    {
      "cell_type": "markdown",
      "metadata": {
        "id": "fnEyOi1aruhy"
      },
      "source": [
        "## 12. Keywords o palabras reservadas"
      ]
    },
    {
      "cell_type": "markdown",
      "metadata": {
        "id": "0qaztqtCryFr"
      },
      "source": [
        "Durante este post en varias ocasiones han aparecido palabras reservadas de Python o `keyword`s, estas son una serie de palabras reservadas por Python\n",
        "\n",
        "A continuación se muestra una lista de las `keyword`s "
      ]
    },
    {
      "cell_type": "code",
      "metadata": {
        "colab": {
          "base_uri": "https://localhost:8080/"
        },
        "id": "ZkzFDewdsMct",
        "outputId": "27718104-7d17-4cdd-ba02-2b513ae8eb10"
      },
      "source": [
        "import keyword\n",
        "\n",
        "keyword.kwlist"
      ],
      "execution_count": null,
      "outputs": [
        {
          "output_type": "execute_result",
          "data": {
            "text/plain": [
              "['False',\n",
              " 'None',\n",
              " 'True',\n",
              " 'and',\n",
              " 'as',\n",
              " 'assert',\n",
              " 'break',\n",
              " 'class',\n",
              " 'continue',\n",
              " 'def',\n",
              " 'del',\n",
              " 'elif',\n",
              " 'else',\n",
              " 'except',\n",
              " 'finally',\n",
              " 'for',\n",
              " 'from',\n",
              " 'global',\n",
              " 'if',\n",
              " 'import',\n",
              " 'in',\n",
              " 'is',\n",
              " 'lambda',\n",
              " 'nonlocal',\n",
              " 'not',\n",
              " 'or',\n",
              " 'pass',\n",
              " 'raise',\n",
              " 'return',\n",
              " 'try',\n",
              " 'while',\n",
              " 'with',\n",
              " 'yield']"
            ]
          },
          "metadata": {
            "tags": []
          },
          "execution_count": 1
        }
      ]
    }
  ]
}